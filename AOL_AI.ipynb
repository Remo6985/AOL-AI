{
  "nbformat": 4,
  "nbformat_minor": 0,
  "metadata": {
    "colab": {
      "provenance": [],
      "gpuType": "T4",
      "authorship_tag": "ABX9TyMrj8zco6iYkCAw9hQDqK11",
      "include_colab_link": true
    },
    "kernelspec": {
      "name": "python3",
      "display_name": "Python 3"
    },
    "language_info": {
      "name": "python"
    },
    "accelerator": "GPU"
  },
  "cells": [
    {
      "cell_type": "markdown",
      "metadata": {
        "id": "view-in-github",
        "colab_type": "text"
      },
      "source": [
        "<a href=\"https://colab.research.google.com/github/Remo6985/AOL-AI/blob/main/AOL_AI.ipynb\" target=\"_parent\"><img src=\"https://colab.research.google.com/assets/colab-badge.svg\" alt=\"Open In Colab\"/></a>"
      ]
    },
    {
      "cell_type": "code",
      "execution_count": 2,
      "metadata": {
        "id": "ZaAENuaDPQBJ"
      },
      "outputs": [],
      "source": [
        "from google.colab import drive\n",
        "from sklearn.model_selection import KFold\n",
        "import os\n",
        "import shutil\n",
        "from glob import glob\n",
        "import numpy as np"
      ]
    },
    {
      "cell_type": "code",
      "source": [
        "# Mount Google Drive\n",
        "drive.mount('/content/gdrive')\n",
        "\n",
        "# Unzip dataset\n",
        "!scp '/content/gdrive/My Drive/AOL AI/AOL AI.zip' '/content/AOL AI.zip'\n",
        "!unzip '/content/AOL AI.zip' -d '/content/'"
      ],
      "metadata": {
        "id": "NKYAX3ciP438"
      },
      "execution_count": null,
      "outputs": []
    },
    {
      "cell_type": "code",
      "source": [
        "# Install YOLOv8\n",
        "!pip install ultralytics\n",
        "\n",
        "from ultralytics import YOLO"
      ],
      "metadata": {
        "collapsed": true,
        "id": "3i5F2zfDP8px"
      },
      "execution_count": null,
      "outputs": []
    },
    {
      "cell_type": "code",
      "source": [
        "# Define dataset path\n",
        "dataset_path = \"/content/AOL AI/\"\n",
        "num_folds = 3  # Number of folds for cross-validation\n",
        "\n",
        "# Gather all class folders from train/\n",
        "class_folders = [os.path.join(dataset_path, \"train\", class_dir) for class_dir in os.listdir(os.path.join(dataset_path, \"train\")) if os.path.isdir(os.path.join(dataset_path, \"train\", class_dir))]\n",
        "\n",
        "# Gather all images from train/\n",
        "all_images = []\n",
        "for class_folder in class_folders:\n",
        "    class_images = glob(os.path.join(class_folder, \"*\"))  # All images in this class folder\n",
        "    all_images.extend(class_images)\n",
        "\n",
        "print(f\"Total images: {len(all_images)}\")\n",
        "print(f\"Classes: {[os.path.basename(folder) for folder in class_folders]}\")"
      ],
      "metadata": {
        "colab": {
          "base_uri": "https://localhost:8080/"
        },
        "id": "UdES5uVpQA-U",
        "outputId": "a71f0f9f-ebff-4f84-8deb-ff75b6962d65"
      },
      "execution_count": 5,
      "outputs": [
        {
          "output_type": "stream",
          "name": "stdout",
          "text": [
            "Total images: 950\n",
            "Classes: ['Ectomorph', 'Endomorph', 'Mesomorph']\n"
          ]
        }
      ]
    },
    {
      "cell_type": "code",
      "source": [
        "# Set up K-Fold Cross-Validation\n",
        "kf = KFold(n_splits=num_folds, shuffle=True, random_state=42)\n",
        "\n",
        "fold = 1\n",
        "fold_accuracies = []  # To store accuracy for each fold"
      ],
      "metadata": {
        "id": "zJvytpOwQFQe"
      },
      "execution_count": 6,
      "outputs": []
    },
    {
      "cell_type": "code",
      "source": [
        "for train_idx, val_idx in kf.split(all_images):\n",
        "    print(f\"Processing Fold {fold}...\")\n",
        "\n",
        "    # Create directories for this fold\n",
        "    fold_dir = f\"/content/AOL_AI_fold_{fold}\"\n",
        "    train_dir = os.path.join(fold_dir, \"train\")\n",
        "    val_dir = os.path.join(fold_dir, \"val\")\n",
        "    os.makedirs(train_dir, exist_ok=True)\n",
        "    os.makedirs(val_dir, exist_ok=True)\n",
        "\n",
        "    # Split data into train and validation sets\n",
        "    train_images = [all_images[i] for i in train_idx]\n",
        "    val_images = [all_images[i] for i in val_idx]\n",
        "\n",
        "    # Move train images to train/ preserving class structure\n",
        "    for img in train_images:\n",
        "        class_name = os.path.basename(os.path.dirname(img))  # Extract class name from folder structure\n",
        "        class_train_dir = os.path.join(train_dir, class_name)\n",
        "        os.makedirs(class_train_dir, exist_ok=True)\n",
        "        shutil.copy(img, class_train_dir)\n",
        "\n",
        "    # Move validation images to val/ preserving class structure\n",
        "    for img in val_images:\n",
        "        class_name = os.path.basename(os.path.dirname(img))  # Extract class name from folder structure\n",
        "        class_val_dir = os.path.join(val_dir, class_name)\n",
        "        os.makedirs(class_val_dir, exist_ok=True)\n",
        "        shutil.copy(img, class_val_dir)\n",
        "\n",
        "    # Train YOLOv8 Model\n",
        "    model = YOLO(\"yolov8n-cls.pt\")  # Classification model\n",
        "    fold_results = model.train(\n",
        "        data='/content/AOL AI/',  # Pass the YAML file path\n",
        "        epochs=100,\n",
        "        imgsz=640,\n",
        "        batch=16,\n",
        "        patience=10,  # Early stopping\n",
        "        optimizer=\"SGD\",\n",
        "        lr0=0.01,\n",
        "        weight_decay=1e-4,\n",
        "        augment=True,\n",
        "    )\n",
        "\n",
        "    # Extract accuracy for the current fold\n",
        "    accuracy = fold_results.top1  # Replace with the correct metric key\n",
        "    fold_accuracies.append(accuracy)\n",
        "\n",
        "    print(f\"Fold {fold} Accuracy: {accuracy:.2f}\")\n",
        "    fold += 1\n"
      ],
      "metadata": {
        "id": "eV04znGfTJDB"
      },
      "execution_count": null,
      "outputs": []
    },
    {
      "cell_type": "code",
      "source": [
        "# Compute mean and standard deviation of accuracies\n",
        "mean_accuracy = np.mean(fold_accuracies)\n",
        "std_accuracy = np.std(fold_accuracies)\n",
        "\n",
        "# Print aggregated results\n",
        "print(f\"Cross-Validation Accuracies: {fold_accuracies}\")\n",
        "print(f\"Mean Accuracy: {mean_accuracy:.2f}\")\n",
        "print(f\"Standard Deviation: {std_accuracy:.2f}\")\n"
      ],
      "metadata": {
        "colab": {
          "base_uri": "https://localhost:8080/"
        },
        "id": "oNd8ZkMqSZkD",
        "outputId": "2f75eeda-1a87-4630-e6fc-b5a046050dff"
      },
      "execution_count": 11,
      "outputs": [
        {
          "output_type": "stream",
          "name": "stdout",
          "text": [
            "Cross-Validation Accuracies: [0.9032257795333862, 0.9032257795333862, 0.9032257795333862]\n",
            "Mean Accuracy: 0.90\n",
            "Standard Deviation: 0.00\n"
          ]
        }
      ]
    },
    {
      "cell_type": "code",
      "source": [
        "!scp -r /content/runs '/content/gdrive/My Drive/AOL AI'"
      ],
      "metadata": {
        "id": "LO__T_aiAwsj"
      },
      "execution_count": 12,
      "outputs": []
    }
  ]
}