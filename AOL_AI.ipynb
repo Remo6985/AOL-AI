{
  "nbformat": 4,
  "nbformat_minor": 0,
  "metadata": {
    "colab": {
      "provenance": [],
      "gpuType": "T4",
      "authorship_tag": "ABX9TyMrj8zco6iYkCAw9hQDqK11",
      "include_colab_link": true
    },
    "kernelspec": {
      "name": "python3",
      "display_name": "Python 3"
    },
    "language_info": {
      "name": "python"
    },
    "accelerator": "GPU"
  },
  "cells": [
    {
      "cell_type": "markdown",
      "metadata": {
        "id": "view-in-github",
        "colab_type": "text"
      },
      "source": [
        "<a href=\"https://colab.research.google.com/github/Remo6985/AOL-AI/blob/main/AOL_AI.ipynb\" target=\"_parent\"><img src=\"https://colab.research.google.com/assets/colab-badge.svg\" alt=\"Open In Colab\"/></a>"
      ]
    },
    {
      "cell_type": "code",
      "execution_count": 2,
      "metadata": {
        "id": "ZaAENuaDPQBJ"
      },
      "outputs": [],
      "source": [
        "from google.colab import drive\n",
        "from sklearn.model_selection import KFold\n",
        "import os\n",
        "import shutil\n",
        "from glob import glob\n",
        "import numpy as np"
      ]
    },
    {
      "cell_type": "code",
      "source": [
        "# Mount Google Drive\n",
        "drive.mount('/content/gdrive')\n",
        "\n",
        "# Unzip dataset\n",
        "!scp '/content/gdrive/My Drive/AOL AI/AOL AI.zip' '/content/AOL AI.zip'\n",
        "!unzip '/content/AOL AI.zip' -d '/content/'"
      ],
      "metadata": {
        "colab": {
          "base_uri": "https://localhost:8080/"
        },
        "collapsed": true,
        "id": "NKYAX3ciP438",
        "outputId": "b5ef6e3f-79a7-4093-93d6-f629dbbf18af"
      },
      "execution_count": 3,
      "outputs": [
        {
          "output_type": "stream",
          "name": "stdout",
          "text": [
            "Mounted at /content/gdrive\n",
            "Archive:  /content/AOL AI.zip\n",
            "   creating: /content/AOL AI/\n",
            "   creating: /content/AOL AI/test/\n",
            "   creating: /content/AOL AI/test/Ectomorph/\n",
            "  inflating: /content/AOL AI/test/Ectomorph/-User-00-Ectomorph-10-_png_jpg.rf.4b7f0eeacfb7aa53635d2becbfd24bab.jpg  \n",
            "  inflating: /content/AOL AI/test/Ectomorph/-User-00-Ectomorph-12-_jpg.rf.51b76c781df0ab9a3724360f18c3181d.jpg  \n",
            "  inflating: /content/AOL AI/test/Ectomorph/-User-00-Ectomorph-21-_png_jpg.rf.a50c234bac2ed5a606ded7ef3a1710fe.jpg  \n",
            "  inflating: /content/AOL AI/test/Ectomorph/-User-00-Ectomorph-24-_png_jpg.rf.14e0d93788df08bc3d721035be89cc11.jpg  \n",
            "  inflating: /content/AOL AI/test/Ectomorph/-User-00-Ectomorph-25-_png_jpg.rf.9f54d4001e4be7476b0c7a1d6ff60dcb.jpg  \n",
            "  inflating: /content/AOL AI/test/Ectomorph/-User-00-Ectomorph-27-_png_jpg.rf.a3aadc437f2e672be4cd6a3784f65888.jpg  \n",
            "  inflating: /content/AOL AI/test/Ectomorph/-User-00-Ectomorph-29-_png_jpg.rf.73922fa2cc3dc9500de2493246c02cf5.jpg  \n",
            "  inflating: /content/AOL AI/test/Ectomorph/-User-00-Ectomorph-3-_png_jpg.rf.b9922ff6131d73fccffbfcdd4c81c957.jpg  \n",
            "  inflating: /content/AOL AI/test/Ectomorph/-User-00-Ectomorph-4-_png_jpg.rf.ed56d738a330908912dc47e12e4a5e5f.jpg  \n",
            "  inflating: /content/AOL AI/test/Ectomorph/-User-00-Ectomorph-8-_png_jpg.rf.e0af68d68b177b4a24c69310d3b3b270.jpg  \n",
            "  inflating: /content/AOL AI/test/Ectomorph/-User-00-Ectomorph-JDL-6-_png_jpg.rf.4514fd76d1edd7a210dea608b1cd2d48.jpg  \n",
            "  inflating: /content/AOL AI/test/Ectomorph/0209_00_jpg.rf.24b422506653983a343a300aeba8b829.jpg  \n",
            "  inflating: /content/AOL AI/test/Ectomorph/0209_00_jpg.rf.53648da496ef5a6660c8b5a6df9b507c.jpg  \n",
            "  inflating: /content/AOL AI/test/Ectomorph/0209_00_jpg.rf.7b4615ed4ac9e0ee695f4f900022c0b7.jpg  \n",
            "  inflating: /content/AOL AI/test/Ectomorph/0362_00_jpg.rf.34e7088792195d9a5f4bd2deafbeb593.jpg  \n",
            "  inflating: /content/AOL AI/test/Ectomorph/0_Dh82xjiPQ_jpg.rf.8821252c1378287e4a88b91ca5b88502.jpg  \n",
            "  inflating: /content/AOL AI/test/Ectomorph/0_Dh82xjiPQ_jpg.rf.dfe78d42e02a9e7f81fe39bc1438801e.jpg  \n",
            "  inflating: /content/AOL AI/test/Ectomorph/0_Dh82xjiPQ_jpg.rf.ec338e6a6dbcac05397cd4d9ea79d9ad.jpg  \n",
            "  inflating: /content/AOL AI/test/Ectomorph/168_jpg.rf.5713070ace827f5bef2f5999afbc2ba3.jpg  \n",
            "  inflating: /content/AOL AI/test/Ectomorph/1_jpg.rf.566b04d9cb52f0051107368acac2c57b.jpg  \n",
            "  inflating: /content/AOL AI/test/Ectomorph/20000_jpg.rf.f83c2cb42869ebd26acce29a4783b453.jpg  \n",
            "  inflating: /content/AOL AI/test/Ectomorph/2000_jpeg_jpg.rf.5f0857b91bc5a405de32120a34f283f4.jpg  \n",
            "  inflating: /content/AOL AI/test/Ectomorph/2002_jpeg_jpg.rf.ab06c3cd0be1c0ad174852755f9c4602.jpg  \n",
            "  inflating: /content/AOL AI/test/Ectomorph/2011_jpg.rf.0ac7360ecadccf0042543ce958686ab0.jpg  \n",
            "  inflating: /content/AOL AI/test/Ectomorph/2011_jpg.rf.68623895bff0bbfe768ecb6d2a6ecc2e.jpg  \n",
            "  inflating: /content/AOL AI/test/Ectomorph/2011_jpg.rf.e191f4bbd5aa51c64d5c5c983ab07c19.jpg  \n",
            "  inflating: /content/AOL AI/test/Ectomorph/2015_jpg.rf.725bb79780fe6ff962bf2aefed7f113e.jpg  \n",
            "  inflating: /content/AOL AI/test/Ectomorph/2015_jpg.rf.c824be39f37992b4efe07b344c351670.jpg  \n",
            "  inflating: /content/AOL AI/test/Ectomorph/2015_jpg.rf.f460d62df191f2f116be13095d4adcb8.jpg  \n",
            "  inflating: /content/AOL AI/test/Ectomorph/2016-04-19_170531_nasimke_ru_e1-spaces-im_jpg.rf.59db04b2dcf6f9d247910fef4979faf5.jpg  \n",
            "  inflating: /content/AOL AI/test/Ectomorph/2016-04-19_170531_nasimke_ru_e1-spaces-im_jpg.rf.66fb0bec3ada087aba99014af1d22459.jpg  \n",
            "  inflating: /content/AOL AI/test/Ectomorph/2016-04-19_170531_nasimke_ru_e1-spaces-im_jpg.rf.915d3a0a14f3a8e56f132b1ec1c992b6.jpg  \n",
            "  inflating: /content/AOL AI/test/Ectomorph/2018_jpg.rf.ab860235ed27b3c2296a70b09622306f.jpg  \n",
            "  inflating: /content/AOL AI/test/Ectomorph/2022_jpg.rf.11cf0d7ddec5dec337089b8a881f44b9.jpg  \n",
            "  inflating: /content/AOL AI/test/Ectomorph/2022_jpg.rf.63eb82dfc592989823ad4e515262ef5a.jpg  \n",
            "  inflating: /content/AOL AI/test/Ectomorph/2022_jpg.rf.904f888b572a006b5c4d1a4d4e47b207.jpg  \n",
            "  inflating: /content/AOL AI/test/Ectomorph/2029_jpg.rf.1bb4d506cf4d6a44964bd88eccf49635.jpg  \n",
            "  inflating: /content/AOL AI/test/Ectomorph/2030_jpg.rf.46937be3677967f8a8e6f8335dc7df43.jpg  \n",
            "  inflating: /content/AOL AI/test/Ectomorph/2030_jpg.rf.7dd336e29cdbd5250e99bfd367dc8011.jpg  \n",
            "  inflating: /content/AOL AI/test/Ectomorph/2030_jpg.rf.9ca0441f9d5c7da5cb73e9ef6239dcfc.jpg  \n",
            "  inflating: /content/AOL AI/test/Ectomorph/2031_jpg.rf.e0f96b33bbf848ddf2a451873e654e18.jpg  \n",
            "  inflating: /content/AOL AI/test/Ectomorph/2031_jpg.rf.eb4bf43bcaaf146810cc432e5a9852c6.jpg  \n",
            "  inflating: /content/AOL AI/test/Ectomorph/2031_jpg.rf.f98267e4727ec70441f06bfad16114e3.jpg  \n",
            "  inflating: /content/AOL AI/test/Ectomorph/2035_jpg.rf.5d92ae00047ea9164a932cf503b61afe.jpg  \n",
            "  inflating: /content/AOL AI/test/Ectomorph/208_jpg.rf.827a4851dccd21dddfdfaebbc7a3bf87.jpg  \n",
            "  inflating: /content/AOL AI/test/Ectomorph/214_jpg.rf.775ead7db07d1a98f5a8bb0d6190cf46.jpg  \n",
            "  inflating: /content/AOL AI/test/Ectomorph/3049_jpg.rf.235ace83f8fd30845c8a755bbd0266e3.jpg  \n",
            "  inflating: /content/AOL AI/test/Ectomorph/3049_jpg.rf.ce287c909a6a9198c95982b25aa7d26b.jpg  \n",
            "  inflating: /content/AOL AI/test/Ectomorph/3049_jpg.rf.e6089d23e12b68249503ffa42911a32f.jpg  \n",
            "  inflating: /content/AOL AI/test/Ectomorph/3054_jpg.rf.28b1acf415c3c9fccc3bba4efb6bd48a.jpg  \n",
            "  inflating: /content/AOL AI/test/Ectomorph/3058_jpg.rf.603d968235bb4ba648cd7f195c14870d.jpg  \n",
            "  inflating: /content/AOL AI/test/Ectomorph/3058_jpg.rf.693869c723584be1c1e1bcafd7238dcd.jpg  \n",
            "  inflating: /content/AOL AI/test/Ectomorph/3058_jpg.rf.c1e5a1414f24c2fd3936c70af5f95a77.jpg  \n",
            "  inflating: /content/AOL AI/test/Ectomorph/422_1000_jpg.rf.57da4a4be082fe1460972cdea92eaf15.jpg  \n",
            "  inflating: /content/AOL AI/test/Ectomorph/422_1000_jpg.rf.b7eb20c6a2a3624de31cfd97db3d871e.jpg  \n",
            "  inflating: /content/AOL AI/test/Ectomorph/422_1000_jpg.rf.b9ff2e027c9b22f81d6ad81900a58bea.jpg  \n",
            "  inflating: /content/AOL AI/test/Ectomorph/532_1000_jpg.rf.70e1ed5ae4f18933247e9d91d0a25687.jpg  \n",
            "  inflating: /content/AOL AI/test/Ectomorph/532_1000_jpg.rf.c7feab93ba2ec56dd8a15b8ceaf30101.jpg  \n",
            "  inflating: /content/AOL AI/test/Ectomorph/532_1000_jpg.rf.d1df833ef4faa7bec9c2853c3e786184.jpg  \n",
            "  inflating: /content/AOL AI/test/Ectomorph/54_jpg.rf.e1314b614dfa47bdf1a8568589660dfb.jpg  \n",
            "  inflating: /content/AOL AI/test/Ectomorph/56_jpg.rf.36ca5cde0a5229031db0a06882a3adb5.jpg  \n",
            "  inflating: /content/AOL AI/test/Ectomorph/57_jpg.rf.48977170e749460b6f6e751ace6f815f.jpg  \n",
            "  inflating: /content/AOL AI/test/Ectomorph/668_jpg.rf.391a43447d97d68ab044b45accf9b99b.jpg  \n",
            "  inflating: /content/AOL AI/test/Ectomorph/709_jpg.rf.e0410aaea5be05d9572aa262985db2e7.jpg  \n",
            "  inflating: /content/AOL AI/test/Ectomorph/70_jpg.rf.85f163be1663d81e1c36f9cdbf38788b.jpg  \n",
            "  inflating: /content/AOL AI/test/Ectomorph/72_jpeg.rf.00bfbdedf61bac55e900d01a9fa5775f.jpg  \n",
            "  inflating: /content/AOL AI/test/Ectomorph/73_jpg.rf.8fe2151d34434ba3929f12ab949a15fb.jpg  \n",
            "  inflating: /content/AOL AI/test/Ectomorph/746_1000_jpg.rf.649dfc2f364d87022e5839c41b9423dd.jpg  \n",
            "  inflating: /content/AOL AI/test/Ectomorph/746_1000_jpg.rf.70bc1642fa5719f6bb240df408a76b5d.jpg  \n",
            "  inflating: /content/AOL AI/test/Ectomorph/746_1000_jpg.rf.ab3722972e46242a5f1a6b008a01c039.jpg  \n",
            "  inflating: /content/AOL AI/test/Ectomorph/74_jpg.rf.6161aeaf8bce6bc2dbfd0debfa3b0b9e.jpg  \n",
            "  inflating: /content/AOL AI/test/Ectomorph/751_jpg.rf.236c65e3cf81ebcfe2ca41c7945da0cd.jpg  \n",
            "  inflating: /content/AOL AI/test/Ectomorph/759_jpg.rf.82ee51c12144aac374fdc70c522b2b8c.jpg  \n",
            "  inflating: /content/AOL AI/test/Ectomorph/760_jpg.rf.2f05139c6868375051081a302c6379e9.jpg  \n",
            "  inflating: /content/AOL AI/test/Ectomorph/761_1000_jpg.rf.47038222121ee9f32e43f25898793706.jpg  \n",
            "  inflating: /content/AOL AI/test/Ectomorph/761_1000_jpg.rf.c64f51e5f7c5761b51afc563253231be.jpg  \n",
            "  inflating: /content/AOL AI/test/Ectomorph/761_1000_jpg.rf.d4d8f8ad04f9e6c5b487c4edc6bb64b8.jpg  \n",
            "  inflating: /content/AOL AI/test/Ectomorph/767_jpg.rf.96c8eb41683999aa269d6e99906aa1fd.jpg  \n",
            "  inflating: /content/AOL AI/test/Ectomorph/768_jpg.rf.3b15fb7984dc3c1a4ceda2bfb2b4ed2a.jpg  \n",
            "  inflating: /content/AOL AI/test/Ectomorph/769_jpg.rf.52227db652609229e069323f48dfecd5.jpg  \n",
            "  inflating: /content/AOL AI/test/Ectomorph/771_jpg.rf.581a69cfe8f41867125cd2302ce25478.jpg  \n",
            "  inflating: /content/AOL AI/test/Ectomorph/774_jpg.rf.128e36de780d71ea4dba1dc175ecd0a1.jpg  \n",
            "  inflating: /content/AOL AI/test/Ectomorph/775_jpg.rf.cc32e3ad9c03fa29b0914ce6da24dc49.jpg  \n",
            "  inflating: /content/AOL AI/test/Ectomorph/776_jpg.rf.056ad8c7a9408972c1ee7983d1e02747.jpg  \n",
            "  inflating: /content/AOL AI/test/Ectomorph/785_jpg.rf.6f1b66aa51fe810eb3e94952b9cc7dfc.jpg  \n",
            "  inflating: /content/AOL AI/test/Ectomorph/820_jpg.rf.d84e73f2f6bdb5c738cd3be626c804e8.jpg  \n",
            "  inflating: /content/AOL AI/test/Ectomorph/826_jpg.rf.37bf317a43c3fb95a7771a9851109b8c.jpg  \n",
            "  inflating: /content/AOL AI/test/Ectomorph/828_jpg.rf.4b50876d206a2f4bf50eec82e471c23b.jpg  \n",
            "  inflating: /content/AOL AI/test/Ectomorph/836_jpg.rf.022d47aa1e4d1f75d9b07371f8c80ded.jpg  \n",
            "  inflating: /content/AOL AI/test/Ectomorph/841_jpg.rf.ed71252ec9c27fd86aee993db9377e96.jpg  \n",
            "  inflating: /content/AOL AI/test/Ectomorph/846_jpg.rf.4f582418964e25326b206369cdc89c5a.jpg  \n",
            "  inflating: /content/AOL AI/test/Ectomorph/851_jpg.rf.f64cc9ed811ea4b0d209dbc759a0a060.jpg  \n",
            "  inflating: /content/AOL AI/test/Ectomorph/873_jpg.rf.f6b67ee46d4adcba030e447d49c5b102.jpg  \n",
            "  inflating: /content/AOL AI/test/Ectomorph/905_jpg.rf.761368e42906a44587f1da28b1a99cd4.jpg  \n",
            "  inflating: /content/AOL AI/test/Ectomorph/906_jpg.rf.d486687684ac916158a23826ca232ff1.jpg  \n",
            "  inflating: /content/AOL AI/test/Ectomorph/912_jpg.rf.e33ce33e007bf6ce3da91864c372571c.jpg  \n",
            "  inflating: /content/AOL AI/test/Ectomorph/936_jpg.rf.15f7acfd3584018305d4b74ba37844fb.jpg  \n",
            "  inflating: /content/AOL AI/test/Ectomorph/93_jpg.rf.641858c9f7150986a449dbdf2b27f25d.jpg  \n",
            "  inflating: /content/AOL AI/test/Ectomorph/9ace87342a1329eb4ae69faa75977249_big_jpg.rf.c1b60a4078e1f8cdf11b839318f245a1.jpg  \n",
            "  inflating: /content/AOL AI/test/Ectomorph/Ectomorph08_png_jpg.rf.161102f3b0464a10eed2e802587e920e.jpg  \n",
            "  inflating: /content/AOL AI/test/Ectomorph/Ectomorph1_jpeg_jpg.rf.a9be5b33c323dfeca4bbeba1ae031625.jpg  \n",
            "   creating: /content/AOL AI/test/Endomorph/\n",
            "  inflating: /content/AOL AI/test/Endomorph/-User-00-Endomorph-30-_png_jpg.rf.c1596221970e72e88c80a3ddeb10064d.jpg  \n",
            "  inflating: /content/AOL AI/test/Endomorph/0865_00_jpg.rf.32f635c7595291bf62e9ab935c575956.jpg  \n",
            "  inflating: /content/AOL AI/test/Endomorph/0888_00_jpg.rf.55486c87a7a7fc5a037351d46c3a6f00.jpg  \n",
            "  inflating: /content/AOL AI/test/Endomorph/0894_00_jpg.rf.1f82486ac95952d7454e36e57ff6cf32.jpg  \n",
            "  inflating: /content/AOL AI/test/Endomorph/0894_00_jpg.rf.c47e1973f177322efa5e9ce1b0604098.jpg  \n",
            "  inflating: /content/AOL AI/test/Endomorph/0894_00_jpg.rf.d329652c1a43ad8a6f8b39db9221ffa9.jpg  \n",
            "  inflating: /content/AOL AI/test/Endomorph/100_jpg.rf.6dc78fa72e315078603a394fe43a1b7c.jpg  \n",
            "  inflating: /content/AOL AI/test/Endomorph/115_jpg.rf.e6a7d3279d603eef82e2e6df9b27f508.jpg  \n",
            "  inflating: /content/AOL AI/test/Endomorph/131_jpg.rf.05dfdb7e234812d87013b759413ff8b4.jpg  \n",
            "  inflating: /content/AOL AI/test/Endomorph/135_jpg.rf.3f40d6163d73118a8e49fe9d6b82a047.jpg  \n",
            "  inflating: /content/AOL AI/test/Endomorph/149_jpg.rf.639b4ad9f50b91e49e811a6b422a2dc2.jpg  \n",
            "  inflating: /content/AOL AI/test/Endomorph/1532667_38709335_jpeg.rf.0580ce5b84810610445217405dd4c35f.jpg  \n",
            "  inflating: /content/AOL AI/test/Endomorph/1532667_38709335_jpeg.rf.20cf76741ad870c346d97a48a5e1e951.jpg  \n",
            "  inflating: /content/AOL AI/test/Endomorph/1532667_38709335_jpeg.rf.274cfdfe06940aea1b3b61d6a0e23bd6.jpg  \n",
            "  inflating: /content/AOL AI/test/Endomorph/158_jpg.rf.08e740d2a9300c268a53b91f81b06261.jpg  \n",
            "  inflating: /content/AOL AI/test/Endomorph/160_jpg.rf.d729235835c69265bb4a5466146e21e3.jpg  \n",
            "  inflating: /content/AOL AI/test/Endomorph/166_jpg.rf.c61f4ad7f024a9b0e7b0776a82e2d258.jpg  \n",
            "  inflating: /content/AOL AI/test/Endomorph/182_jpg.rf.6bf8c7c94dce25c9589a55041313ec0c.jpg  \n",
            "  inflating: /content/AOL AI/test/Endomorph/226_jpg.rf.cc8d6db6b3e21cdd13642e4fbf226979.jpg  \n",
            "  inflating: /content/AOL AI/test/Endomorph/229_jpg.rf.2a6241e94349bed8e9cac2c1b2fa9088.jpg  \n",
            "  inflating: /content/AOL AI/test/Endomorph/3062_jpg.rf.006f9656152bf3210b664333c780878b.jpg  \n",
            "  inflating: /content/AOL AI/test/Endomorph/3062_jpg.rf.1c62daa1b85d0b35ef06a08d0c0b4995.jpg  \n",
            "  inflating: /content/AOL AI/test/Endomorph/3062_jpg.rf.e7a0db5d84661197b5a6d6d8c08f319b.jpg  \n",
            "  inflating: /content/AOL AI/test/Endomorph/55_jpg.rf.11337b6db80d0d526354ada766e3377a.jpg  \n",
            "  inflating: /content/AOL AI/test/Endomorph/590_jpg.rf.500333d1a028e1f4392fe1dac2ea3f27.jpg  \n",
            "  inflating: /content/AOL AI/test/Endomorph/630_jpg.rf.a6dcf67eda34bb36e00d4ae95cc9e7fd.jpg  \n",
            "  inflating: /content/AOL AI/test/Endomorph/660_jpg.rf.bb778e5ba97e0727609fd7030a6bb01d.jpg  \n",
            "  inflating: /content/AOL AI/test/Endomorph/670_jpg.rf.e33644b2a902c1306aaaaa967aceed68.jpg  \n",
            "  inflating: /content/AOL AI/test/Endomorph/674_jpg.rf.4b0cb664c2e2d5e35fa2363eb34eeb6e.jpg  \n",
            "  inflating: /content/AOL AI/test/Endomorph/678_jpg.rf.05edef6969af1f42f714fbd2a4d1b865.jpg  \n",
            "  inflating: /content/AOL AI/test/Endomorph/683_jpg.rf.b547b08da0ca12ac0a96a26bc3518be7.jpg  \n",
            "  inflating: /content/AOL AI/test/Endomorph/684_jpg.rf.d8fda748d4146aa2474c158c81ec3881.jpg  \n",
            "  inflating: /content/AOL AI/test/Endomorph/686_jpg.rf.cf0221147b74da55bc80db14c7f50e21.jpg  \n",
            "  inflating: /content/AOL AI/test/Endomorph/689_jpg.rf.c452db8c027e8a214b486815238cb958.jpg  \n",
            "  inflating: /content/AOL AI/test/Endomorph/690_jpg.rf.9efb2652ea6b109b3f62b23ed5c10e10.jpg  \n",
            "  inflating: /content/AOL AI/test/Endomorph/697_jpg.rf.2f2dcb5ba091585002500b33701a4706.jpg  \n",
            "  inflating: /content/AOL AI/test/Endomorph/705_jpg.rf.025f4c954df29cec79a81a9fcd459c99.jpg  \n",
            "  inflating: /content/AOL AI/test/Endomorph/708_jpg.rf.bdbc6d9261307ef22ee55ac084cab9c2.jpg  \n",
            "  inflating: /content/AOL AI/test/Endomorph/710_jpg.rf.23e9e901c45496b23554571535faf704.jpg  \n",
            "  inflating: /content/AOL AI/test/Endomorph/82_jpeg.rf.8a053b6c4b1127bdbd64f74ed00b9f8a.jpg  \n",
            "  inflating: /content/AOL AI/test/Endomorph/855_1000_jpg.rf.9566505f7bb8a5126d29b92c393a12e2.jpg  \n",
            "  inflating: /content/AOL AI/test/Endomorph/855_1000_jpg.rf.cd70d89971990fe36b85ecfe4c4b63c8.jpg  \n",
            "  inflating: /content/AOL AI/test/Endomorph/855_1000_jpg.rf.d64cb6520901d68dc6b0cd98eb366405.jpg  \n",
            "  inflating: /content/AOL AI/test/Endomorph/8703-1-_jpg.rf.1a82bc9b5eb4d18a2b01926fe809b8a6.jpg  \n",
            "  inflating: /content/AOL AI/test/Endomorph/8703-1-_jpg.rf.a53259719d2c7badb26ac03f8c428035.jpg  \n",
            "  inflating: /content/AOL AI/test/Endomorph/8703-1-_jpg.rf.df2777fcf578148a28a280a86181a956.jpg  \n",
            "  inflating: /content/AOL AI/test/Endomorph/Endomorph3_png_jpg.rf.875591279ee0b4a152dabb40682c485c.jpg  \n",
            "  inflating: /content/AOL AI/test/Endomorph/Endomorph4_png_jpg.rf.8e761fe7434b710c76538f0040d152ef.jpg  \n",
            "  inflating: /content/AOL AI/test/Endomorph/Endomorph4_png_jpg.rf.fd390ceb1b9dde4f1d65203d2874851b.jpg  \n",
            "   creating: /content/AOL AI/test/Mesomorph/\n",
            "  inflating: /content/AOL AI/test/Mesomorph/2004_png.rf.29d9a661f66d0e8f5ec8867475ad1091.jpg  \n",
            "  inflating: /content/AOL AI/test/Mesomorph/2004_png.rf.68269f452eec7fb8249f7b5e5cc55946.jpg  \n",
            "  inflating: /content/AOL AI/test/Mesomorph/2004_png.rf.744c3d0e836c9b45141bf6d060a9c0c9.jpg  \n",
            "  inflating: /content/AOL AI/test/Mesomorph/2005_jpg.rf.56b497ec1f810b1d9ec08deef613a656.jpg  \n",
            "  inflating: /content/AOL AI/test/Mesomorph/2005_jpg.rf.d076d1c0ca64bc9f592d53b0ab3f7a00.jpg  \n",
            "  inflating: /content/AOL AI/test/Mesomorph/2005_jpg.rf.ef00481bde853e73071660f649ef7da8.jpg  \n",
            "  inflating: /content/AOL AI/test/Mesomorph/2012_jpg.rf.736e45a73144fd109cba16c1328c79f3.jpg  \n",
            "  inflating: /content/AOL AI/test/Mesomorph/2012_jpg.rf.983a67b5a9cbc37a484c01c14e9c470a.jpg  \n",
            "  inflating: /content/AOL AI/test/Mesomorph/2012_jpg.rf.cee673d779e99550b907f6c5b7a3f355.jpg  \n",
            "  inflating: /content/AOL AI/test/Mesomorph/2013_jpg.rf.26c1a3db6927efcb0fcbbb80d677fa02.jpg  \n",
            "  inflating: /content/AOL AI/test/Mesomorph/2014_jpg.rf.e85e6b6029bb9cc5c2da0ce23c5ea65c.jpg  \n",
            "  inflating: /content/AOL AI/test/Mesomorph/2016_jpg.rf.42d57c4983a8a55784d2dca557a687d3.jpg  \n",
            "  inflating: /content/AOL AI/test/Mesomorph/2016_jpg.rf.60d392821f23854958e3e08cd57198cb.jpg  \n",
            "  inflating: /content/AOL AI/test/Mesomorph/2016_jpg.rf.c516e1d632d9b97dc539ae7e5b2d89a2.jpg  \n",
            "  inflating: /content/AOL AI/test/Mesomorph/2019_jpg.rf.222528cb9a9cdb74a2c69dcac85bd348.jpg  \n",
            "  inflating: /content/AOL AI/test/Mesomorph/2020_jpg.rf.4a8c9a0b9202f0e854d4714c9753bdb1.jpg  \n",
            "  inflating: /content/AOL AI/test/Mesomorph/2020_jpg.rf.af9f6b817efb7a5338db71d9a537b390.jpg  \n",
            "  inflating: /content/AOL AI/test/Mesomorph/2020_jpg.rf.e02c169098a5e8c54f5e4886f92fe055.jpg  \n",
            "  inflating: /content/AOL AI/test/Mesomorph/2021_jpg.rf.053a500d1747267bed9119091f85c600.jpg  \n",
            "  inflating: /content/AOL AI/test/Mesomorph/2021_jpg.rf.57e75690b68152c620fe80e97f3080a6.jpg  \n",
            "  inflating: /content/AOL AI/test/Mesomorph/2021_jpg.rf.bf9ad57b88d2c3652fb218b939d938e0.jpg  \n",
            "  inflating: /content/AOL AI/test/Mesomorph/2023_jpg.rf.6d24f866a6f56dc9201f7f02a0902a1d.jpg  \n",
            "  inflating: /content/AOL AI/test/Mesomorph/2023_jpg.rf.a57f84b22e9dd4384a2df49ff6c82a6f.jpg  \n",
            "  inflating: /content/AOL AI/test/Mesomorph/2023_jpg.rf.c159a48b665d9f6f9d7c5e1e6711eba4.jpg  \n",
            "  inflating: /content/AOL AI/test/Mesomorph/2024_jpg.rf.6f449466936b4105be469f7550a4b458.jpg  \n",
            "  inflating: /content/AOL AI/test/Mesomorph/2024_jpg.rf.b589c0d5b59f39787c9b76bd576ea6df.jpg  \n",
            "  inflating: /content/AOL AI/test/Mesomorph/2024_jpg.rf.dd5499bad9967fcb25afd18415378af0.jpg  \n",
            "  inflating: /content/AOL AI/test/Mesomorph/2026_jpg.rf.362d194a727426b8748fb42933ce5904.jpg  \n",
            "  inflating: /content/AOL AI/test/Mesomorph/2026_jpg.rf.5cee943aed370bde867a90368fb1608b.jpg  \n",
            "  inflating: /content/AOL AI/test/Mesomorph/2026_jpg.rf.c346e689f92fe96679728c837d41e3c0.jpg  \n",
            "  inflating: /content/AOL AI/test/Mesomorph/2028_jpg.rf.419c78d2d2ad6de3455733009616a2be.jpg  \n",
            "  inflating: /content/AOL AI/test/Mesomorph/2028_jpg.rf.a97bfd430b1db520ea9d42b872f0ea06.jpg  \n",
            "  inflating: /content/AOL AI/test/Mesomorph/2028_jpg.rf.ebbb883177bc0bf4c21fc85f527a42be.jpg  \n",
            "  inflating: /content/AOL AI/test/Mesomorph/2032_jpg.rf.108e7a5908e6503ea1e46266c0ffaa86.jpg  \n",
            "  inflating: /content/AOL AI/test/Mesomorph/2032_jpg.rf.2d14047df1c8e1de5c421bd0fa58e14f.jpg  \n",
            "  inflating: /content/AOL AI/test/Mesomorph/2032_jpg.rf.b0a7b95b5ff929d3608697ad2a2b0ea3.jpg  \n",
            "  inflating: /content/AOL AI/test/Mesomorph/2033_jpg.rf.689127888fffef41578e00cbdfb5edf0.jpg  \n",
            "  inflating: /content/AOL AI/test/Mesomorph/2033_jpg.rf.843575eae9329647a1048708b5382fe4.jpg  \n",
            "  inflating: /content/AOL AI/test/Mesomorph/2033_jpg.rf.eb0b8c8e2752bb05389f2dbaecfed9ef.jpg  \n",
            "  inflating: /content/AOL AI/test/Mesomorph/2034_jpg.rf.3301429ef7a3823ed875ec9eb8e12a95.jpg  \n",
            "  inflating: /content/AOL AI/test/Mesomorph/2034_jpg.rf.8cbc5d67beb95710c13da3bb0ffe34db.jpg  \n",
            "  inflating: /content/AOL AI/test/Mesomorph/2034_jpg.rf.cad133e6043ce72236b884b5b903ae03.jpg  \n",
            "  inflating: /content/AOL AI/test/Mesomorph/301736-qgaor6-20-n-1-_jpg.rf.1e132d68bbef4f00bf4f9f82b0db3806.jpg  \n",
            "  inflating: /content/AOL AI/test/Mesomorph/301736-qgaor6-20-n-1-_jpg.rf.8946e3ceb0a37f981ef70eaed810529f.jpg  \n",
            "  inflating: /content/AOL AI/test/Mesomorph/301736-qgaor6-20-n-1-_jpg.rf.eb508b331dc360bd7c7bdb108c32ea72.jpg  \n",
            "  inflating: /content/AOL AI/test/Mesomorph/3040_jpg.rf.046f62652e1a328cec165f6db87c8a00.jpg  \n",
            "  inflating: /content/AOL AI/test/Mesomorph/3040_jpg.rf.04fa039b7eafaf5ca5d3c27460417bde.jpg  \n",
            "  inflating: /content/AOL AI/test/Mesomorph/3040_jpg.rf.d76fe92fefdd86d18cb5926308297543.jpg  \n",
            "  inflating: /content/AOL AI/test/Mesomorph/3041_jpg.rf.15b6a4f5c25279f206d65779cc4ab02e.jpg  \n",
            "  inflating: /content/AOL AI/test/Mesomorph/3041_jpg.rf.39d093bfb9d43c5c933e35365c0f25b8.jpg  \n",
            "  inflating: /content/AOL AI/test/Mesomorph/3041_jpg.rf.eb5ced66fedfb497d7fde5cde6093f4b.jpg  \n",
            "  inflating: /content/AOL AI/test/Mesomorph/3042_jpg.rf.01818ebfc2ab01f2751422c438de76cb.jpg  \n",
            "  inflating: /content/AOL AI/test/Mesomorph/3042_jpg.rf.86f1eb9758b1efea69766039dda277a2.jpg  \n",
            "  inflating: /content/AOL AI/test/Mesomorph/3042_jpg.rf.e6065a85e974e6c68d4b3cc24ec41a63.jpg  \n",
            "  inflating: /content/AOL AI/test/Mesomorph/3043_jpg.rf.c1fdf8de591e3b493bec858abe07915e.jpg  \n",
            "  inflating: /content/AOL AI/test/Mesomorph/3044_jpg.rf.f45397cd7cfd4b59df394513e86e4feb.jpg  \n",
            "  inflating: /content/AOL AI/test/Mesomorph/3045_jpg.rf.273474656a2d8bab0cdb1df667278392.jpg  \n",
            "  inflating: /content/AOL AI/test/Mesomorph/3045_jpg.rf.5edb524c0152eb618e83ea598cb111dd.jpg  \n",
            "  inflating: /content/AOL AI/test/Mesomorph/3045_jpg.rf.f4a5a333a04f869085ab2c5f256142e4.jpg  \n",
            "  inflating: /content/AOL AI/test/Mesomorph/3046_jpg.rf.15e6200904ed931f5dc7967d71bedab1.jpg  \n",
            "  inflating: /content/AOL AI/test/Mesomorph/3046_jpg.rf.5e4684710e2dd1ca55e6248a593ac8d0.jpg  \n",
            "  inflating: /content/AOL AI/test/Mesomorph/3046_jpg.rf.7b615a22b8873901d00b2dff5d1ca068.jpg  \n",
            "  inflating: /content/AOL AI/test/Mesomorph/3047_jpg.rf.64433d5881e12b8ebccd7a465e446752.jpg  \n",
            "  inflating: /content/AOL AI/test/Mesomorph/3047_jpg.rf.b25a531ef411129000196bbb1aeb0f44.jpg  \n",
            "  inflating: /content/AOL AI/test/Mesomorph/3047_jpg.rf.d4b65b3ecc8accc7c63a053893e0fd5c.jpg  \n",
            "  inflating: /content/AOL AI/test/Mesomorph/3048_jpg.rf.5bec78f47f4212ef1e9ea2e9460e9750.jpg  \n",
            "  inflating: /content/AOL AI/test/Mesomorph/3048_jpg.rf.65a0d8c98785f2cfba4ef022877037a4.jpg  \n",
            "  inflating: /content/AOL AI/test/Mesomorph/3048_jpg.rf.bdbdc6847249ea232638dbd36e756f88.jpg  \n",
            "  inflating: /content/AOL AI/test/Mesomorph/3050_jpg.rf.2b163020643f130aa797ae5d378d56bb.jpg  \n",
            "  inflating: /content/AOL AI/test/Mesomorph/3050_jpg.rf.410134a59e8dcf3be0e37465cf3772b4.jpg  \n",
            "  inflating: /content/AOL AI/test/Mesomorph/3050_jpg.rf.b7780cab06fe3b8e171b437c2e3478ec.jpg  \n",
            "  inflating: /content/AOL AI/test/Mesomorph/3051_jpg.rf.705f7d9ab9645296f06b570d77c261dc.jpg  \n",
            "  inflating: /content/AOL AI/test/Mesomorph/3051_jpg.rf.9e49ccf9ec8e5b290ea25be1b79e2a40.jpg  \n",
            "  inflating: /content/AOL AI/test/Mesomorph/3051_jpg.rf.a6627c87088dbfa7b7a20af5e6799da8.jpg  \n",
            "  inflating: /content/AOL AI/test/Mesomorph/3052_jpg.rf.243b6fc27fec1d206210b44c0ad692ea.jpg  \n",
            "  inflating: /content/AOL AI/test/Mesomorph/3052_jpg.rf.848470189ae6f41ea05c0b43e13be601.jpg  \n",
            "  inflating: /content/AOL AI/test/Mesomorph/3052_jpg.rf.dc015a0c28679cc60497cba9eff215a7.jpg  \n",
            "  inflating: /content/AOL AI/test/Mesomorph/3053_jpg.rf.0e450d060c3d6a36e5cfa16d17c221a3.jpg  \n",
            "  inflating: /content/AOL AI/test/Mesomorph/3053_jpg.rf.8aed9178474a9180318a9096a509293f.jpg  \n",
            "  inflating: /content/AOL AI/test/Mesomorph/3053_jpg.rf.f415cc57f038781844d526d50c12306c.jpg  \n",
            "  inflating: /content/AOL AI/test/Mesomorph/3055_PNG.rf.43508ff5bd3c3e20741e6120b53ff84a.jpg  \n",
            "  inflating: /content/AOL AI/test/Mesomorph/3055_PNG.rf.77f601a3ce86bd860cdeb74a15526d48.jpg  \n",
            "  inflating: /content/AOL AI/test/Mesomorph/3055_PNG.rf.d40168f4fadb6957bc8d14d6eda627f4.jpg  \n",
            "  inflating: /content/AOL AI/test/Mesomorph/3056_jpg.rf.77c57267e16a09ab0133491f453c1b5d.jpg  \n",
            "  inflating: /content/AOL AI/test/Mesomorph/3056_jpg.rf.8ffb0247f702ca42b98cc6fe9b30905d.jpg  \n",
            "  inflating: /content/AOL AI/test/Mesomorph/3056_jpg.rf.b3dbceaa5c6fc0dbd310f29ba3747f75.jpg  \n",
            "  inflating: /content/AOL AI/test/Mesomorph/3057_jpg.rf.3422a3e56d10842561fe81c3ae0ee99d.jpg  \n",
            "  inflating: /content/AOL AI/test/Mesomorph/3057_jpg.rf.98325c75f0afc82b2fc585ed1d1cbd08.jpg  \n",
            "  inflating: /content/AOL AI/test/Mesomorph/3057_jpg.rf.e32203d8aa75d77c778417edc1fac62b.jpg  \n",
            "  inflating: /content/AOL AI/test/Mesomorph/3063_jpg.rf.c94a4b587f5b4bc41e239cbc67952137.jpg  \n",
            "  inflating: /content/AOL AI/test/Mesomorph/3063_jpg.rf.e7ddcc08feafdd8a591fbf39fdd709be.jpg  \n",
            "  inflating: /content/AOL AI/test/Mesomorph/68413a2e5bd25260560b44ea91b15a72_big_jpg.rf.aef1d213a7f52786941ffbe99f97f449.jpg  \n",
            "  inflating: /content/AOL AI/test/Mesomorph/68413a2e5bd25260560b44ea91b15a72_big_jpg.rf.af7f9dd7d52dbd0e2073ef5d3cd1270f.jpg  \n",
            "  inflating: /content/AOL AI/test/Mesomorph/68413a2e5bd25260560b44ea91b15a72_big_jpg.rf.b5ab21b38622509f18b125635437cfea.jpg  \n",
            "   creating: /content/AOL AI/train/\n",
            "   creating: /content/AOL AI/train/Ectomorph/\n",
            "  inflating: /content/AOL AI/train/Ectomorph/-User-00-Ectomorph-1-_jpg.rf.2a58d4929de64718ce19545e07d7513f.jpg  \n",
            "  inflating: /content/AOL AI/train/Ectomorph/-User-00-Ectomorph-1-_jpg.rf.5d38cf419c95b0baa16ff987145a626b.jpg  \n",
            "  inflating: /content/AOL AI/train/Ectomorph/-User-00-Ectomorph-1-_jpg.rf.88924fbf357a555ab0a96dff56065334.jpg  \n",
            "  inflating: /content/AOL AI/train/Ectomorph/-User-00-Ectomorph-1-_jpg.rf.93ce2119d1ed1713ddbfa492c3be6a1d.jpg  \n",
            "  inflating: /content/AOL AI/train/Ectomorph/-User-00-Ectomorph-1-_jpg.rf.99863d5e53107faba5c746dcd1751589.jpg  \n",
            "  inflating: /content/AOL AI/train/Ectomorph/-User-00-Ectomorph-1-_jpg.rf.d0adf5c7dfb230303bc0b5da39a5221e.jpg  \n",
            "  inflating: /content/AOL AI/train/Ectomorph/-User-00-Ectomorph-1-_jpg.rf.eceb9e6b0c40632941d478f5afdf1164.jpg  \n",
            "  inflating: /content/AOL AI/train/Ectomorph/-User-00-Ectomorph-13-_jpg.rf.2220798146632a7e9b78339ae71efb76.jpg  \n",
            "  inflating: /content/AOL AI/train/Ectomorph/-User-00-Ectomorph-13-_jpg.rf.5396334e8270acc728f10622bc2c0f5c.jpg  \n",
            "  inflating: /content/AOL AI/train/Ectomorph/-User-00-Ectomorph-13-_jpg.rf.5b9a0ae0b7d831bd10fdf70f4bdfc3f2.jpg  \n",
            "  inflating: /content/AOL AI/train/Ectomorph/-User-00-Ectomorph-13-_jpg.rf.6f8ff4932eb6449df81e7307966bbada.jpg  \n",
            "  inflating: /content/AOL AI/train/Ectomorph/-User-00-Ectomorph-13-_jpg.rf.b6e049b458363b9ce2a1e62ceb675333.jpg  \n",
            "  inflating: /content/AOL AI/train/Ectomorph/-User-00-Ectomorph-13-_jpg.rf.e88461d0d304c5d0a8c87a339a11b57d.jpg  \n",
            "  inflating: /content/AOL AI/train/Ectomorph/-User-00-Ectomorph-13-_jpg.rf.ff757c61a44d8b51cdbdb6789bfa7d2e.jpg  \n",
            "  inflating: /content/AOL AI/train/Ectomorph/-User-00-Ectomorph-14-_jpg.rf.1858b0bf834a885560f94e16e0f01eb5.jpg  \n",
            "  inflating: /content/AOL AI/train/Ectomorph/-User-00-Ectomorph-14-_jpg.rf.30e537041964d55a945cca2842b6b4df.jpg  \n",
            "  inflating: /content/AOL AI/train/Ectomorph/-User-00-Ectomorph-14-_jpg.rf.332679657b3b669802fbfc9bab59a5a1.jpg  \n",
            "  inflating: /content/AOL AI/train/Ectomorph/-User-00-Ectomorph-14-_jpg.rf.51f1c997b53a80a8a73c119b79dfcaac.jpg  \n",
            "  inflating: /content/AOL AI/train/Ectomorph/-User-00-Ectomorph-14-_jpg.rf.718d55a6783aeaec250479afbb95fd98.jpg  \n",
            "  inflating: /content/AOL AI/train/Ectomorph/-User-00-Ectomorph-14-_jpg.rf.ab961762b9f1d64010b59c525df77b5a.jpg  \n",
            "  inflating: /content/AOL AI/train/Ectomorph/-User-00-Ectomorph-14-_jpg.rf.d0fbb10779664a41d5a992c2d98fcf1a.jpg  \n",
            "  inflating: /content/AOL AI/train/Ectomorph/-User-00-Ectomorph-16-_jpg.rf.0bf1af8d8561e461a488d381501db4a6.jpg  \n",
            "  inflating: /content/AOL AI/train/Ectomorph/-User-00-Ectomorph-16-_jpg.rf.4a365ebe9569d7bf53e069312147cb10.jpg  \n",
            "  inflating: /content/AOL AI/train/Ectomorph/-User-00-Ectomorph-16-_jpg.rf.5a13c367135fedc300849fd2a8bd418a.jpg  \n",
            "  inflating: /content/AOL AI/train/Ectomorph/-User-00-Ectomorph-16-_jpg.rf.7cfcf83768ea1baf7c1aa793bec3cec0.jpg  \n",
            "  inflating: /content/AOL AI/train/Ectomorph/-User-00-Ectomorph-16-_jpg.rf.8248774b68212068d58f5bafa42415c8.jpg  \n",
            "  inflating: /content/AOL AI/train/Ectomorph/-User-00-Ectomorph-16-_jpg.rf.aa5f3510fecea3cb341050c26d932e2d.jpg  \n",
            "  inflating: /content/AOL AI/train/Ectomorph/-User-00-Ectomorph-16-_jpg.rf.cae0c4ad9cb56c3be790273b81168fb6.jpg  \n",
            "  inflating: /content/AOL AI/train/Ectomorph/-User-00-Ectomorph-18-_jpg.rf.0a43c0a4f401456eafdcecb20183ac84.jpg  \n",
            "  inflating: /content/AOL AI/train/Ectomorph/-User-00-Ectomorph-18-_jpg.rf.3a5078f436e6f85f20d47e6885cdb313.jpg  \n",
            "  inflating: /content/AOL AI/train/Ectomorph/-User-00-Ectomorph-18-_jpg.rf.3ce4c98d00683f115088ae880bc807ef.jpg  \n",
            "  inflating: /content/AOL AI/train/Ectomorph/-User-00-Ectomorph-18-_jpg.rf.3e57ad1f87551f93c40ba5c5eadc509f.jpg  \n",
            "  inflating: /content/AOL AI/train/Ectomorph/-User-00-Ectomorph-18-_jpg.rf.a52f9cd5804f5f246767324cbcadb8fa.jpg  \n",
            "  inflating: /content/AOL AI/train/Ectomorph/-User-00-Ectomorph-18-_jpg.rf.a6bb3a2bb215f34a202703ce04124bb7.jpg  \n",
            "  inflating: /content/AOL AI/train/Ectomorph/-User-00-Ectomorph-18-_jpg.rf.eeda9b749b58bfb6edf664cee601cc70.jpg  \n",
            "  inflating: /content/AOL AI/train/Ectomorph/-User-00-Ectomorph-19-_jpg.rf.1f871d552d2a845faf67e4dcfbac7f75.jpg  \n",
            "  inflating: /content/AOL AI/train/Ectomorph/-User-00-Ectomorph-19-_jpg.rf.549db5de45d35d895e75a72efebdc48c.jpg  \n",
            "  inflating: /content/AOL AI/train/Ectomorph/-User-00-Ectomorph-19-_jpg.rf.76b0dc2f188e0161161fcf2b6d3561ca.jpg  \n",
            "  inflating: /content/AOL AI/train/Ectomorph/-User-00-Ectomorph-19-_jpg.rf.959beb8a408b39c3a0c64d9123c5ff3f.jpg  \n",
            "  inflating: /content/AOL AI/train/Ectomorph/-User-00-Ectomorph-19-_jpg.rf.a2f3efb1ce8e70ea7694e353440ba70f.jpg  \n",
            "  inflating: /content/AOL AI/train/Ectomorph/-User-00-Ectomorph-19-_jpg.rf.acdc324fe2dcb5aee245f8ddb8e168c9.jpg  \n",
            "  inflating: /content/AOL AI/train/Ectomorph/-User-00-Ectomorph-19-_jpg.rf.f9f37a63e051c644bb33af50e1ab048c.jpg  \n",
            "  inflating: /content/AOL AI/train/Ectomorph/-User-00-Ectomorph-1A-_jpg.rf.159bb3ae4651d60beff7e6fad293c4d3.jpg  \n",
            "  inflating: /content/AOL AI/train/Ectomorph/-User-00-Ectomorph-1A-_jpg.rf.55815111c40a70c3a8954f9d96ebad0f.jpg  \n",
            "  inflating: /content/AOL AI/train/Ectomorph/-User-00-Ectomorph-1A-_jpg.rf.68ba763adf5b283b10a7828945c669d1.jpg  \n",
            "  inflating: /content/AOL AI/train/Ectomorph/-User-00-Ectomorph-1A-_jpg.rf.8de5fd6086dd6a7431a54e735a730d92.jpg  \n",
            "  inflating: /content/AOL AI/train/Ectomorph/-User-00-Ectomorph-1A-_jpg.rf.9950a09d09b42032c4a76f95c239e5b3.jpg  \n",
            "  inflating: /content/AOL AI/train/Ectomorph/-User-00-Ectomorph-1A-_jpg.rf.a63e4820aac4519aac03b8c3b321c520.jpg  \n",
            "  inflating: /content/AOL AI/train/Ectomorph/-User-00-Ectomorph-1A-_jpg.rf.bc8095ac7310a2ebf839dd942e5b875e.jpg  \n",
            "  inflating: /content/AOL AI/train/Ectomorph/-User-00-Ectomorph-20-_jpg.rf.3097bc6f14f439ecfd1fde5989dd5828.jpg  \n",
            "  inflating: /content/AOL AI/train/Ectomorph/-User-00-Ectomorph-20-_jpg.rf.75d4b418fdacf1a9939fdeb3196a7303.jpg  \n",
            "  inflating: /content/AOL AI/train/Ectomorph/-User-00-Ectomorph-20-_jpg.rf.7a50ca864c7d04370181e763e2234841.jpg  \n",
            "  inflating: /content/AOL AI/train/Ectomorph/-User-00-Ectomorph-20-_jpg.rf.813c3418b52702ae520834ac82c732b7.jpg  \n",
            "  inflating: /content/AOL AI/train/Ectomorph/-User-00-Ectomorph-20-_jpg.rf.d9660df6515a989f59d401e0882ee11b.jpg  \n",
            "  inflating: /content/AOL AI/train/Ectomorph/-User-00-Ectomorph-20-_jpg.rf.e4815b6d8e782d252bc61ff4989025db.jpg  \n",
            "  inflating: /content/AOL AI/train/Ectomorph/-User-00-Ectomorph-20-_jpg.rf.eb939aa2c929bbe2fc9dd953746cc872.jpg  \n",
            "  inflating: /content/AOL AI/train/Ectomorph/-User-00-Ectomorph-23-_png_jpg.rf.1c03da3bd164f468656c019b373fb9d3.jpg  \n",
            "  inflating: /content/AOL AI/train/Ectomorph/-User-00-Ectomorph-23-_png_jpg.rf.5930f010c98797d978ee544df457198b.jpg  \n",
            "  inflating: /content/AOL AI/train/Ectomorph/-User-00-Ectomorph-23-_png_jpg.rf.8ef1f9067f577cbbf327f65e76c3787b.jpg  \n",
            "  inflating: /content/AOL AI/train/Ectomorph/-User-00-Ectomorph-23-_png_jpg.rf.aa9e6a148df9b2569ea33f900ec9b5aa.jpg  \n",
            "  inflating: /content/AOL AI/train/Ectomorph/-User-00-Ectomorph-23-_png_jpg.rf.b1580c048569fa2fe3b5c176c8f70c54.jpg  \n",
            "  inflating: /content/AOL AI/train/Ectomorph/-User-00-Ectomorph-23-_png_jpg.rf.b36a992412f17cba0d6fd2572b432278.jpg  \n",
            "  inflating: /content/AOL AI/train/Ectomorph/-User-00-Ectomorph-23-_png_jpg.rf.e9fae90e4517fea14cb2e557a881f4f5.jpg  \n",
            "  inflating: /content/AOL AI/train/Ectomorph/-User-00-Ectomorph-26-_png_jpg.rf.28bd358b7189f2d8905a0c2ff7a3c4ba.jpg  \n",
            "  inflating: /content/AOL AI/train/Ectomorph/-User-00-Ectomorph-26-_png_jpg.rf.3ccd81daf6a995587d4074d00a70ffd5.jpg  \n",
            "  inflating: /content/AOL AI/train/Ectomorph/-User-00-Ectomorph-26-_png_jpg.rf.6af9a94386e2a7d8d061a149c226024c.jpg  \n",
            "  inflating: /content/AOL AI/train/Ectomorph/-User-00-Ectomorph-26-_png_jpg.rf.7be9b430e313f3d62285a8b8005c0c13.jpg  \n",
            "  inflating: /content/AOL AI/train/Ectomorph/-User-00-Ectomorph-26-_png_jpg.rf.86544a7739d3a1bf1d71b20d8fbc6547.jpg  \n",
            "  inflating: /content/AOL AI/train/Ectomorph/-User-00-Ectomorph-26-_png_jpg.rf.979bda722db98851c79f922e38c2c2fb.jpg  \n",
            "  inflating: /content/AOL AI/train/Ectomorph/-User-00-Ectomorph-26-_png_jpg.rf.edd18d228d1310e490792e8d5f8a6d19.jpg  \n",
            "  inflating: /content/AOL AI/train/Ectomorph/-User-00-Ectomorph-28-_png_jpg.rf.02d5179f0a4d9ac44cfba3690ec9f48c.jpg  \n",
            "  inflating: /content/AOL AI/train/Ectomorph/-User-00-Ectomorph-28-_png_jpg.rf.0752043c36682b641e317fd2f41c612e.jpg  \n",
            "  inflating: /content/AOL AI/train/Ectomorph/-User-00-Ectomorph-28-_png_jpg.rf.102a7974362e76fa4dadfda1d444a759.jpg  \n",
            "  inflating: /content/AOL AI/train/Ectomorph/-User-00-Ectomorph-28-_png_jpg.rf.291d01784dfb857cade166c72c694e25.jpg  \n",
            "  inflating: /content/AOL AI/train/Ectomorph/-User-00-Ectomorph-28-_png_jpg.rf.85b2bd954e555b320174c9b0a606c008.jpg  \n",
            "  inflating: /content/AOL AI/train/Ectomorph/-User-00-Ectomorph-28-_png_jpg.rf.90ee6ec1fe2e4c8c08bb514b00e245df.jpg  \n",
            "  inflating: /content/AOL AI/train/Ectomorph/-User-00-Ectomorph-28-_png_jpg.rf.9a3d1d11f7338ca839550166b3bed3a5.jpg  \n",
            "  inflating: /content/AOL AI/train/Ectomorph/-User-00-Ectomorph-2A-_jpg.rf.02817ccdf8087f2c15e01c099220aac3.jpg  \n",
            "  inflating: /content/AOL AI/train/Ectomorph/-User-00-Ectomorph-2A-_jpg.rf.2e57f581d43859438960eb6c13b2eda4.jpg  \n",
            "  inflating: /content/AOL AI/train/Ectomorph/-User-00-Ectomorph-2A-_jpg.rf.a2339a8cf5b1b73c3bfcc660ac1cbab4.jpg  \n",
            "  inflating: /content/AOL AI/train/Ectomorph/-User-00-Ectomorph-2A-_jpg.rf.a7f5bb70ea34d69ada21b069eef4bec2.jpg  \n",
            "  inflating: /content/AOL AI/train/Ectomorph/-User-00-Ectomorph-2A-_jpg.rf.ba1737e8c0e49f45b29f813a9e5ae1dc.jpg  \n",
            "  inflating: /content/AOL AI/train/Ectomorph/-User-00-Ectomorph-2A-_jpg.rf.e52eaf5fa330058b6b8a5d4addda5fdd.jpg  \n",
            "  inflating: /content/AOL AI/train/Ectomorph/-User-00-Ectomorph-2A-_jpg.rf.ec4442aa15505c2d3a24086285301765.jpg  \n",
            "  inflating: /content/AOL AI/train/Ectomorph/-User-00-Ectomorph-6-_jpg.rf.1d1107c1d25cf52251a16425412e410f.jpg  \n",
            "  inflating: /content/AOL AI/train/Ectomorph/-User-00-Ectomorph-6-_jpg.rf.26ebe491660a23e51bcb4600eb5700ba.jpg  \n",
            "  inflating: /content/AOL AI/train/Ectomorph/-User-00-Ectomorph-6-_jpg.rf.41f0a95d92244af6026e8734305c50b0.jpg  \n",
            "  inflating: /content/AOL AI/train/Ectomorph/-User-00-Ectomorph-6-_jpg.rf.83803828be9655b9d9cc7123540d3763.jpg  \n",
            "  inflating: /content/AOL AI/train/Ectomorph/-User-00-Ectomorph-6-_jpg.rf.8f4a76c9d2de9e942aca8a525c9976cb.jpg  \n",
            "  inflating: /content/AOL AI/train/Ectomorph/-User-00-Ectomorph-6-_jpg.rf.bf438c2217523e406e225ab29bb7350b.jpg  \n",
            "  inflating: /content/AOL AI/train/Ectomorph/-User-00-Ectomorph-6-_jpg.rf.ffeb0fd5f44896dda33a277700bb56d9.jpg  \n",
            "  inflating: /content/AOL AI/train/Ectomorph/-User-00-Ectomorph-7-_png_jpg.rf.089c3ee505f8108eb4ba48805e968ca4.jpg  \n",
            "  inflating: /content/AOL AI/train/Ectomorph/-User-00-Ectomorph-7-_png_jpg.rf.0f6a3bb42c41407f1ed81f971ee967b1.jpg  \n",
            "  inflating: /content/AOL AI/train/Ectomorph/-User-00-Ectomorph-7-_png_jpg.rf.116afe771b6b461c7b6f5ca3c6f1270e.jpg  \n",
            "  inflating: /content/AOL AI/train/Ectomorph/-User-00-Ectomorph-7-_png_jpg.rf.4106167a40a7e931a6fb999146038a1f.jpg  \n",
            "  inflating: /content/AOL AI/train/Ectomorph/-User-00-Ectomorph-7-_png_jpg.rf.6540c937d4bfc48e39ad2f3349fc7fd2.jpg  \n",
            "  inflating: /content/AOL AI/train/Ectomorph/-User-00-Ectomorph-7-_png_jpg.rf.71777558218519314a9ed6214d5f60cf.jpg  \n",
            "  inflating: /content/AOL AI/train/Ectomorph/-User-00-Ectomorph-7-_png_jpg.rf.e2d5c48ca345e9eeac4a1a15825410ea.jpg  \n",
            "  inflating: /content/AOL AI/train/Ectomorph/-User-00-Ectomorph-9-_png_jpg.rf.3fee0d7f39a84e61868d0b1141e26056.jpg  \n",
            "  inflating: /content/AOL AI/train/Ectomorph/-User-00-Ectomorph-9-_png_jpg.rf.4738ae936c3ccb0e0f6a47da6a406f33.jpg  \n",
            "  inflating: /content/AOL AI/train/Ectomorph/-User-00-Ectomorph-9-_png_jpg.rf.4edaa6d9813b805e84045da94b11f8b1.jpg  \n",
            "  inflating: /content/AOL AI/train/Ectomorph/-User-00-Ectomorph-9-_png_jpg.rf.82afa53a4f909e43c35f50d94b1cf980.jpg  \n",
            "  inflating: /content/AOL AI/train/Ectomorph/-User-00-Ectomorph-9-_png_jpg.rf.a902ab69af28f331bfc4cf3d295a7092.jpg  \n",
            "  inflating: /content/AOL AI/train/Ectomorph/-User-00-Ectomorph-9-_png_jpg.rf.bc1c78f03413731159a54159c4c97f59.jpg  \n",
            "  inflating: /content/AOL AI/train/Ectomorph/-User-00-Ectomorph-9-_png_jpg.rf.e8b3fba02b21d724fd56f29c9678240e.jpg  \n",
            "  inflating: /content/AOL AI/train/Ectomorph/-User-00-Ectomorph-JDL-11-_png_jpg.rf.4e80b1c046e840748c5648b32b9ad05c.jpg  \n",
            "  inflating: /content/AOL AI/train/Ectomorph/-User-00-Ectomorph-JDL-11-_png_jpg.rf.63a6b81ef2110fed747e498ec594955d.jpg  \n",
            "  inflating: /content/AOL AI/train/Ectomorph/-User-00-Ectomorph-JDL-11-_png_jpg.rf.63fa4996f5120fc0232efbd2a9f72c15.jpg  \n",
            "  inflating: /content/AOL AI/train/Ectomorph/-User-00-Ectomorph-JDL-11-_png_jpg.rf.77079c95336cb83f29de38edaeac88de.jpg  \n",
            "  inflating: /content/AOL AI/train/Ectomorph/-User-00-Ectomorph-JDL-11-_png_jpg.rf.d1b65108a435b9f5c75f373f3832742e.jpg  \n",
            "  inflating: /content/AOL AI/train/Ectomorph/-User-00-Ectomorph-JDL-11-_png_jpg.rf.f29ad7174189a172c1b578d0f0372d46.jpg  \n",
            "  inflating: /content/AOL AI/train/Ectomorph/-User-00-Ectomorph-JDL-11-_png_jpg.rf.fd0bf71a2f2161ed6d85871e5958e840.jpg  \n",
            "  inflating: /content/AOL AI/train/Ectomorph/-User-00-Ectomorph-JDL-12-_png_jpg.rf.2f7952ec1076d48595e080d8b11f9b44.jpg  \n",
            "  inflating: /content/AOL AI/train/Ectomorph/-User-00-Ectomorph-JDL-12-_png_jpg.rf.41e5eebe586bc7e23887af2b09e42b6d.jpg  \n",
            "  inflating: /content/AOL AI/train/Ectomorph/-User-00-Ectomorph-JDL-12-_png_jpg.rf.8d894a95aa28945bd437545dded8fdff.jpg  \n",
            "  inflating: /content/AOL AI/train/Ectomorph/-User-00-Ectomorph-JDL-12-_png_jpg.rf.93d9e19a802801feb6bf7f60f32289b6.jpg  \n",
            "  inflating: /content/AOL AI/train/Ectomorph/-User-00-Ectomorph-JDL-12-_png_jpg.rf.aa7d4a5f36f7b84fece5f7999e912a5e.jpg  \n",
            "  inflating: /content/AOL AI/train/Ectomorph/-User-00-Ectomorph-JDL-12-_png_jpg.rf.b29553eadb927e5eef9f116a4de30906.jpg  \n",
            "  inflating: /content/AOL AI/train/Ectomorph/-User-00-Ectomorph-JDL-12-_png_jpg.rf.c135793ce8a785f013e906fd8665086c.jpg  \n",
            "  inflating: /content/AOL AI/train/Ectomorph/-User-00-Ectomorph-JDL-13-_png_jpg.rf.1cfba2f96c45e36ef45b3561d32a3ff9.jpg  \n",
            "  inflating: /content/AOL AI/train/Ectomorph/-User-00-Ectomorph-JDL-13-_png_jpg.rf.3d7770177c5d00cb546c66e82f5956fa.jpg  \n",
            "  inflating: /content/AOL AI/train/Ectomorph/-User-00-Ectomorph-JDL-13-_png_jpg.rf.8d53e2a8f3fcd0b5f4a29643739af9df.jpg  \n",
            "  inflating: /content/AOL AI/train/Ectomorph/-User-00-Ectomorph-JDL-13-_png_jpg.rf.947029a6a06242f2f47c499c31754249.jpg  \n",
            "  inflating: /content/AOL AI/train/Ectomorph/-User-00-Ectomorph-JDL-13-_png_jpg.rf.95b344bbe5fe6a81eb81a5a0b56dc6c7.jpg  \n",
            "  inflating: /content/AOL AI/train/Ectomorph/-User-00-Ectomorph-JDL-13-_png_jpg.rf.e692e8cf89a022556178ed2f3527b599.jpg  \n",
            "  inflating: /content/AOL AI/train/Ectomorph/-User-00-Ectomorph-JDL-13-_png_jpg.rf.f17767d0b2c92d005615da3b9ef0a550.jpg  \n",
            "  inflating: /content/AOL AI/train/Ectomorph/-User-00-Ectomorph-JDL-2-_png_jpg.rf.445bd6020699d812fe57b12e2715c2a4.jpg  \n",
            "  inflating: /content/AOL AI/train/Ectomorph/-User-00-Ectomorph-JDL-2-_png_jpg.rf.b29ce7b6ce14b15d451f979d985d902b.jpg  \n",
            "  inflating: /content/AOL AI/train/Ectomorph/-User-00-Ectomorph-JDL-2-_png_jpg.rf.bb540d9b0500035b6b86450e7433d0c3.jpg  \n",
            "  inflating: /content/AOL AI/train/Ectomorph/-User-00-Ectomorph-JDL-2-_png_jpg.rf.c46170644f574b76b7c965f8548b6c0b.jpg  \n",
            "  inflating: /content/AOL AI/train/Ectomorph/-User-00-Ectomorph-JDL-2-_png_jpg.rf.cec57b63dccd0c1cf95da11e71e72d03.jpg  \n",
            "  inflating: /content/AOL AI/train/Ectomorph/-User-00-Ectomorph-JDL-2-_png_jpg.rf.f77bc0f763304ff41d24ec4c6177aa6d.jpg  \n",
            "  inflating: /content/AOL AI/train/Ectomorph/-User-00-Ectomorph-JDL-2-_png_jpg.rf.f984467721f9d88b5ed7c534a3f6c3e8.jpg  \n",
            "  inflating: /content/AOL AI/train/Ectomorph/-User-00-Ectomorph-JDL-3-_png_jpg.rf.5192387fddc04e54be2dd937e2a88ddb.jpg  \n",
            "  inflating: /content/AOL AI/train/Ectomorph/-User-00-Ectomorph-JDL-3-_png_jpg.rf.5275ec97b139e28bdcc4e5e3e6969fa0.jpg  \n",
            "  inflating: /content/AOL AI/train/Ectomorph/-User-00-Ectomorph-JDL-3-_png_jpg.rf.57be1061e78508755ef3fdc8f02ba317.jpg  \n",
            "  inflating: /content/AOL AI/train/Ectomorph/-User-00-Ectomorph-JDL-3-_png_jpg.rf.61b8aaf940b01c86abc208db2e4ca13e.jpg  \n",
            "  inflating: /content/AOL AI/train/Ectomorph/-User-00-Ectomorph-JDL-3-_png_jpg.rf.858b7cbe5723c3042e455db075693abb.jpg  \n",
            "  inflating: /content/AOL AI/train/Ectomorph/-User-00-Ectomorph-JDL-3-_png_jpg.rf.8ebfc0cebbb9a70bc731e8e43746ef97.jpg  \n",
            "  inflating: /content/AOL AI/train/Ectomorph/-User-00-Ectomorph-JDL-3-_png_jpg.rf.ad4f5d5f230ee30ef421e8e6adf01ce5.jpg  \n",
            "  inflating: /content/AOL AI/train/Ectomorph/-User-00-Ectomorph-JDL-4-_png_jpg.rf.031c6166ce574f133ca3ec5dac6703b0.jpg  \n",
            "  inflating: /content/AOL AI/train/Ectomorph/-User-00-Ectomorph-JDL-4-_png_jpg.rf.2fe97b85bb8c024fd46ffd8b3b393e22.jpg  \n",
            "  inflating: /content/AOL AI/train/Ectomorph/-User-00-Ectomorph-JDL-4-_png_jpg.rf.5756cb583f1256911424130fa7f5fa2c.jpg  \n",
            "  inflating: /content/AOL AI/train/Ectomorph/-User-00-Ectomorph-JDL-4-_png_jpg.rf.be7e0b6f965587eede2fe41f9053a48c.jpg  \n",
            "  inflating: /content/AOL AI/train/Ectomorph/-User-00-Ectomorph-JDL-4-_png_jpg.rf.c0c5c2f5b84c2ae072ed9494a5ba528d.jpg  \n",
            "  inflating: /content/AOL AI/train/Ectomorph/-User-00-Ectomorph-JDL-4-_png_jpg.rf.c3559830f17a5a07c29352602507d09e.jpg  \n",
            "  inflating: /content/AOL AI/train/Ectomorph/-User-00-Ectomorph-JDL-4-_png_jpg.rf.d298bd6740d0ff1be1b222f18345ad39.jpg  \n",
            "  inflating: /content/AOL AI/train/Ectomorph/-User-00-Ectomorph-JDL-5-_png_jpg.rf.17c56009739082d10c66ef685dc29758.jpg  \n",
            "  inflating: /content/AOL AI/train/Ectomorph/-User-00-Ectomorph-JDL-5-_png_jpg.rf.1afb581d72e2f82162a21c6d93890bb4.jpg  \n",
            "  inflating: /content/AOL AI/train/Ectomorph/-User-00-Ectomorph-JDL-5-_png_jpg.rf.311bbc347663ee8462d5503096188457.jpg  \n",
            "  inflating: /content/AOL AI/train/Ectomorph/-User-00-Ectomorph-JDL-5-_png_jpg.rf.331d290df7752184bc3e4bc24542cab6.jpg  \n",
            "  inflating: /content/AOL AI/train/Ectomorph/-User-00-Ectomorph-JDL-5-_png_jpg.rf.ce5db2403c7c6f67feaf82d662903750.jpg  \n",
            "  inflating: /content/AOL AI/train/Ectomorph/-User-00-Ectomorph-JDL-5-_png_jpg.rf.e4a3984dd991fc6d8e0f1dd46f1efff0.jpg  \n",
            "  inflating: /content/AOL AI/train/Ectomorph/-User-00-Ectomorph-JDL-5-_png_jpg.rf.fa72a84c86e07d53b47759889d2550af.jpg  \n",
            "  inflating: /content/AOL AI/train/Ectomorph/-User-00-Ectomorph-JDL-7-_png_jpg.rf.10d39abbbe0a49dab614ec4645c1c213.jpg  \n",
            "  inflating: /content/AOL AI/train/Ectomorph/-User-00-Ectomorph-JDL-7-_png_jpg.rf.2133a2c91a5ad0eafebc91a25d615b29.jpg  \n",
            "  inflating: /content/AOL AI/train/Ectomorph/-User-00-Ectomorph-JDL-7-_png_jpg.rf.219610ff075684907a708d447c907f06.jpg  \n",
            "  inflating: /content/AOL AI/train/Ectomorph/-User-00-Ectomorph-JDL-7-_png_jpg.rf.3cc3dec5559b73ec0402ca0710cf550b.jpg  \n",
            "  inflating: /content/AOL AI/train/Ectomorph/-User-00-Ectomorph-JDL-7-_png_jpg.rf.41bb6a7206a0bebcfd6979e3a22e913f.jpg  \n",
            "  inflating: /content/AOL AI/train/Ectomorph/-User-00-Ectomorph-JDL-7-_png_jpg.rf.4dc0325025e3d2cb77059f4fd72aca5a.jpg  \n",
            "  inflating: /content/AOL AI/train/Ectomorph/-User-00-Ectomorph-JDL-7-_png_jpg.rf.79e9f6c43cb2a5cfd155a50f8b097e7f.jpg  \n",
            "  inflating: /content/AOL AI/train/Ectomorph/-User-00-Ectomorph-JDL-8-_png_jpg.rf.04b8758b2887322e6f69b848291cf4f6.jpg  \n",
            "  inflating: /content/AOL AI/train/Ectomorph/-User-00-Ectomorph-JDL-8-_png_jpg.rf.081da56c9407f96b391e41b90e6f1831.jpg  \n",
            "  inflating: /content/AOL AI/train/Ectomorph/-User-00-Ectomorph-JDL-8-_png_jpg.rf.2d5e963786801174f8070534b462bf66.jpg  \n",
            "  inflating: /content/AOL AI/train/Ectomorph/-User-00-Ectomorph-JDL-8-_png_jpg.rf.530c9f0ecce1fbc26d9606a6ca00ee7f.jpg  \n",
            "  inflating: /content/AOL AI/train/Ectomorph/-User-00-Ectomorph-JDL-8-_png_jpg.rf.a860f8b0b0793908518cf29e51e3f202.jpg  \n",
            "  inflating: /content/AOL AI/train/Ectomorph/-User-00-Ectomorph-JDL-8-_png_jpg.rf.dd3d2ccd7257699797f1116c197db3d9.jpg  \n",
            "  inflating: /content/AOL AI/train/Ectomorph/-User-00-Ectomorph-JDL-8-_png_jpg.rf.feb5b9c013af42c777a1f8097b75a3aa.jpg  \n",
            "  inflating: /content/AOL AI/train/Ectomorph/-User-00-Ectomorph-JDL-9-_png_jpg.rf.010ca955bc8b8b0a646c1b93f926932a.jpg  \n",
            "  inflating: /content/AOL AI/train/Ectomorph/-User-00-Ectomorph-JDL-9-_png_jpg.rf.18c193e7cbc95af2744c018385db4b7a.jpg  \n",
            "  inflating: /content/AOL AI/train/Ectomorph/-User-00-Ectomorph-JDL-9-_png_jpg.rf.34f8f07aa2bc8aac6b0cae1e60cc10f1.jpg  \n",
            "  inflating: /content/AOL AI/train/Ectomorph/-User-00-Ectomorph-JDL-9-_png_jpg.rf.3af4a2d2d7bb8ea77c5fb1c5e28bb001.jpg  \n",
            "  inflating: /content/AOL AI/train/Ectomorph/-User-00-Ectomorph-JDL-9-_png_jpg.rf.5e0fa5680e16b20b2355afda6157ace8.jpg  \n",
            "  inflating: /content/AOL AI/train/Ectomorph/-User-00-Ectomorph-JDL-9-_png_jpg.rf.db3a481293bcdc5e4665d71882703ed4.jpg  \n",
            "  inflating: /content/AOL AI/train/Ectomorph/-User-00-Ectomorph-JDL-9-_png_jpg.rf.f8fd645c7afbaf3ea06f926dfc945900.jpg  \n",
            "  inflating: /content/AOL AI/train/Ectomorph/Ectomorph-1-_png_jpg.rf.3492ee10577d91e9781d85de9863fb24.jpg  \n",
            "  inflating: /content/AOL AI/train/Ectomorph/Ectomorph-1-_png_jpg.rf.41fc89ffcd81cdb05c08c877978b61dc.jpg  \n",
            "  inflating: /content/AOL AI/train/Ectomorph/Ectomorph-1-_png_jpg.rf.560c6acb967daa6435ec744a3c45b8a2.jpg  \n",
            "  inflating: /content/AOL AI/train/Ectomorph/Ectomorph-1-_png_jpg.rf.73a6347218cda107fec76b33d2d4dd5c.jpg  \n",
            "  inflating: /content/AOL AI/train/Ectomorph/Ectomorph-1-_png_jpg.rf.c87b5619fceb60711dd09cbdfabfbce9.jpg  \n",
            "  inflating: /content/AOL AI/train/Ectomorph/Ectomorph-1-_png_jpg.rf.e20fb9337afed933e9b7aded128b41d6.jpg  \n",
            "  inflating: /content/AOL AI/train/Ectomorph/Ectomorph-1-_png_jpg.rf.e83c5677d5395d8b08e112bc35fbbb4a.jpg  \n",
            "  inflating: /content/AOL AI/train/Ectomorph/Ectomorph-2-_png_jpg.rf.19ad641d690fc78bdfad898df4f39a01.jpg  \n",
            "  inflating: /content/AOL AI/train/Ectomorph/Ectomorph-2-_png_jpg.rf.5f434a314eb87d400bc44b8692efed73.jpg  \n",
            "  inflating: /content/AOL AI/train/Ectomorph/Ectomorph-2-_png_jpg.rf.71c17204b21076665e3936bd3fa069a3.jpg  \n",
            "  inflating: /content/AOL AI/train/Ectomorph/Ectomorph-2-_png_jpg.rf.752a9ad7318438620e904fcc9744b2e4.jpg  \n",
            "  inflating: /content/AOL AI/train/Ectomorph/Ectomorph-2-_png_jpg.rf.8012dbb8c2eb7fbddc5c6a8c4db01a7a.jpg  \n",
            "  inflating: /content/AOL AI/train/Ectomorph/Ectomorph-2-_png_jpg.rf.c9a6c7e3e331d53feeef76185e6a967a.jpg  \n",
            "  inflating: /content/AOL AI/train/Ectomorph/Ectomorph-2-_png_jpg.rf.f31ce082e5cb092132b748a52e7a8877.jpg  \n",
            "  inflating: /content/AOL AI/train/Ectomorph/Ectomorph-4-_png_jpg.rf.1ceb7c8507812d54923b51fab0917ea9.jpg  \n",
            "  inflating: /content/AOL AI/train/Ectomorph/Ectomorph-4-_png_jpg.rf.387a210982b870568d6d8db788f3ef0a.jpg  \n",
            "  inflating: /content/AOL AI/train/Ectomorph/Ectomorph-4-_png_jpg.rf.639064273b406d738ae1eeda5f9b1595.jpg  \n",
            "  inflating: /content/AOL AI/train/Ectomorph/Ectomorph-4-_png_jpg.rf.acb791ac1171d0d247c7aac6aecaef68.jpg  \n",
            "  inflating: /content/AOL AI/train/Ectomorph/Ectomorph-4-_png_jpg.rf.b4df9dd2c58ef101d3ab411258200a9c.jpg  \n",
            "  inflating: /content/AOL AI/train/Ectomorph/Ectomorph-4-_png_jpg.rf.b88a82349539e397f079398368ee78cf.jpg  \n",
            "  inflating: /content/AOL AI/train/Ectomorph/Ectomorph-4-_png_jpg.rf.dea890c4c4e86ee5984637631a14ced4.jpg  \n",
            "  inflating: /content/AOL AI/train/Ectomorph/Ectomorph-5-_png_jpg.rf.1203346dbe1e4305088417e06fac16c7.jpg  \n",
            "  inflating: /content/AOL AI/train/Ectomorph/Ectomorph-5-_png_jpg.rf.2c0362c36c28b5fd6953148c91a0abea.jpg  \n",
            "  inflating: /content/AOL AI/train/Ectomorph/Ectomorph-5-_png_jpg.rf.3e67e6e5ed4240c3b689b879ee15b20a.jpg  \n",
            "  inflating: /content/AOL AI/train/Ectomorph/Ectomorph-5-_png_jpg.rf.6a6bbead9fd356871649e812e83ae21d.jpg  \n",
            "  inflating: /content/AOL AI/train/Ectomorph/Ectomorph-5-_png_jpg.rf.9330ac638acd814f3b1f59a4af87f24f.jpg  \n",
            "  inflating: /content/AOL AI/train/Ectomorph/Ectomorph-5-_png_jpg.rf.9aca94da8a22afa2a689a138ff4316d6.jpg  \n",
            "  inflating: /content/AOL AI/train/Ectomorph/Ectomorph-5-_png_jpg.rf.a481510beaf3e2b6f7a9bb51a89cbc7c.jpg  \n",
            "  inflating: /content/AOL AI/train/Ectomorph/Ectomorph01_png_jpg.rf.0d782d11c621e4100ec1a48f60a5bcbb.jpg  \n",
            "  inflating: /content/AOL AI/train/Ectomorph/Ectomorph01_png_jpg.rf.10bffa4286f44e69dc9fa81b9acf1f14.jpg  \n",
            "  inflating: /content/AOL AI/train/Ectomorph/Ectomorph01_png_jpg.rf.13e64067f2bb69d4a9e819d0a15eb5f9.jpg  \n",
            "  inflating: /content/AOL AI/train/Ectomorph/Ectomorph01_png_jpg.rf.1a729736723356973b4f83a1c69a0b33.jpg  \n",
            "  inflating: /content/AOL AI/train/Ectomorph/Ectomorph01_png_jpg.rf.5582a6ee5b5e0bd6f4f117f314ecc3ff.jpg  \n",
            "  inflating: /content/AOL AI/train/Ectomorph/Ectomorph01_png_jpg.rf.89fe49feb1893e4862695e5a7b9d0cb0.jpg  \n",
            "  inflating: /content/AOL AI/train/Ectomorph/Ectomorph01_png_jpg.rf.8e2443e8772d78ebc9173dfccf427bd0.jpg  \n",
            "  inflating: /content/AOL AI/train/Ectomorph/Ectomorph02_png_jpg.rf.62b71805e83134aea9e7108d5d91d604.jpg  \n",
            "  inflating: /content/AOL AI/train/Ectomorph/Ectomorph02_png_jpg.rf.81551bea5f98a8f54da9009f76398973.jpg  \n",
            "  inflating: /content/AOL AI/train/Ectomorph/Ectomorph02_png_jpg.rf.8d717775783766bcee89531b7110df56.jpg  \n",
            "  inflating: /content/AOL AI/train/Ectomorph/Ectomorph02_png_jpg.rf.b1cf424ac98ae43a6a806972a2ae836d.jpg  \n",
            "  inflating: /content/AOL AI/train/Ectomorph/Ectomorph02_png_jpg.rf.b24f10948bbbc9958e78e2ed14711bff.jpg  \n",
            "  inflating: /content/AOL AI/train/Ectomorph/Ectomorph02_png_jpg.rf.d51d3623ec28f54968fb821a81e84c16.jpg  \n",
            "  inflating: /content/AOL AI/train/Ectomorph/Ectomorph02_png_jpg.rf.de2e0c78bc3420dbe08b4045a23c2118.jpg  \n",
            "  inflating: /content/AOL AI/train/Ectomorph/Ectomorph03_png_jpg.rf.1a3a369d836c8f5526ce9b3921dc2db6.jpg  \n",
            "  inflating: /content/AOL AI/train/Ectomorph/Ectomorph03_png_jpg.rf.23f057302c7d8070fa7282206e105826.jpg  \n",
            "  inflating: /content/AOL AI/train/Ectomorph/Ectomorph03_png_jpg.rf.5f5aecd30e6a89d9c7f4bcbeff73e101.jpg  \n",
            "  inflating: /content/AOL AI/train/Ectomorph/Ectomorph03_png_jpg.rf.8aa48f86e66ac625e789515b099d9d5f.jpg  \n",
            "  inflating: /content/AOL AI/train/Ectomorph/Ectomorph03_png_jpg.rf.a972a65e02fe570ff94ed0acf22932e7.jpg  \n",
            "  inflating: /content/AOL AI/train/Ectomorph/Ectomorph03_png_jpg.rf.b5605ae2e1120db4ec315f2d2b2ce7a9.jpg  \n",
            "  inflating: /content/AOL AI/train/Ectomorph/Ectomorph03_png_jpg.rf.e55de16c37f8c35a301cea494f39b0fd.jpg  \n",
            "  inflating: /content/AOL AI/train/Ectomorph/Ectomorph04_png_jpg.rf.105acbce35c9a02ee1331afd57339aae.jpg  \n",
            "  inflating: /content/AOL AI/train/Ectomorph/Ectomorph04_png_jpg.rf.3720cdeca2d98e89cbc753e566317a77.jpg  \n",
            "  inflating: /content/AOL AI/train/Ectomorph/Ectomorph04_png_jpg.rf.53e1ec7abb1eb6b8a0520e877f1d1967.jpg  \n",
            "  inflating: /content/AOL AI/train/Ectomorph/Ectomorph04_png_jpg.rf.61286ed569c21ca9014e392f11d2d96f.jpg  \n",
            "  inflating: /content/AOL AI/train/Ectomorph/Ectomorph04_png_jpg.rf.64a942339c0aaa6ba197dbf456df5865.jpg  \n",
            "  inflating: /content/AOL AI/train/Ectomorph/Ectomorph04_png_jpg.rf.ac04b7f9422a8f17828adabd0687c518.jpg  \n",
            "  inflating: /content/AOL AI/train/Ectomorph/Ectomorph04_png_jpg.rf.bb11b131118e7071f7ac1a1ddbc8e41c.jpg  \n",
            "  inflating: /content/AOL AI/train/Ectomorph/Ectomorph05_png_jpg.rf.260096678786792a0073ae5477df003d.jpg  \n",
            "  inflating: /content/AOL AI/train/Ectomorph/Ectomorph05_png_jpg.rf.2bb6a8d04a589f8522d001e277398bdd.jpg  \n",
            "  inflating: /content/AOL AI/train/Ectomorph/Ectomorph05_png_jpg.rf.398189b84d9b6fd16c35c50c8c743769.jpg  \n",
            "  inflating: /content/AOL AI/train/Ectomorph/Ectomorph05_png_jpg.rf.50e919f3224dc965c10766f9307fa53a.jpg  \n",
            "  inflating: /content/AOL AI/train/Ectomorph/Ectomorph05_png_jpg.rf.c33461439fc280f3b65d5563f6617c66.jpg  \n",
            "  inflating: /content/AOL AI/train/Ectomorph/Ectomorph05_png_jpg.rf.c8fbb6ea35ba7f2f371edef2577093cf.jpg  \n",
            "  inflating: /content/AOL AI/train/Ectomorph/Ectomorph05_png_jpg.rf.f73e60a3133c0eed71c12cb36928375f.jpg  \n",
            "  inflating: /content/AOL AI/train/Ectomorph/Ectomorph06_png_jpg.rf.0be32ccba7e80ad76b2ab4b26a56c0cc.jpg  \n",
            "  inflating: /content/AOL AI/train/Ectomorph/Ectomorph06_png_jpg.rf.33f74a3e16fff0f9e2f492788b981320.jpg  \n",
            "  inflating: /content/AOL AI/train/Ectomorph/Ectomorph06_png_jpg.rf.471eb58ff50be48ef528a2bd2ea6cb84.jpg  \n",
            "  inflating: /content/AOL AI/train/Ectomorph/Ectomorph06_png_jpg.rf.65b257c7bfa98c8aa3466929d8d43f28.jpg  \n",
            "  inflating: /content/AOL AI/train/Ectomorph/Ectomorph06_png_jpg.rf.6761fe2c9fd18300583d3429c50aa32c.jpg  \n",
            "  inflating: /content/AOL AI/train/Ectomorph/Ectomorph06_png_jpg.rf.c0b9fc7861eeaa1821c7c232b84618f1.jpg  \n",
            "  inflating: /content/AOL AI/train/Ectomorph/Ectomorph06_png_jpg.rf.cf41e112bd5103163408f0b7439fa611.jpg  \n",
            "  inflating: /content/AOL AI/train/Ectomorph/Ectomorph07_png_jpg.rf.1114a333cf57044fbc140645190f7310.jpg  \n",
            "  inflating: /content/AOL AI/train/Ectomorph/Ectomorph07_png_jpg.rf.22739ea8c25fa02f34fa6d53cd750a98.jpg  \n",
            "  inflating: /content/AOL AI/train/Ectomorph/Ectomorph07_png_jpg.rf.2aae44373167c35319167c00ef2d9acf.jpg  \n",
            "  inflating: /content/AOL AI/train/Ectomorph/Ectomorph07_png_jpg.rf.4cb867cfd73040c3faf863d872fb2911.jpg  \n",
            "  inflating: /content/AOL AI/train/Ectomorph/Ectomorph07_png_jpg.rf.5f9880544bac44d235c9c2b3e6729189.jpg  \n",
            "  inflating: /content/AOL AI/train/Ectomorph/Ectomorph07_png_jpg.rf.b209a23750fc5cb997dfdc99e73ea125.jpg  \n",
            "  inflating: /content/AOL AI/train/Ectomorph/Ectomorph07_png_jpg.rf.ce871c4d042a4f18f9a18555b8fbb6d7.jpg  \n",
            "  inflating: /content/AOL AI/train/Ectomorph/Ectomorph1_png_jpg.rf.35ab94f5a094e8b64acd77e11f2c555f.jpg  \n",
            "  inflating: /content/AOL AI/train/Ectomorph/Ectomorph1_png_jpg.rf.47c9fe0f75fa371dacac104ca6f54fd9.jpg  \n",
            "  inflating: /content/AOL AI/train/Ectomorph/Ectomorph1_png_jpg.rf.7399e28c48df7419046da86b1316cc4c.jpg  \n",
            "  inflating: /content/AOL AI/train/Ectomorph/Ectomorph1_png_jpg.rf.a13eaa6d978d97dfcfc1acdbfb547d3d.jpg  \n",
            "  inflating: /content/AOL AI/train/Ectomorph/Ectomorph1_png_jpg.rf.a2e4298f75079a829151249a41194eb9.jpg  \n",
            "  inflating: /content/AOL AI/train/Ectomorph/Ectomorph1_png_jpg.rf.a8cfee700918cfae392da03668697d74.jpg  \n",
            "  inflating: /content/AOL AI/train/Ectomorph/Ectomorph1_png_jpg.rf.d84ec5279467a6b6cd0bfb38353e0843.jpg  \n",
            "  inflating: /content/AOL AI/train/Ectomorph/Ectomorph2_png_jpg.rf.1df3826c6c4ed6a8d2defabd84e09f23.jpg  \n",
            "  inflating: /content/AOL AI/train/Ectomorph/Ectomorph2_png_jpg.rf.5b47c452752061fdc89940cbd1688b74.jpg  \n",
            "  inflating: /content/AOL AI/train/Ectomorph/Ectomorph2_png_jpg.rf.69701a2624c85ac0d2fe426bac6793f8.jpg  \n",
            "  inflating: /content/AOL AI/train/Ectomorph/Ectomorph2_png_jpg.rf.947beab4083aedeaedc938238b69ecd6.jpg  \n",
            "  inflating: /content/AOL AI/train/Ectomorph/Ectomorph2_png_jpg.rf.b4c2a70d82eb8ae58468c7eb8d03faf7.jpg  \n",
            "  inflating: /content/AOL AI/train/Ectomorph/Ectomorph2_png_jpg.rf.c47522bd4b87eb01200b8980c6a539e8.jpg  \n",
            "  inflating: /content/AOL AI/train/Ectomorph/Ectomorph2_png_jpg.rf.f70779ba5da6ef38aade7ec0449c6408.jpg  \n",
            "  inflating: /content/AOL AI/train/Ectomorph/Ectomorph3_png_jpg.rf.1df3c09a216f1d0e31a7c71bacefff99.jpg  \n",
            "  inflating: /content/AOL AI/train/Ectomorph/Ectomorph3_png_jpg.rf.50f3cea56504378fb12e053d4075e714.jpg  \n",
            "  inflating: /content/AOL AI/train/Ectomorph/Ectomorph3_png_jpg.rf.87469705570fd7f4e3eefae6e16d0450.jpg  \n",
            "  inflating: /content/AOL AI/train/Ectomorph/Ectomorph3_png_jpg.rf.8cdf02e6a44dfe7236b90fd382eb1395.jpg  \n",
            "  inflating: /content/AOL AI/train/Ectomorph/Ectomorph3_png_jpg.rf.babe54a76614fe2a794ebb57ea43d14e.jpg  \n",
            "  inflating: /content/AOL AI/train/Ectomorph/Ectomorph3_png_jpg.rf.f2ded75d3f9b3b04d5fb0f6d64e48b66.jpg  \n",
            "  inflating: /content/AOL AI/train/Ectomorph/Ectomorph3_png_jpg.rf.ffb30f6c9f5ce2b546c21118956646a3.jpg  \n",
            "  inflating: /content/AOL AI/train/Ectomorph/Ectomorph5_png_jpg.rf.2cb101465deab911c9a4727f6a0c223c.jpg  \n",
            "  inflating: /content/AOL AI/train/Ectomorph/Ectomorph5_png_jpg.rf.435716abc43430d932484e836b79e10d.jpg  \n",
            "  inflating: /content/AOL AI/train/Ectomorph/Ectomorph5_png_jpg.rf.5a93a99c439915dbf3e44de6ac914f1a.jpg  \n",
            "  inflating: /content/AOL AI/train/Ectomorph/Ectomorph5_png_jpg.rf.63805ef5c72646a80f3a15ec3cadff12.jpg  \n",
            "  inflating: /content/AOL AI/train/Ectomorph/Ectomorph5_png_jpg.rf.9988b68db3531bf9f2a010c5a7ff6a86.jpg  \n",
            "  inflating: /content/AOL AI/train/Ectomorph/Ectomorph5_png_jpg.rf.d9bc381cfc1bb99cc81d569eca04bc26.jpg  \n",
            "  inflating: /content/AOL AI/train/Ectomorph/Ectomorph5_png_jpg.rf.ee6a96dbaa4576ee0cf4d17b876c0f61.jpg  \n",
            "  inflating: /content/AOL AI/train/Ectomorph/Ectomorph6_png_jpg.rf.5582195e4721b79b88f580c180ec0fcd.jpg  \n",
            "  inflating: /content/AOL AI/train/Ectomorph/Ectomorph6_png_jpg.rf.57079796f9d82c0cb3149acfea2cd4aa.jpg  \n",
            "  inflating: /content/AOL AI/train/Ectomorph/Ectomorph6_png_jpg.rf.7cd825eb563aa34ee6f991b38a05a881.jpg  \n",
            "  inflating: /content/AOL AI/train/Ectomorph/Ectomorph6_png_jpg.rf.83a508048838dff809c3f41b7fc7618f.jpg  \n",
            "  inflating: /content/AOL AI/train/Ectomorph/Ectomorph6_png_jpg.rf.deba1cf7b63bd8d90c2559183a4c8fbf.jpg  \n",
            "  inflating: /content/AOL AI/train/Ectomorph/Ectomorph6_png_jpg.rf.f0ff428dae8200b513a8d2d584bc67cb.jpg  \n",
            "  inflating: /content/AOL AI/train/Ectomorph/Ectomorph6_png_jpg.rf.f695926d38c8465a1d73d65615e762de.jpg  \n",
            "  inflating: /content/AOL AI/train/Ectomorph/image-2-_jpg.rf.561804b2d4c3e3e3e165c632b5a54827.jpg  \n",
            "  inflating: /content/AOL AI/train/Ectomorph/image-2-_jpg.rf.5b6ebf3ada564d5b417865302addbd48.jpg  \n",
            "  inflating: /content/AOL AI/train/Ectomorph/image-2-_jpg.rf.823b0705934d08b0047ea95575af8e2f.jpg  \n",
            "  inflating: /content/AOL AI/train/Ectomorph/image-2-_jpg.rf.847632f3de2714dd31d6e0a6724140eb.jpg  \n",
            "  inflating: /content/AOL AI/train/Ectomorph/image-2-_jpg.rf.b38d854d488b0b91ca1b13cf2d07f33a.jpg  \n",
            "  inflating: /content/AOL AI/train/Ectomorph/image-2-_jpg.rf.c800e3ed4c2e15aec499cc4517420140.jpg  \n",
            "  inflating: /content/AOL AI/train/Ectomorph/image-2-_jpg.rf.ce25bc0df880c7f18749b07409d1e74b.jpg  \n",
            "  inflating: /content/AOL AI/train/Ectomorph/Screenshot_1_png_jpg.rf.2f483d2f01d38a517a43a37c1ad8e230.jpg  \n",
            "  inflating: /content/AOL AI/train/Ectomorph/Screenshot_1_png_jpg.rf.545affba9189dc1c1a0826921fb7a43c.jpg  \n",
            "  inflating: /content/AOL AI/train/Ectomorph/Screenshot_1_png_jpg.rf.5be23f14fec9cf2b787a5bbe27797f84.jpg  \n",
            "  inflating: /content/AOL AI/train/Ectomorph/Screenshot_1_png_jpg.rf.624e405b4fc4f2ec9a50b8b6e3e754d1.jpg  \n",
            "  inflating: /content/AOL AI/train/Ectomorph/Screenshot_1_png_jpg.rf.6daea35fe7d3f48ee0915f75fe6cb3b9.jpg  \n",
            "  inflating: /content/AOL AI/train/Ectomorph/Screenshot_1_png_jpg.rf.cdfa9989ebd08668fc321bde63da8253.jpg  \n",
            "  inflating: /content/AOL AI/train/Ectomorph/Screenshot_1_png_jpg.rf.e827be33db885997669ab59e51f91f65.jpg  \n",
            "   creating: /content/AOL AI/train/Endomorph/\n",
            "  inflating: /content/AOL AI/train/Endomorph/-User-00-Endomorph-1-_jpg.rf.31285bf06ca74ab8d665a5e0c4a7402a.jpg  \n",
            "  inflating: /content/AOL AI/train/Endomorph/-User-00-Endomorph-1-_jpg.rf.56b656ca61e0ec944cb1a1d5527ef655.jpg  \n",
            "  inflating: /content/AOL AI/train/Endomorph/-User-00-Endomorph-1-_jpg.rf.7470a904b382e3522d04c7ac946c123d.jpg  \n",
            "  inflating: /content/AOL AI/train/Endomorph/-User-00-Endomorph-1-_jpg.rf.774f97a5f0cb9a965f5a305843887753.jpg  \n",
            "  inflating: /content/AOL AI/train/Endomorph/-User-00-Endomorph-1-_jpg.rf.7cbcffb43462d6695ddcf927e434d5d2.jpg  \n",
            "  inflating: /content/AOL AI/train/Endomorph/-User-00-Endomorph-1-_jpg.rf.b765dedb4517e177504f9cf651141fbb.jpg  \n",
            "  inflating: /content/AOL AI/train/Endomorph/-User-00-Endomorph-1-_jpg.rf.b92a13b2f4069208f5f59e30bfa70941.jpg  \n",
            "  inflating: /content/AOL AI/train/Endomorph/-User-00-Endomorph-10-_jpg.rf.2bdb72f02ff137aa365e6d9240805535.jpg  \n",
            "  inflating: /content/AOL AI/train/Endomorph/-User-00-Endomorph-10-_jpg.rf.744b6925e10073b3cacc0f7c14de1309.jpg  \n",
            "  inflating: /content/AOL AI/train/Endomorph/-User-00-Endomorph-10-_jpg.rf.81c0fc27d3418fcbcce27a4f2dbeade8.jpg  \n",
            "  inflating: /content/AOL AI/train/Endomorph/-User-00-Endomorph-10-_jpg.rf.96481f6f9c8204213abbca0be7e4bd71.jpg  \n",
            "  inflating: /content/AOL AI/train/Endomorph/-User-00-Endomorph-10-_jpg.rf.d668a875bc940d11b151c6ae888625ee.jpg  \n",
            "  inflating: /content/AOL AI/train/Endomorph/-User-00-Endomorph-10-_jpg.rf.e005d386f5f545f9348af22a3b949513.jpg  \n",
            "  inflating: /content/AOL AI/train/Endomorph/-User-00-Endomorph-10-_jpg.rf.e4b67d5eae7b27e3ace8d88837a97e97.jpg  \n",
            "  inflating: /content/AOL AI/train/Endomorph/-User-00-Endomorph-12-_jpg.rf.00b2932c5086b69293da9c7f7b38eca5.jpg  \n",
            "  inflating: /content/AOL AI/train/Endomorph/-User-00-Endomorph-12-_jpg.rf.12b10003eb33ea9eefc204524f907894.jpg  \n",
            "  inflating: /content/AOL AI/train/Endomorph/-User-00-Endomorph-12-_jpg.rf.15cbda873581f0f1f3f2fcd6a2685eea.jpg  \n",
            "  inflating: /content/AOL AI/train/Endomorph/-User-00-Endomorph-12-_jpg.rf.2053ac72686981e11e5dcf277f39d385.jpg  \n",
            "  inflating: /content/AOL AI/train/Endomorph/-User-00-Endomorph-12-_jpg.rf.5f4a2bba913909ed2a9608e88ae82ec7.jpg  \n",
            "  inflating: /content/AOL AI/train/Endomorph/-User-00-Endomorph-12-_jpg.rf.9d91152209eaa3f2469e05ac91786ad8.jpg  \n",
            "  inflating: /content/AOL AI/train/Endomorph/-User-00-Endomorph-12-_jpg.rf.e53a4c578f4b109f26a34eb96c828af8.jpg  \n",
            "  inflating: /content/AOL AI/train/Endomorph/-User-00-Endomorph-13-_jpg.rf.465691db5b8fe8b3f98ffc78de0f8497.jpg  \n",
            "  inflating: /content/AOL AI/train/Endomorph/-User-00-Endomorph-13-_jpg.rf.a2f82d80b4cdb808f7f5ef2be19890c7.jpg  \n",
            "  inflating: /content/AOL AI/train/Endomorph/-User-00-Endomorph-13-_jpg.rf.d7a6092e32e28befdc47de2f1d8495b7.jpg  \n",
            "  inflating: /content/AOL AI/train/Endomorph/-User-00-Endomorph-13-_jpg.rf.da8a9dae22a3b2e3081c2de1fc840760.jpg  \n",
            "  inflating: /content/AOL AI/train/Endomorph/-User-00-Endomorph-13-_jpg.rf.e60d214de4fd683aab89d3de9961b2aa.jpg  \n",
            "  inflating: /content/AOL AI/train/Endomorph/-User-00-Endomorph-13-_jpg.rf.e807ee0bf619b7116810253f564eedf9.jpg  \n",
            "  inflating: /content/AOL AI/train/Endomorph/-User-00-Endomorph-13-_jpg.rf.ec8f22956aceb260f49c1354e9867541.jpg  \n",
            "  inflating: /content/AOL AI/train/Endomorph/-User-00-Endomorph-14-_jpg.rf.14549adab649782b87f42aba1a7671e1.jpg  \n",
            "  inflating: /content/AOL AI/train/Endomorph/-User-00-Endomorph-14-_jpg.rf.18244b509fbb4a8fba0fdac82eb84104.jpg  \n",
            "  inflating: /content/AOL AI/train/Endomorph/-User-00-Endomorph-14-_jpg.rf.2b29008d114ec2476bd6aeb47f5ed2dd.jpg  \n",
            "  inflating: /content/AOL AI/train/Endomorph/-User-00-Endomorph-14-_jpg.rf.2b3e547405812ae51dcf7594948b2c79.jpg  \n",
            "  inflating: /content/AOL AI/train/Endomorph/-User-00-Endomorph-14-_jpg.rf.383da352bbe0bc3c57c21c7fbd143d97.jpg  \n",
            "  inflating: /content/AOL AI/train/Endomorph/-User-00-Endomorph-14-_jpg.rf.75346c1ff132c99c0e13ce509ec520c7.jpg  \n",
            "  inflating: /content/AOL AI/train/Endomorph/-User-00-Endomorph-14-_jpg.rf.94d46e36337fe51fb6b095681c9a6eb5.jpg  \n",
            "  inflating: /content/AOL AI/train/Endomorph/-User-00-Endomorph-15-_jpg.rf.203934b27ca35c2b5b942ecc8372f2ba.jpg  \n",
            "  inflating: /content/AOL AI/train/Endomorph/-User-00-Endomorph-15-_jpg.rf.7af9d7f15153aad05784714deca8a76e.jpg  \n",
            "  inflating: /content/AOL AI/train/Endomorph/-User-00-Endomorph-15-_jpg.rf.95da3d6817faf74d2345f32af1fbc658.jpg  \n",
            "  inflating: /content/AOL AI/train/Endomorph/-User-00-Endomorph-15-_jpg.rf.ae5bda12482decfacf198dc875e49c1a.jpg  \n",
            "  inflating: /content/AOL AI/train/Endomorph/-User-00-Endomorph-15-_jpg.rf.d11a026f2cd76c8e1a1500a40f4279ea.jpg  \n",
            "  inflating: /content/AOL AI/train/Endomorph/-User-00-Endomorph-15-_jpg.rf.dc502ec2c8e4afd79f273ee3ffc6b02f.jpg  \n",
            "  inflating: /content/AOL AI/train/Endomorph/-User-00-Endomorph-15-_jpg.rf.e457b03a258f5c1c1d34fcfaf4434e24.jpg  \n",
            "  inflating: /content/AOL AI/train/Endomorph/-User-00-Endomorph-16-_jpg.rf.331ad8fecdc34b4f713d41dcea589fdf.jpg  \n",
            "  inflating: /content/AOL AI/train/Endomorph/-User-00-Endomorph-16-_jpg.rf.45690da143169e1993d2bd89dd01766f.jpg  \n",
            "  inflating: /content/AOL AI/train/Endomorph/-User-00-Endomorph-16-_jpg.rf.62c6fb36289616b45610516d03e3120d.jpg  \n",
            "  inflating: /content/AOL AI/train/Endomorph/-User-00-Endomorph-16-_jpg.rf.69ff8d31f618683b65ddab62872130b7.jpg  \n",
            "  inflating: /content/AOL AI/train/Endomorph/-User-00-Endomorph-16-_jpg.rf.6ea57b3c9e0f25c5c1db44ad99e1acaa.jpg  \n",
            "  inflating: /content/AOL AI/train/Endomorph/-User-00-Endomorph-16-_jpg.rf.787fb71ce4af430946a4c9c90a1bdd61.jpg  \n",
            "  inflating: /content/AOL AI/train/Endomorph/-User-00-Endomorph-16-_jpg.rf.dd241bab5c0beb670bcf37972ebf7a53.jpg  \n",
            "  inflating: /content/AOL AI/train/Endomorph/-User-00-Endomorph-18-_jpg.rf.5ae8c78c9dc362004b3efabd36576261.jpg  \n",
            "  inflating: /content/AOL AI/train/Endomorph/-User-00-Endomorph-18-_jpg.rf.613f00c3b7b15a229f1a0b37b52f7fc7.jpg  \n",
            "  inflating: /content/AOL AI/train/Endomorph/-User-00-Endomorph-18-_jpg.rf.72e1fb7c82a590e7a9383043553c4ac4.jpg  \n",
            "  inflating: /content/AOL AI/train/Endomorph/-User-00-Endomorph-18-_jpg.rf.782c9dcafc3916f4336d9f4726787ddf.jpg  \n",
            "  inflating: /content/AOL AI/train/Endomorph/-User-00-Endomorph-18-_jpg.rf.b6230f84e57933f5a19eea9dad4f8e0f.jpg  \n",
            "  inflating: /content/AOL AI/train/Endomorph/-User-00-Endomorph-18-_jpg.rf.cd50a8a374a62825853bded763186897.jpg  \n",
            "  inflating: /content/AOL AI/train/Endomorph/-User-00-Endomorph-18-_jpg.rf.d2f65f1e9bdb6f9cd621be013a8aa1cb.jpg  \n",
            "  inflating: /content/AOL AI/train/Endomorph/-User-00-Endomorph-1A-_jpg.rf.0be0346fdcb751fefb0b16a648c792fb.jpg  \n",
            "  inflating: /content/AOL AI/train/Endomorph/-User-00-Endomorph-1A-_jpg.rf.10e25e81fea6103204e1b708ddd73f2a.jpg  \n",
            "  inflating: /content/AOL AI/train/Endomorph/-User-00-Endomorph-1A-_jpg.rf.4ec21f271ef4ed12d67329fd856c97ac.jpg  \n",
            "  inflating: /content/AOL AI/train/Endomorph/-User-00-Endomorph-1A-_jpg.rf.5999bf02c8cc93735a051312f3103375.jpg  \n",
            "  inflating: /content/AOL AI/train/Endomorph/-User-00-Endomorph-1A-_jpg.rf.62e042935745d9fafc831a7821bcce93.jpg  \n",
            "  inflating: /content/AOL AI/train/Endomorph/-User-00-Endomorph-1A-_jpg.rf.c6ab40c2020041138e8342f9c10f27c8.jpg  \n",
            "  inflating: /content/AOL AI/train/Endomorph/-User-00-Endomorph-1A-_jpg.rf.fbf179f0ff4ce247d69b23e35bfcfc0d.jpg  \n",
            "  inflating: /content/AOL AI/train/Endomorph/-User-00-Endomorph-20-_jpg.rf.02cdd6eb0b69f9c79705bbcbd9f8c96c.jpg  \n",
            "  inflating: /content/AOL AI/train/Endomorph/-User-00-Endomorph-20-_jpg.rf.4bb7eea6eaab683c3db2c8ae01118385.jpg  \n",
            "  inflating: /content/AOL AI/train/Endomorph/-User-00-Endomorph-20-_jpg.rf.745d06e6902f21b0cfe2eb79fd7440a1.jpg  \n",
            "  inflating: /content/AOL AI/train/Endomorph/-User-00-Endomorph-20-_jpg.rf.bda20b86c20ed1d9053408f622866194.jpg  \n",
            "  inflating: /content/AOL AI/train/Endomorph/-User-00-Endomorph-20-_jpg.rf.c957c1b620cd2674af8c218c3603220e.jpg  \n",
            "  inflating: /content/AOL AI/train/Endomorph/-User-00-Endomorph-20-_jpg.rf.ce83d89165b52ec28d577ab8b7b26c86.jpg  \n",
            "  inflating: /content/AOL AI/train/Endomorph/-User-00-Endomorph-20-_jpg.rf.fa5a3310c7cbaa7a5398a2b237966766.jpg  \n",
            "  inflating: /content/AOL AI/train/Endomorph/-User-00-Endomorph-21-_jpg.rf.4d79332e9c72f6eb3d44825057a3ec7f.jpg  \n",
            "  inflating: /content/AOL AI/train/Endomorph/-User-00-Endomorph-21-_jpg.rf.58561f992f5ed796168a41e106775733.jpg  \n",
            "  inflating: /content/AOL AI/train/Endomorph/-User-00-Endomorph-21-_jpg.rf.73a273aa1052b6dd6de4eae1330e1dc5.jpg  \n",
            "  inflating: /content/AOL AI/train/Endomorph/-User-00-Endomorph-21-_jpg.rf.9cde74731215535b1d30d67ab12ae2ef.jpg  \n",
            "  inflating: /content/AOL AI/train/Endomorph/-User-00-Endomorph-21-_jpg.rf.9f5fe80c8f828c22c4d18510473d7841.jpg  \n",
            "  inflating: /content/AOL AI/train/Endomorph/-User-00-Endomorph-21-_jpg.rf.ad86954ef1f5251a333299188405f3b3.jpg  \n",
            "  inflating: /content/AOL AI/train/Endomorph/-User-00-Endomorph-24-_jpg.rf.aaf4ae13e63711630be485bf9db62855.jpg  \n",
            "  inflating: /content/AOL AI/train/Endomorph/-User-00-Endomorph-28-_png_jpg.rf.a7572627716d87d3d7a4f712251aee55.jpg  \n",
            "  inflating: /content/AOL AI/train/Endomorph/-User-00-Endomorph-3-_jpg.rf.0ab690db6a1e6d788f165f7a71a7892e.jpg  \n",
            "  inflating: /content/AOL AI/train/Endomorph/-User-00-Endomorph-3-_jpg.rf.1011835c8beae4171018183f173203b0.jpg  \n",
            "  inflating: /content/AOL AI/train/Endomorph/-User-00-Endomorph-3-_jpg.rf.2f487a51e8347059475eb821dce19976.jpg  \n",
            "  inflating: /content/AOL AI/train/Endomorph/-User-00-Endomorph-3-_jpg.rf.3ae56a6307d598ef916dca0116517597.jpg  \n",
            "  inflating: /content/AOL AI/train/Endomorph/-User-00-Endomorph-3-_jpg.rf.5aa70d3cf84059c9fccf26a2f156cdd8.jpg  \n",
            "  inflating: /content/AOL AI/train/Endomorph/-User-00-Endomorph-3-_jpg.rf.e6a49820b9bb7912951e30de5466e2ae.jpg  \n",
            "  inflating: /content/AOL AI/train/Endomorph/-User-00-Endomorph-3-_jpg.rf.fba0f3e7e101a77f8f5a2f4039da7c2d.jpg  \n",
            "  inflating: /content/AOL AI/train/Endomorph/-User-00-Endomorph-4-_jpg.rf.16eaf72e847fd20e2352a42bbbdaba76.jpg  \n",
            "  inflating: /content/AOL AI/train/Endomorph/-User-00-Endomorph-4-_jpg.rf.528de2f4f50460191c096efdf1f8f525.jpg  \n",
            "  inflating: /content/AOL AI/train/Endomorph/-User-00-Endomorph-4-_jpg.rf.60fa87007ba465437b13be99b730be19.jpg  \n",
            "  inflating: /content/AOL AI/train/Endomorph/-User-00-Endomorph-4-_jpg.rf.7fe57a704bc6ab20e8d9e968c02c95c3.jpg  \n",
            "  inflating: /content/AOL AI/train/Endomorph/-User-00-Endomorph-4-_jpg.rf.d1f524db681fff81c78d4b7c809328a6.jpg  \n",
            "  inflating: /content/AOL AI/train/Endomorph/-User-00-Endomorph-4-_jpg.rf.e4b7d75db8bb80f1b4ae48055a6cf13d.jpg  \n",
            "  inflating: /content/AOL AI/train/Endomorph/-User-00-Endomorph-4-_jpg.rf.f2b740a6cd64d1bddd442bbd269593fd.jpg  \n",
            "  inflating: /content/AOL AI/train/Endomorph/-User-00-Endomorph-6-_png_jpg.rf.2707d64044a8c5b0db9bf9d2489b2827.jpg  \n",
            "  inflating: /content/AOL AI/train/Endomorph/-User-00-Endomorph-6-_png_jpg.rf.4cbc2f6880f3824928896537e8ff7d3d.jpg  \n",
            "  inflating: /content/AOL AI/train/Endomorph/-User-00-Endomorph-6-_png_jpg.rf.8067ffbcfa6115d44ad854aac2a6ea25.jpg  \n",
            "  inflating: /content/AOL AI/train/Endomorph/-User-00-Endomorph-6-_png_jpg.rf.87614c3295ff726b1a65d953fd463509.jpg  \n",
            "  inflating: /content/AOL AI/train/Endomorph/-User-00-Endomorph-6-_png_jpg.rf.899d50d3e92ce5fb503c0f37cf09d7ff.jpg  \n",
            "  inflating: /content/AOL AI/train/Endomorph/-User-00-Endomorph-6-_png_jpg.rf.ce63eaf23716685e8a8113e46fbe9207.jpg  \n",
            "  inflating: /content/AOL AI/train/Endomorph/-User-00-Endomorph-6-_png_jpg.rf.f7909d5bd30f9d2b25b6dea53d1bdae5.jpg  \n",
            "  inflating: /content/AOL AI/train/Endomorph/-User-00-Endomorph-7-_png_jpg.rf.2f501ca5226a03c03bcd5c49e2837c2f.jpg  \n",
            "  inflating: /content/AOL AI/train/Endomorph/-User-00-Endomorph-7-_png_jpg.rf.4c02e273bb02df9979e6523d33b5d3fc.jpg  \n",
            "  inflating: /content/AOL AI/train/Endomorph/-User-00-Endomorph-7-_png_jpg.rf.a842709dd0996f55cce3acecae46b84a.jpg  \n",
            "  inflating: /content/AOL AI/train/Endomorph/-User-00-Endomorph-7-_png_jpg.rf.ade2119fd23ad190712a7d2ed9924a99.jpg  \n",
            "  inflating: /content/AOL AI/train/Endomorph/-User-00-Endomorph-7-_png_jpg.rf.b1d7968ecf1cb1afed8d61dcfb826918.jpg  \n",
            "  inflating: /content/AOL AI/train/Endomorph/-User-00-Endomorph-7-_png_jpg.rf.ef064a2e3259a19a36029ded525fe85e.jpg  \n",
            "  inflating: /content/AOL AI/train/Endomorph/-User-00-Endomorph-7-_png_jpg.rf.f51f2743d9f38bc817ff9d11dd33d01f.jpg  \n",
            "  inflating: /content/AOL AI/train/Endomorph/-User-00-Endomorph-8-_png_jpg.rf.23def52b44c03ebf56f9ad7c104a4bc0.jpg  \n",
            "  inflating: /content/AOL AI/train/Endomorph/-User-00-Endomorph-8-_png_jpg.rf.44914db0686234007a636d91033efaf6.jpg  \n",
            "  inflating: /content/AOL AI/train/Endomorph/-User-00-Endomorph-8-_png_jpg.rf.5afad77f33732988280095ac9fd56c9d.jpg  \n",
            "  inflating: /content/AOL AI/train/Endomorph/-User-00-Endomorph-8-_png_jpg.rf.6d100f4a4efda7bf7e3bf03f55d7339e.jpg  \n",
            "  inflating: /content/AOL AI/train/Endomorph/-User-00-Endomorph-8-_png_jpg.rf.8ec0b0351234d4a9180857f72ef17178.jpg  \n",
            "  inflating: /content/AOL AI/train/Endomorph/-User-00-Endomorph-8-_png_jpg.rf.9c3bf8a1402f88b2d1204ef793050ce6.jpg  \n",
            "  inflating: /content/AOL AI/train/Endomorph/-User-00-Endomorph-8-_png_jpg.rf.eb011fa203e0b231f2dcb72237149a80.jpg  \n",
            "  inflating: /content/AOL AI/train/Endomorph/-User-00-Endomorph-9-_png_jpg.rf.25baa1ed2bea0787d1346903a6fbd03a.jpg  \n",
            "  inflating: /content/AOL AI/train/Endomorph/-User-00-Endomorph-9-_png_jpg.rf.3c85d4a464b5dc0d150d8ac405f26f77.jpg  \n",
            "  inflating: /content/AOL AI/train/Endomorph/-User-00-Endomorph-9-_png_jpg.rf.4a6bee7501188074237887e24f54cf0a.jpg  \n",
            "  inflating: /content/AOL AI/train/Endomorph/-User-00-Endomorph-9-_png_jpg.rf.b7c3280c57a54e8c0656d6684f21b780.jpg  \n",
            "  inflating: /content/AOL AI/train/Endomorph/-User-00-Endomorph-9-_png_jpg.rf.bdd86013e64547a65d8fbfd0a9253b85.jpg  \n",
            "  inflating: /content/AOL AI/train/Endomorph/-User-00-Endomorph-9-_png_jpg.rf.c8ed34bb4bd6acf54c0f468f9beea23f.jpg  \n",
            "  inflating: /content/AOL AI/train/Endomorph/-User-00-Endomorph-9-_png_jpg.rf.d76b1cb2bd40c561d8137ba8bd56b814.jpg  \n",
            "  inflating: /content/AOL AI/train/Endomorph/-User-00-Endomorph-JDL-1-_jpg.rf.e162cb0df3228f68b44f5ab4282e1e80.jpg  \n",
            "  inflating: /content/AOL AI/train/Endomorph/-User-00-Endomorph-JDL-2-_png_jpg.rf.2ff72b46f4b0c67caec409f91f0ef56c.jpg  \n",
            "  inflating: /content/AOL AI/train/Endomorph/-User-00-Endomorph-JDL-2-_png_jpg.rf.aee6c38802163b451928abe317f69cb3.jpg  \n",
            "  inflating: /content/AOL AI/train/Endomorph/-User-00-Endomorph-JDL-2-_png_jpg.rf.b08f9b9b1de759f719406a245312c589.jpg  \n",
            "  inflating: /content/AOL AI/train/Endomorph/-User-00-Endomorph-JDL-2-_png_jpg.rf.cc72acb4d23779972d6dc9a306fdf006.jpg  \n",
            "  inflating: /content/AOL AI/train/Endomorph/-User-00-Endomorph-JDL-2-_png_jpg.rf.e3b62ae318cab1bad74abc510d97374c.jpg  \n",
            "  inflating: /content/AOL AI/train/Endomorph/-User-00-Endomorph-JDL-2-_png_jpg.rf.efd3dbb55ea4ebf8f890425d66900ec5.jpg  \n",
            "  inflating: /content/AOL AI/train/Endomorph/-User-00-Endomorph-JDL-2-_png_jpg.rf.f955765818db6a870f4b1e52f5b3c4ba.jpg  \n",
            "  inflating: /content/AOL AI/train/Endomorph/-User-00-Endomorph-JDL-4-_png_jpg.rf.272b72020bafc5ed1bce4966129328ea.jpg  \n",
            "  inflating: /content/AOL AI/train/Endomorph/-User-00-Endomorph-JDL-4-_png_jpg.rf.358137d0312c64f3540eade8174c13ea.jpg  \n",
            "  inflating: /content/AOL AI/train/Endomorph/-User-00-Endomorph-JDL-4-_png_jpg.rf.a7d008aa8b6814711868236c1d9c6b06.jpg  \n",
            "  inflating: /content/AOL AI/train/Endomorph/-User-00-Endomorph-JDL-4-_png_jpg.rf.b317f568e10a18b531e214da13bf9d99.jpg  \n",
            "  inflating: /content/AOL AI/train/Endomorph/-User-00-Endomorph-JDL-4-_png_jpg.rf.bfb0b5015c6ea6f3e3fd49ffaf126944.jpg  \n",
            "  inflating: /content/AOL AI/train/Endomorph/-User-00-Endomorph-JDL-4-_png_jpg.rf.d0ed014ca335f9c7cd2a1eda85fa1671.jpg  \n",
            "  inflating: /content/AOL AI/train/Endomorph/-User-00-Endomorph-JDL-4-_png_jpg.rf.d9faee0a0483be62193fb94c554edd17.jpg  \n",
            "  inflating: /content/AOL AI/train/Endomorph/-User-00-Endomorph-JDL-7-_png_jpg.rf.088cb3e64dc2e1ce2b0e2d20a9b6c7b0.jpg  \n",
            "  inflating: /content/AOL AI/train/Endomorph/-User-00-Endomorph-JDL-7-_png_jpg.rf.26df56466776e97af2555f2dbcb4f9a2.jpg  \n",
            "  inflating: /content/AOL AI/train/Endomorph/-User-00-Endomorph-JDL-7-_png_jpg.rf.5496b437f42fd3e71ff42aa91c3a966a.jpg  \n",
            "  inflating: /content/AOL AI/train/Endomorph/-User-00-Endomorph-JDL-7-_png_jpg.rf.6c2c77c2ec5a0db0c3a0b8647ef8264a.jpg  \n",
            "  inflating: /content/AOL AI/train/Endomorph/-User-00-Endomorph-JDL-7-_png_jpg.rf.74b5dbf666cb019810622234be754390.jpg  \n",
            "  inflating: /content/AOL AI/train/Endomorph/-User-00-Endomorph-JDL-7-_png_jpg.rf.77566e982529b26a1b57db7c9d79e196.jpg  \n",
            "  inflating: /content/AOL AI/train/Endomorph/-User-00-Endomorph-JDL-7-_png_jpg.rf.80b18447af83b9e5e1f71fbc19343933.jpg  \n",
            "  inflating: /content/AOL AI/train/Endomorph/-User-00-Endomorph-JDL-8-_png_jpg.rf.2af2a8407deaa1d732e518d9d921f02d.jpg  \n",
            "  inflating: /content/AOL AI/train/Endomorph/-User-00-Endomorph-JDL-8-_png_jpg.rf.930a03ce0869030fc8371b026a4bc474.jpg  \n",
            "  inflating: /content/AOL AI/train/Endomorph/-User-00-Endomorph-JDL-8-_png_jpg.rf.adf87383da09ef9cd8916b69dfcc943e.jpg  \n",
            "  inflating: /content/AOL AI/train/Endomorph/-User-00-Endomorph-JDL-8-_png_jpg.rf.b8f901c95291b486bcb9f2b7bbf18dfa.jpg  \n",
            "  inflating: /content/AOL AI/train/Endomorph/-User-00-Endomorph-JDL-8-_png_jpg.rf.cc3854821f5cc7594e604bd24579ee43.jpg  \n",
            "  inflating: /content/AOL AI/train/Endomorph/-User-00-Endomorph-JDL-8-_png_jpg.rf.da6991f75ebbbadf95e2a7ad5428c00f.jpg  \n",
            "  inflating: /content/AOL AI/train/Endomorph/-User-00-Endomorph-JDL-8-_png_jpg.rf.e9bb8d87105a6dc546f355579775aab1.jpg  \n",
            "  inflating: /content/AOL AI/train/Endomorph/-User-00-Endomorph-JDL-9-_png_jpg.rf.220e3abce58eb2ea767b69221fa362e1.jpg  \n",
            "  inflating: /content/AOL AI/train/Endomorph/-User-00-Endomorph-JDL-9-_png_jpg.rf.2add7132933b3ec7580ea2431c5f83b4.jpg  \n",
            "  inflating: /content/AOL AI/train/Endomorph/-User-00-Endomorph-JDL-9-_png_jpg.rf.458af555059bf469a7b3fbb9800df8cb.jpg  \n",
            "  inflating: /content/AOL AI/train/Endomorph/-User-00-Endomorph-JDL-9-_png_jpg.rf.640f6e32a59074e219dd048db0dce445.jpg  \n",
            "  inflating: /content/AOL AI/train/Endomorph/-User-00-Endomorph-JDL-9-_png_jpg.rf.8b20efec6a2c4565a23205bed52679cc.jpg  \n",
            "  inflating: /content/AOL AI/train/Endomorph/-User-00-Endomorph-JDL-9-_png_jpg.rf.a046f96b2e47a526ac00ca9c8d458c6e.jpg  \n",
            "  inflating: /content/AOL AI/train/Endomorph/-User-00-Endomorph-JDL-9-_png_jpg.rf.e44b03a407d5e76b4dd5160307db4ccc.jpg  \n",
            "  inflating: /content/AOL AI/train/Endomorph/Endomorph-1-_png_jpg.rf.1aca052b0a5d66bd3eebaeb47b52ebd2.jpg  \n",
            "  inflating: /content/AOL AI/train/Endomorph/Endomorph-1-_png_jpg.rf.3262827858769dcdcd318f0cc6f6bcb9.jpg  \n",
            "  inflating: /content/AOL AI/train/Endomorph/Endomorph-1-_png_jpg.rf.5de241e691dd2df47a33e7370735ebf1.jpg  \n",
            "  inflating: /content/AOL AI/train/Endomorph/Endomorph-1-_png_jpg.rf.679d90d31b37ee14e85a5d2a5dddedef.jpg  \n",
            "  inflating: /content/AOL AI/train/Endomorph/Endomorph-1-_png_jpg.rf.7db1da15269d620dc594cc7ffbb782c3.jpg  \n",
            "  inflating: /content/AOL AI/train/Endomorph/Endomorph-1-_png_jpg.rf.89430ae863cdd083d8aac8e2ac67c18c.jpg  \n",
            "  inflating: /content/AOL AI/train/Endomorph/Endomorph-1-_png_jpg.rf.e5eaa77ac71faa81083cf1f1e7f5b924.jpg  \n",
            "  inflating: /content/AOL AI/train/Endomorph/Endomorph-2-_png_jpg.rf.17e821fb9e86f628b8bc56395df882bd.jpg  \n",
            "  inflating: /content/AOL AI/train/Endomorph/Endomorph-2-_png_jpg.rf.5e0a6309074eeeb552b54200310698f1.jpg  \n",
            "  inflating: /content/AOL AI/train/Endomorph/Endomorph-2-_png_jpg.rf.5f825302a5b9135d2aced92d3b318c90.jpg  \n",
            "  inflating: /content/AOL AI/train/Endomorph/Endomorph-2-_png_jpg.rf.d286298daa59e28dfe32889d8bd534e6.jpg  \n",
            "  inflating: /content/AOL AI/train/Endomorph/Endomorph-2-_png_jpg.rf.d77272a4a3e1beadf009cbd9e3a25c79.jpg  \n",
            "  inflating: /content/AOL AI/train/Endomorph/Endomorph-2-_png_jpg.rf.da16f66be62beabc9ae43025b9329f37.jpg  \n",
            "  inflating: /content/AOL AI/train/Endomorph/Endomorph-2-_png_jpg.rf.e9bf1bd488b460cbf4540d70b8e2ebee.jpg  \n",
            "  inflating: /content/AOL AI/train/Endomorph/Endomorph-4-_png_jpg.rf.40aae08db0971c617e61c7bc603f7f84.jpg  \n",
            "  inflating: /content/AOL AI/train/Endomorph/Endomorph-4-_png_jpg.rf.43c1816c4fd0ae13f5219bc3162ee682.jpg  \n",
            "  inflating: /content/AOL AI/train/Endomorph/Endomorph-4-_png_jpg.rf.5aeb5e6a764df8b11661c0f12c9e9681.jpg  \n",
            "  inflating: /content/AOL AI/train/Endomorph/Endomorph-4-_png_jpg.rf.97bd3614faeb97cde5a650a312b2c684.jpg  \n",
            "  inflating: /content/AOL AI/train/Endomorph/Endomorph-4-_png_jpg.rf.b53ee4fcea460aa82963c2414560fb18.jpg  \n",
            "  inflating: /content/AOL AI/train/Endomorph/Endomorph-4-_png_jpg.rf.ce4f6212dd9953c448139711b6b829d3.jpg  \n",
            "  inflating: /content/AOL AI/train/Endomorph/Endomorph-4-_png_jpg.rf.e420f74e7d5cd3098e15962548eb8eea.jpg  \n",
            "  inflating: /content/AOL AI/train/Endomorph/Endomorph01_png_jpg.rf.195eeef23d5df02059349cb4ceb337e5.jpg  \n",
            "  inflating: /content/AOL AI/train/Endomorph/Endomorph01_png_jpg.rf.4a5955c5a5777e81e42542f0ed0b1538.jpg  \n",
            "  inflating: /content/AOL AI/train/Endomorph/Endomorph01_png_jpg.rf.545ff1b1c102556c1232f90d34ea046f.jpg  \n",
            "  inflating: /content/AOL AI/train/Endomorph/Endomorph01_png_jpg.rf.8786953d82bca73dfddae7eccaf4a326.jpg  \n",
            "  inflating: /content/AOL AI/train/Endomorph/Endomorph01_png_jpg.rf.9c37acec60bc2031c652f5c73a5483f3.jpg  \n",
            "  inflating: /content/AOL AI/train/Endomorph/Endomorph01_png_jpg.rf.bdf67e3d5c4f3d98f8f59c54f71c585c.jpg  \n",
            "  inflating: /content/AOL AI/train/Endomorph/Endomorph01_png_jpg.rf.e7483edf30a04f3b916afcfe633f1cf3.jpg  \n",
            "  inflating: /content/AOL AI/train/Endomorph/Endomorph02_png_jpg.rf.4605527411c8ffe81d46fb128f03efa4.jpg  \n",
            "  inflating: /content/AOL AI/train/Endomorph/Endomorph02_png_jpg.rf.50ef1de2ad84fd38f2aacde6695db0a8.jpg  \n",
            "  inflating: /content/AOL AI/train/Endomorph/Endomorph02_png_jpg.rf.5978f763fa78f3a23d0174b5fbb767ed.jpg  \n",
            "  inflating: /content/AOL AI/train/Endomorph/Endomorph02_png_jpg.rf.6206c9be0c749ecc523780b9f1937a70.jpg  \n",
            "  inflating: /content/AOL AI/train/Endomorph/Endomorph02_png_jpg.rf.afd26f38c1cb1110f4c50050d95de34d.jpg  \n",
            "  inflating: /content/AOL AI/train/Endomorph/Endomorph02_png_jpg.rf.c3d508432dcde7291e9bcd70c49f955a.jpg  \n",
            "  inflating: /content/AOL AI/train/Endomorph/Endomorph02_png_jpg.rf.e6f99ef854751edd8019afc53bdb688d.jpg  \n",
            "  inflating: /content/AOL AI/train/Endomorph/Endomorph03_png_jpg.rf.353cd731a67d819f65309ed0fd482c82.jpg  \n",
            "  inflating: /content/AOL AI/train/Endomorph/Endomorph03_png_jpg.rf.37a833b31dbca19439b59349a68af75c.jpg  \n",
            "  inflating: /content/AOL AI/train/Endomorph/Endomorph03_png_jpg.rf.53165ce7380acd2d606ad799e1c731b1.jpg  \n",
            "  inflating: /content/AOL AI/train/Endomorph/Endomorph03_png_jpg.rf.69ff02aabbdcf950fa6869830ae5b984.jpg  \n",
            "  inflating: /content/AOL AI/train/Endomorph/Endomorph03_png_jpg.rf.77da58470771fa0cedfe20027dcc1351.jpg  \n",
            "  inflating: /content/AOL AI/train/Endomorph/Endomorph03_png_jpg.rf.d365894d9788b2c917888274d60a488d.jpg  \n",
            "  inflating: /content/AOL AI/train/Endomorph/Endomorph03_png_jpg.rf.e6968a33c37ec62b95069e4f81ce9ec3.jpg  \n",
            "  inflating: /content/AOL AI/train/Endomorph/Endomorph04_png_jpg.rf.12fb1b1f94e1523298a3831d7b362ae7.jpg  \n",
            "  inflating: /content/AOL AI/train/Endomorph/Endomorph04_png_jpg.rf.145ee7274d4b7595da488d0d5f6fd0a7.jpg  \n",
            "  inflating: /content/AOL AI/train/Endomorph/Endomorph04_png_jpg.rf.5aaff47c11535cd56d062291b214bc89.jpg  \n",
            "  inflating: /content/AOL AI/train/Endomorph/Endomorph04_png_jpg.rf.67d9daea48d89d85c7a952eeaec79523.jpg  \n",
            "  inflating: /content/AOL AI/train/Endomorph/Endomorph04_png_jpg.rf.bfa4d2318a57b8ce1ea138c117615f71.jpg  \n",
            "  inflating: /content/AOL AI/train/Endomorph/Endomorph04_png_jpg.rf.d7754c2c974f6e5af88135958571f86e.jpg  \n",
            "  inflating: /content/AOL AI/train/Endomorph/Endomorph04_png_jpg.rf.fd7b079b0a8a3144c759ed8ee8c841ee.jpg  \n",
            "  inflating: /content/AOL AI/train/Endomorph/Endomorph10_png_jpg.rf.18044517043cdbcf5086bb988d0a1205.jpg  \n",
            "  inflating: /content/AOL AI/train/Endomorph/Endomorph10_png_jpg.rf.23c4d423e3580bfd4181d93f67f5791b.jpg  \n",
            "  inflating: /content/AOL AI/train/Endomorph/Endomorph10_png_jpg.rf.2b171924dc86a7457da7084240d42b16.jpg  \n",
            "  inflating: /content/AOL AI/train/Endomorph/Endomorph10_png_jpg.rf.2bf82377061d5af3323066281e490162.jpg  \n",
            "  inflating: /content/AOL AI/train/Endomorph/Endomorph10_png_jpg.rf.43594ee5556625c2687c8798bc4d6619.jpg  \n",
            "  inflating: /content/AOL AI/train/Endomorph/Endomorph10_png_jpg.rf.97cf3e50170c143aacdc1ac8ba33ca4e.jpg  \n",
            "  inflating: /content/AOL AI/train/Endomorph/Endomorph10_png_jpg.rf.f0a4523e62366c45baa8664e1c035973.jpg  \n",
            "  inflating: /content/AOL AI/train/Endomorph/Endomorph11_png_jpg.rf.1356cf89204d5e7b7e5acb9329fb3904.jpg  \n",
            "  inflating: /content/AOL AI/train/Endomorph/Endomorph11_png_jpg.rf.2bd5a15bf343549932302f5b4211e673.jpg  \n",
            "  inflating: /content/AOL AI/train/Endomorph/Endomorph11_png_jpg.rf.839dd180ce72285caf82e1e48b0ef48e.jpg  \n",
            "  inflating: /content/AOL AI/train/Endomorph/Endomorph11_png_jpg.rf.85932572f76f944cfbd5ed3b3388cc70.jpg  \n",
            "  inflating: /content/AOL AI/train/Endomorph/Endomorph11_png_jpg.rf.9bfab00636ef0061e6fc6ee9af2c7c93.jpg  \n",
            "  inflating: /content/AOL AI/train/Endomorph/Endomorph11_png_jpg.rf.d27d439f5d881091edfa043fd9d35543.jpg  \n",
            "  inflating: /content/AOL AI/train/Endomorph/Endomorph11_png_jpg.rf.eb879f3acf1745dfdb3e5912e8272bce.jpg  \n",
            "  inflating: /content/AOL AI/train/Endomorph/Endomorph12_png_jpg.rf.5d5b67af8e24673864e46bd0c02e55fd.jpg  \n",
            "  inflating: /content/AOL AI/train/Endomorph/Endomorph12_png_jpg.rf.73301988f04ff074c9efa388726e1123.jpg  \n",
            "  inflating: /content/AOL AI/train/Endomorph/Endomorph12_png_jpg.rf.759db5c5e0fbd331c5046af33bc7fd5f.jpg  \n",
            "  inflating: /content/AOL AI/train/Endomorph/Endomorph12_png_jpg.rf.9f0fd52b542e3351ed79b974c31ea754.jpg  \n",
            "  inflating: /content/AOL AI/train/Endomorph/Endomorph12_png_jpg.rf.b5a0ad15c5b088d25fb7b000f1e2f6b8.jpg  \n",
            "  inflating: /content/AOL AI/train/Endomorph/Endomorph12_png_jpg.rf.bcc9f9334783009fe5a9a3056d4c1fc3.jpg  \n",
            "  inflating: /content/AOL AI/train/Endomorph/Endomorph12_png_jpg.rf.d1dfdfbc16e2eda63837af4e27320faf.jpg  \n",
            "  inflating: /content/AOL AI/train/Endomorph/Endomorph13_png_jpg.rf.0e45e77acb6994674c35ff0e7b1b6537.jpg  \n",
            "  inflating: /content/AOL AI/train/Endomorph/Endomorph13_png_jpg.rf.16c03446368f10119ba5ebc29a82f44d.jpg  \n",
            "  inflating: /content/AOL AI/train/Endomorph/Endomorph13_png_jpg.rf.280744ef1237292fafe700ca89d46b25.jpg  \n",
            "  inflating: /content/AOL AI/train/Endomorph/Endomorph13_png_jpg.rf.77644b65f6916e69cba97b6ede8033b8.jpg  \n",
            "  inflating: /content/AOL AI/train/Endomorph/Endomorph13_png_jpg.rf.87c86d250e94ee8cc4fdc0fb4b96a0ea.jpg  \n",
            "  inflating: /content/AOL AI/train/Endomorph/Endomorph13_png_jpg.rf.e373d9fb048fb9df6c5b1203d8f880f8.jpg  \n",
            "  inflating: /content/AOL AI/train/Endomorph/Endomorph13_png_jpg.rf.fc96195326d806a3717d03f9d4c736d8.jpg  \n",
            "  inflating: /content/AOL AI/train/Endomorph/Endomorph14_png_jpg.rf.047f4ccc9e938b5332827123684dc1bc.jpg  \n",
            "  inflating: /content/AOL AI/train/Endomorph/Endomorph14_png_jpg.rf.07be7630f4d0f53e060b3ead6bc23c76.jpg  \n",
            "  inflating: /content/AOL AI/train/Endomorph/Endomorph14_png_jpg.rf.294c0af20a9623967a2fc8deea465ad3.jpg  \n",
            "  inflating: /content/AOL AI/train/Endomorph/Endomorph14_png_jpg.rf.b48bec4b2f9496cdcb2ff58ab615e884.jpg  \n",
            "  inflating: /content/AOL AI/train/Endomorph/Endomorph14_png_jpg.rf.c0f97ca329e5c52a34a8ea4024c14c06.jpg  \n",
            "  inflating: /content/AOL AI/train/Endomorph/Endomorph14_png_jpg.rf.eb30aa2a6e073d991623cdf55b62d040.jpg  \n",
            "  inflating: /content/AOL AI/train/Endomorph/Endomorph14_png_jpg.rf.ed60c6a7d8fe857639906bf618545d36.jpg  \n",
            "  inflating: /content/AOL AI/train/Endomorph/Endomorph1_jpg.rf.24c7c7e55046dc3ab43c7708eaa23390.jpg  \n",
            "  inflating: /content/AOL AI/train/Endomorph/Endomorph1_jpg.rf.267ccaf261a457e7d883eae06c5d9c50.jpg  \n",
            "  inflating: /content/AOL AI/train/Endomorph/Endomorph1_jpg.rf.34c371b130daae4d7f941a0e540870de.jpg  \n",
            "  inflating: /content/AOL AI/train/Endomorph/Endomorph1_jpg.rf.387548ec0ac133a931a64ed666b8664d.jpg  \n",
            "  inflating: /content/AOL AI/train/Endomorph/Endomorph1_jpg.rf.aa54eb77290f8f8d69ee75cf456e1249.jpg  \n",
            "  inflating: /content/AOL AI/train/Endomorph/Endomorph1_jpg.rf.f138a42d6d1fbc8d9cbb6276b3eb0877.jpg  \n",
            "  inflating: /content/AOL AI/train/Endomorph/Endomorph1_jpg.rf.f212b633873307539a7b838285dc6ddd.jpg  \n",
            "  inflating: /content/AOL AI/train/Endomorph/Endomorph1_png_jpg.rf.67387a26ff462abb3878859d86225a76.jpg  \n",
            "  inflating: /content/AOL AI/train/Endomorph/Endomorph1_png_jpg.rf.aee29ceb16903f3a3cfda6f341437a6a.jpg  \n",
            "  inflating: /content/AOL AI/train/Endomorph/Endomorph1_png_jpg.rf.aef7f4b7fd69773afbbb392f495b3cfa.jpg  \n",
            "  inflating: /content/AOL AI/train/Endomorph/Endomorph1_png_jpg.rf.becd5d9f93cc22dbc1084655612472f9.jpg  \n",
            "  inflating: /content/AOL AI/train/Endomorph/Endomorph1_png_jpg.rf.d9a4787b9c83f273b72c8e14f0ded360.jpg  \n",
            "  inflating: /content/AOL AI/train/Endomorph/Endomorph1_png_jpg.rf.ebb640078757e2345ae43aa7159a0414.jpg  \n",
            "  inflating: /content/AOL AI/train/Endomorph/Endomorph1_png_jpg.rf.f05c15c639937f9fb47d1a7d168d1a03.jpg  \n",
            "  inflating: /content/AOL AI/train/Endomorph/Endomorph2_jpg.rf.266ac7fda17d1a2eb04e141ffc0d8a07.jpg  \n",
            "  inflating: /content/AOL AI/train/Endomorph/Endomorph2_jpg.rf.2f36937cd6e269617812033d1e34fcc2.jpg  \n",
            "  inflating: /content/AOL AI/train/Endomorph/Endomorph2_jpg.rf.57d0b1236199ad52ddc09dd947129d37.jpg  \n",
            "  inflating: /content/AOL AI/train/Endomorph/Endomorph2_jpg.rf.614cf0cef8f8c20ad467d47183ef1d95.jpg  \n",
            "  inflating: /content/AOL AI/train/Endomorph/Endomorph2_jpg.rf.9203271c2b450d719b71904df87a0a03.jpg  \n",
            "  inflating: /content/AOL AI/train/Endomorph/Endomorph2_jpg.rf.d9281d46156605efb895ac700474d409.jpg  \n",
            "  inflating: /content/AOL AI/train/Endomorph/Endomorph2_jpg.rf.eacc333cf45b589267850cf73509f529.jpg  \n",
            "  inflating: /content/AOL AI/train/Endomorph/Endomorph2_png_jpg.rf.27ad91f1fe64383ed1cfcd5b69ecb5bb.jpg  \n",
            "  inflating: /content/AOL AI/train/Endomorph/Endomorph2_png_jpg.rf.5f6164db40b4843415fc2c15eb9ad6d2.jpg  \n",
            "  inflating: /content/AOL AI/train/Endomorph/Endomorph2_png_jpg.rf.69e2dc3933908809928e98aa5665f14d.jpg  \n",
            "  inflating: /content/AOL AI/train/Endomorph/Endomorph2_png_jpg.rf.b633eeece141ec27175ebb0a12a8107a.jpg  \n",
            "  inflating: /content/AOL AI/train/Endomorph/Endomorph2_png_jpg.rf.c22c1d6c90a193b1cefeb476a43ca1fa.jpg  \n",
            "  inflating: /content/AOL AI/train/Endomorph/Endomorph2_png_jpg.rf.d097fbdc175aa72a540b9abe14593faf.jpg  \n",
            "  inflating: /content/AOL AI/train/Endomorph/Endomorph2_png_jpg.rf.f190fd7dc6374de118cb0d1819b6c57d.jpg  \n",
            "  inflating: /content/AOL AI/train/Endomorph/Endomorph3_jpg.rf.0a1e2e2878dfa08618e183190fed17ed.jpg  \n",
            "  inflating: /content/AOL AI/train/Endomorph/Endomorph3_jpg.rf.699ca3a91f516b1b541aa533b7756804.jpg  \n",
            "  inflating: /content/AOL AI/train/Endomorph/Endomorph3_jpg.rf.801e5b56bb5dad3d157d32c49b3a5824.jpg  \n",
            "  inflating: /content/AOL AI/train/Endomorph/Endomorph3_jpg.rf.a0453cad9e29135f4aa5a10950d87e39.jpg  \n",
            "  inflating: /content/AOL AI/train/Endomorph/Endomorph3_jpg.rf.a5770a0e9a1b45b98e743af75fe08e42.jpg  \n",
            "  inflating: /content/AOL AI/train/Endomorph/Endomorph3_jpg.rf.d9fafa4008c12097236b4c755c6e76f1.jpg  \n",
            "  inflating: /content/AOL AI/train/Endomorph/Endomorph3_jpg.rf.ebac444f13eb28f733a3defe3b84196e.jpg  \n",
            "  inflating: /content/AOL AI/train/Endomorph/Endomorph5_png_jpg.rf.3721b5a647e0a6853e287406534257ff.jpg  \n",
            "  inflating: /content/AOL AI/train/Endomorph/Endomorph5_png_jpg.rf.8626de8f05506f2d27211df086155090.jpg  \n",
            "  inflating: /content/AOL AI/train/Endomorph/Endomorph5_png_jpg.rf.a4c242cfd2c1fe0814756ffb2c23673a.jpg  \n",
            "  inflating: /content/AOL AI/train/Endomorph/Endomorph5_png_jpg.rf.be3c1f1c41aeb55341440e575562429e.jpg  \n",
            "  inflating: /content/AOL AI/train/Endomorph/Endomorph5_png_jpg.rf.c8302fcab14fe8fcb67dc0f02bb88b30.jpg  \n",
            "  inflating: /content/AOL AI/train/Endomorph/Endomorph5_png_jpg.rf.ed2b98faad067ddb53bcfc4c8b85ad1a.jpg  \n",
            "  inflating: /content/AOL AI/train/Endomorph/Endomorph5_png_jpg.rf.fce18ebba22e645aa4fea2c556ac9e57.jpg  \n",
            "  inflating: /content/AOL AI/train/Endomorph/Endomorph7_png_jpg.rf.0a22202a176d34323f0410fa1df66b3d.jpg  \n",
            "  inflating: /content/AOL AI/train/Endomorph/Endomorph7_png_jpg.rf.0dd2b98d474f40d87cda9ccee67c441c.jpg  \n",
            "  inflating: /content/AOL AI/train/Endomorph/Endomorph7_png_jpg.rf.2ee8fbcae08384de9ebe12c61a6de7a3.jpg  \n",
            "  inflating: /content/AOL AI/train/Endomorph/Endomorph7_png_jpg.rf.7e5b2372094b05afc0c798d0f3111864.jpg  \n",
            "  inflating: /content/AOL AI/train/Endomorph/Endomorph7_png_jpg.rf.82c67dc9839e6f637d5a2442be862ad6.jpg  \n",
            "  inflating: /content/AOL AI/train/Endomorph/Endomorph7_png_jpg.rf.ca4288d0e2d628336c17d0c71cdacff2.jpg  \n",
            "  inflating: /content/AOL AI/train/Endomorph/Endomorph7_png_jpg.rf.cb261ea68a7260aa73efdb52c18e9d82.jpg  \n",
            "  inflating: /content/AOL AI/train/Endomorph/Endomorph8_png_jpg.rf.00b757e41e514c032ac04a02fa3d049e.jpg  \n",
            "  inflating: /content/AOL AI/train/Endomorph/Endomorph8_png_jpg.rf.251b02219d7d75ffc13b8245d01925f5.jpg  \n",
            "  inflating: /content/AOL AI/train/Endomorph/Endomorph8_png_jpg.rf.25f762f4793eca21c53e912976fe85e6.jpg  \n",
            "  inflating: /content/AOL AI/train/Endomorph/Endomorph8_png_jpg.rf.4420e413fbaea16dc5bbcb23235c7cc3.jpg  \n",
            "  inflating: /content/AOL AI/train/Endomorph/Endomorph8_png_jpg.rf.68dd77d33a80bb42d15575d60b5db320.jpg  \n",
            "  inflating: /content/AOL AI/train/Endomorph/Endomorph8_png_jpg.rf.e68e52e78175edf7470cdd23ec135547.jpg  \n",
            "  inflating: /content/AOL AI/train/Endomorph/Endomorph8_png_jpg.rf.fa808c3c661655d36d645d5b71b13a3f.jpg  \n",
            "  inflating: /content/AOL AI/train/Endomorph/Endomorph9_png_jpg.rf.1d827123f7a62debc4dce34c6038c456.jpg  \n",
            "  inflating: /content/AOL AI/train/Endomorph/Endomorph9_png_jpg.rf.3cf16a351a85ae0fda65cca04b180705.jpg  \n",
            "  inflating: /content/AOL AI/train/Endomorph/Endomorph9_png_jpg.rf.b3ddadbc8c399903732a570a65e5df9f.jpg  \n",
            "  inflating: /content/AOL AI/train/Endomorph/Endomorph9_png_jpg.rf.e5a87b599784f86208e091788928fae5.jpg  \n",
            "  inflating: /content/AOL AI/train/Endomorph/Endomorph9_png_jpg.rf.e935ad2a3cdfabd4eb8fc116e7448b7c.jpg  \n",
            "  inflating: /content/AOL AI/train/Endomorph/Endomorph9_png_jpg.rf.eb986794b7d409327ab1e1fa7d17702c.jpg  \n",
            "  inflating: /content/AOL AI/train/Endomorph/Endomorph9_png_jpg.rf.ebd7d48610d63a36d78b7d7026eec151.jpg  \n",
            "  inflating: /content/AOL AI/train/Endomorph/image-1-_jpg.rf.0eda263ca637f60d0f3fc1639601a51f.jpg  \n",
            "  inflating: /content/AOL AI/train/Endomorph/image-1-_jpg.rf.368a9677303628eadc9cef53c4a2d4e1.jpg  \n",
            "  inflating: /content/AOL AI/train/Endomorph/image-1-_jpg.rf.3b1fa7aff4440546f75baa0cc1a95002.jpg  \n",
            "  inflating: /content/AOL AI/train/Endomorph/image-1-_jpg.rf.689bae44acaa6f06b900550c12b302dc.jpg  \n",
            "  inflating: /content/AOL AI/train/Endomorph/image-1-_jpg.rf.7cf9b91ff2876647c82d959af606ca19.jpg  \n",
            "  inflating: /content/AOL AI/train/Endomorph/image-1-_jpg.rf.e2f301673696ae0a8d135d80b74652a8.jpg  \n",
            "  inflating: /content/AOL AI/train/Endomorph/image-1-_jpg.rf.eba045a8f654d3c6e18990723b10afbc.jpg  \n",
            "  inflating: /content/AOL AI/train/Endomorph/main-qimg-6842a5149fd6b054f5e2ce7272c3bfb5_jpg.rf.05f4625aee4042884ffb20f87aee411d.jpg  \n",
            "  inflating: /content/AOL AI/train/Endomorph/main-qimg-6842a5149fd6b054f5e2ce7272c3bfb5_jpg.rf.5aba39d8cd37f9505fb185953f1feea6.jpg  \n",
            "  inflating: /content/AOL AI/train/Endomorph/main-qimg-6842a5149fd6b054f5e2ce7272c3bfb5_jpg.rf.7bfdffc494ae606ae0afd5231e3d58e1.jpg  \n",
            "  inflating: /content/AOL AI/train/Endomorph/main-qimg-6842a5149fd6b054f5e2ce7272c3bfb5_jpg.rf.83e2d2ad266463a63d892dec66eda4cc.jpg  \n",
            "  inflating: /content/AOL AI/train/Endomorph/main-qimg-6842a5149fd6b054f5e2ce7272c3bfb5_jpg.rf.9403355e2351d1c5b118120a7e73a729.jpg  \n",
            "  inflating: /content/AOL AI/train/Endomorph/main-qimg-6842a5149fd6b054f5e2ce7272c3bfb5_jpg.rf.d12b5e3fb082b861b308375488c7b46b.jpg  \n",
            "  inflating: /content/AOL AI/train/Endomorph/main-qimg-6842a5149fd6b054f5e2ce7272c3bfb5_jpg.rf.dcd8bc804097ccf5b2728bcfc749dd70.jpg  \n",
            "  inflating: /content/AOL AI/train/Endomorph/zgsezgsez_JPG_jpg.rf.0851c57aa631e46a24a3578b968f5ed3.jpg  \n",
            "  inflating: /content/AOL AI/train/Endomorph/zgsezgsez_JPG_jpg.rf.0b5c5b25c11646d9ef5299c53ad8a995.jpg  \n",
            "  inflating: /content/AOL AI/train/Endomorph/zgsezgsez_JPG_jpg.rf.1b80fbc9fc5b6ad26c5af124b256fdd5.jpg  \n",
            "  inflating: /content/AOL AI/train/Endomorph/zgsezgsez_JPG_jpg.rf.1ce91373a2a739459fed1cb9bcc9745d.jpg  \n",
            "  inflating: /content/AOL AI/train/Endomorph/zgsezgsez_JPG_jpg.rf.806105a151da1ff0430683ec58b59d81.jpg  \n",
            "  inflating: /content/AOL AI/train/Endomorph/zgsezgsez_JPG_jpg.rf.a28c7ebf995e08ee92be03cac1c8dc44.jpg  \n",
            "  inflating: /content/AOL AI/train/Endomorph/zgsezgsez_JPG_jpg.rf.dd9261e71641e5304933304bb45fc96b.jpg  \n",
            "   creating: /content/AOL AI/train/Mesomorph/\n",
            "  inflating: /content/AOL AI/train/Mesomorph/-User-00-Mesomorph-1-_jpg.rf.0ad479514e47f6a32c814a17894ce400.jpg  \n",
            "  inflating: /content/AOL AI/train/Mesomorph/-User-00-Mesomorph-1-_jpg.rf.20bf80cf71b63eef5b2efe903fa5c4fd.jpg  \n",
            "  inflating: /content/AOL AI/train/Mesomorph/-User-00-Mesomorph-1-_jpg.rf.6cb79cc026077f55b5f1b7d22789b988.jpg  \n",
            "  inflating: /content/AOL AI/train/Mesomorph/-User-00-Mesomorph-1-_jpg.rf.b287bf1d8d4ae1f0faad17885734c3a6.jpg  \n",
            "  inflating: /content/AOL AI/train/Mesomorph/-User-00-Mesomorph-1-_jpg.rf.c0caad6fe262b61d537c5dbd9bb47427.jpg  \n",
            "  inflating: /content/AOL AI/train/Mesomorph/-User-00-Mesomorph-1-_jpg.rf.ee5a8b15569bff8288556cabc3576da1.jpg  \n",
            "  inflating: /content/AOL AI/train/Mesomorph/-User-00-Mesomorph-1-_jpg.rf.fa26d55164e48b3ff867a3caff52e93c.jpg  \n",
            "  inflating: /content/AOL AI/train/Mesomorph/-User-00-Mesomorph-12-_png_jpg.rf.1bc0707ab7dc0a59c1eab7840d294bf5.jpg  \n",
            "  inflating: /content/AOL AI/train/Mesomorph/-User-00-Mesomorph-12-_png_jpg.rf.847a563cebe66bbbf7f85b16dbfdf856.jpg  \n",
            "  inflating: /content/AOL AI/train/Mesomorph/-User-00-Mesomorph-12-_png_jpg.rf.9b7d7c6bc28412c180a5f7440a60ca6f.jpg  \n",
            "  inflating: /content/AOL AI/train/Mesomorph/-User-00-Mesomorph-12-_png_jpg.rf.9ce00713a0dfd6fc007d3493406c23fa.jpg  \n",
            "  inflating: /content/AOL AI/train/Mesomorph/-User-00-Mesomorph-12-_png_jpg.rf.b318cb8eed662b4f0fb4e758635dc1a9.jpg  \n",
            "  inflating: /content/AOL AI/train/Mesomorph/-User-00-Mesomorph-12-_png_jpg.rf.dd33ec37a3199b54684eb60a773a8303.jpg  \n",
            "  inflating: /content/AOL AI/train/Mesomorph/-User-00-Mesomorph-12-_png_jpg.rf.f9fd03ac5c353dd9e23ef324f15954d0.jpg  \n",
            "  inflating: /content/AOL AI/train/Mesomorph/-User-00-Mesomorph-13-_png_jpg.rf.090106c18e9ea258a58749d1cd1dbbea.jpg  \n",
            "  inflating: /content/AOL AI/train/Mesomorph/-User-00-Mesomorph-13-_png_jpg.rf.2416f5a3f5044b2ad1bb752d71417a89.jpg  \n",
            "  inflating: /content/AOL AI/train/Mesomorph/-User-00-Mesomorph-13-_png_jpg.rf.309a78b938f30cee3f049f2344c3e306.jpg  \n",
            "  inflating: /content/AOL AI/train/Mesomorph/-User-00-Mesomorph-13-_png_jpg.rf.48d09d1a95636822956e917b875c3c8f.jpg  \n",
            "  inflating: /content/AOL AI/train/Mesomorph/-User-00-Mesomorph-13-_png_jpg.rf.af3613512e0cb98946799f1bb78cd7fb.jpg  \n",
            "  inflating: /content/AOL AI/train/Mesomorph/-User-00-Mesomorph-13-_png_jpg.rf.cabd246e50b6dece386e5ae18289fb52.jpg  \n",
            "  inflating: /content/AOL AI/train/Mesomorph/-User-00-Mesomorph-13-_png_jpg.rf.fd0877f7c96dbf4ba511cccfa4e51dfb.jpg  \n",
            "  inflating: /content/AOL AI/train/Mesomorph/-User-00-Mesomorph-14-_jpg.rf.429e756b06a085984819cccb0408f3ab.jpg  \n",
            "  inflating: /content/AOL AI/train/Mesomorph/-User-00-Mesomorph-14-_jpg.rf.6e3bbfe1d6288afd0dcd38b82f27f059.jpg  \n",
            "  inflating: /content/AOL AI/train/Mesomorph/-User-00-Mesomorph-14-_jpg.rf.6fe7f5b1240b676e27a91108c3c581a6.jpg  \n",
            "  inflating: /content/AOL AI/train/Mesomorph/-User-00-Mesomorph-14-_jpg.rf.b146e0f3d93bb2344014b544ae67c2cd.jpg  \n",
            "  inflating: /content/AOL AI/train/Mesomorph/-User-00-Mesomorph-14-_jpg.rf.cc807d5a54bf52d532927d7748072eca.jpg  \n",
            "  inflating: /content/AOL AI/train/Mesomorph/-User-00-Mesomorph-14-_jpg.rf.e55948d5e198d6ab414ccab61695469e.jpg  \n",
            "  inflating: /content/AOL AI/train/Mesomorph/-User-00-Mesomorph-14-_jpg.rf.e5f990fe1ad209fa084d6a0114b55f1b.jpg  \n",
            "  inflating: /content/AOL AI/train/Mesomorph/-User-00-Mesomorph-15-_png_jpg.rf.411b2e9be6d76942a01d2c03cd452971.jpg  \n",
            "  inflating: /content/AOL AI/train/Mesomorph/-User-00-Mesomorph-15-_png_jpg.rf.47ce5644c4d4305653964a760a57e05e.jpg  \n",
            "  inflating: /content/AOL AI/train/Mesomorph/-User-00-Mesomorph-15-_png_jpg.rf.6ce22b9ab572aec00b8f81e64565c579.jpg  \n",
            "  inflating: /content/AOL AI/train/Mesomorph/-User-00-Mesomorph-15-_png_jpg.rf.96cdb3ae7cccbf091c5adc324d44b0fb.jpg  \n",
            "  inflating: /content/AOL AI/train/Mesomorph/-User-00-Mesomorph-15-_png_jpg.rf.a1a653530a0ad9a546622546078d3c79.jpg  \n",
            "  inflating: /content/AOL AI/train/Mesomorph/-User-00-Mesomorph-15-_png_jpg.rf.b2cf888355595a54933df07fd14c2f34.jpg  \n",
            "  inflating: /content/AOL AI/train/Mesomorph/-User-00-Mesomorph-15-_png_jpg.rf.ef2a1b4e37f0de22b87676cf395ec390.jpg  \n",
            "  inflating: /content/AOL AI/train/Mesomorph/-User-00-Mesomorph-18-_jpg.rf.0a9ec6a1c8970d8d322d77b802b9df58.jpg  \n",
            "  inflating: /content/AOL AI/train/Mesomorph/-User-00-Mesomorph-18-_jpg.rf.3142969579cf5d263660f60649dde100.jpg  \n",
            "  inflating: /content/AOL AI/train/Mesomorph/-User-00-Mesomorph-18-_jpg.rf.34c73f6c0f3886db49449bde17b41091.jpg  \n",
            "  inflating: /content/AOL AI/train/Mesomorph/-User-00-Mesomorph-18-_jpg.rf.cf7a6d007666f7a64940f936d8a605c3.jpg  \n",
            "  inflating: /content/AOL AI/train/Mesomorph/-User-00-Mesomorph-18-_jpg.rf.e00b56f4e6629601294e44975042ea14.jpg  \n",
            "  inflating: /content/AOL AI/train/Mesomorph/-User-00-Mesomorph-18-_jpg.rf.eb55a121d94efe39c214272c22e4c997.jpg  \n",
            "  inflating: /content/AOL AI/train/Mesomorph/-User-00-Mesomorph-18-_jpg.rf.ebeb16159eb7b84837a6315fde4a0cc3.jpg  \n",
            "  inflating: /content/AOL AI/train/Mesomorph/-User-00-Mesomorph-1A-_jpg.rf.650d010c1373263758b445f41ccad105.jpg  \n",
            "  inflating: /content/AOL AI/train/Mesomorph/-User-00-Mesomorph-1A-_jpg.rf.713b886e8d75e1af50399b82424692d8.jpg  \n",
            "  inflating: /content/AOL AI/train/Mesomorph/-User-00-Mesomorph-1A-_jpg.rf.95586f8758e8e1666bccf2222e0aab0a.jpg  \n",
            "  inflating: /content/AOL AI/train/Mesomorph/-User-00-Mesomorph-1A-_jpg.rf.b4d1402e9724c51c905ab7774e6dba65.jpg  \n",
            "  inflating: /content/AOL AI/train/Mesomorph/-User-00-Mesomorph-1A-_jpg.rf.c2807ec80755fe0489118f2484efd1d0.jpg  \n",
            "  inflating: /content/AOL AI/train/Mesomorph/-User-00-Mesomorph-1A-_jpg.rf.db7cd8799123e05faefb28b916ef4774.jpg  \n",
            "  inflating: /content/AOL AI/train/Mesomorph/-User-00-Mesomorph-1A-_jpg.rf.f4fa4262d96147e79650c0d036a6cbe9.jpg  \n",
            "  inflating: /content/AOL AI/train/Mesomorph/-User-00-Mesomorph-20-_jpg.rf.427f5fb09abeab553f8634a329c16668.jpg  \n",
            "  inflating: /content/AOL AI/train/Mesomorph/-User-00-Mesomorph-20-_jpg.rf.442bdb74bf75b69c78aeb949f9d05142.jpg  \n",
            "  inflating: /content/AOL AI/train/Mesomorph/-User-00-Mesomorph-20-_jpg.rf.44e2814ca7a9cc196a242cfc58862034.jpg  \n",
            "  inflating: /content/AOL AI/train/Mesomorph/-User-00-Mesomorph-20-_jpg.rf.49a1742e1286f6c57a1afadf87cce456.jpg  \n",
            "  inflating: /content/AOL AI/train/Mesomorph/-User-00-Mesomorph-20-_jpg.rf.5e229620576bcf04fcb6862e9bb55795.jpg  \n",
            "  inflating: /content/AOL AI/train/Mesomorph/-User-00-Mesomorph-20-_jpg.rf.d270046a70624a79392ca7baef854ca7.jpg  \n",
            "  inflating: /content/AOL AI/train/Mesomorph/-User-00-Mesomorph-20-_jpg.rf.d9e3796081d0979e853e726415953d13.jpg  \n",
            "  inflating: /content/AOL AI/train/Mesomorph/-User-00-Mesomorph-21-_jpg.rf.0007d2ed183915e76b5e3a27b8ab0f02.jpg  \n",
            "  inflating: /content/AOL AI/train/Mesomorph/-User-00-Mesomorph-21-_jpg.rf.28189e86876e1e6fb12fa8fcf87d2597.jpg  \n",
            "  inflating: /content/AOL AI/train/Mesomorph/-User-00-Mesomorph-21-_jpg.rf.327c8b298c6eb60662ca7e4eecbba6c9.jpg  \n",
            "  inflating: /content/AOL AI/train/Mesomorph/-User-00-Mesomorph-21-_jpg.rf.7768c2299c78ed012e762074f128db8c.jpg  \n",
            "  inflating: /content/AOL AI/train/Mesomorph/-User-00-Mesomorph-21-_jpg.rf.976d9b17d37c165dfac132d355e04beb.jpg  \n",
            "  inflating: /content/AOL AI/train/Mesomorph/-User-00-Mesomorph-21-_jpg.rf.d2789081178a1f71fa61d059b0eeecb5.jpg  \n",
            "  inflating: /content/AOL AI/train/Mesomorph/-User-00-Mesomorph-21-_jpg.rf.f18877d3254c2c1874eb6affd120b20b.jpg  \n",
            "  inflating: /content/AOL AI/train/Mesomorph/-User-00-Mesomorph-22-_jpg.rf.4bfce76d6810877908d335e801d311a8.jpg  \n",
            "  inflating: /content/AOL AI/train/Mesomorph/-User-00-Mesomorph-22-_jpg.rf.60d3e71795b59024ebdbcd16add3e92a.jpg  \n",
            "  inflating: /content/AOL AI/train/Mesomorph/-User-00-Mesomorph-22-_jpg.rf.6c36a5b1a45a8ddadb879847af7b160e.jpg  \n",
            "  inflating: /content/AOL AI/train/Mesomorph/-User-00-Mesomorph-22-_jpg.rf.82d7df24fd5e5aa7a2e213bf54fc70cf.jpg  \n",
            "  inflating: /content/AOL AI/train/Mesomorph/-User-00-Mesomorph-22-_jpg.rf.a3d196504b0bd037b0cc09740d3a2bdc.jpg  \n",
            "  inflating: /content/AOL AI/train/Mesomorph/-User-00-Mesomorph-22-_jpg.rf.ad8c541b0ccf588eefb5c21d2dd7ec18.jpg  \n",
            "  inflating: /content/AOL AI/train/Mesomorph/-User-00-Mesomorph-22-_jpg.rf.f51eadb7fd5aae84a53064ad9f09aba7.jpg  \n",
            "  inflating: /content/AOL AI/train/Mesomorph/-User-00-Mesomorph-24-_png_jpg.rf.0adc1cb78815f0a791c5711819266d3b.jpg  \n",
            "  inflating: /content/AOL AI/train/Mesomorph/-User-00-Mesomorph-24-_png_jpg.rf.3c2ab2b3d173262916dce6455d3864b4.jpg  \n",
            "  inflating: /content/AOL AI/train/Mesomorph/-User-00-Mesomorph-24-_png_jpg.rf.4efcba112d53a4e9d37cd9a2fe9f2ce5.jpg  \n",
            "  inflating: /content/AOL AI/train/Mesomorph/-User-00-Mesomorph-24-_png_jpg.rf.a1ed69d05eb4064ac43d1f21a5a8fc99.jpg  \n",
            "  inflating: /content/AOL AI/train/Mesomorph/-User-00-Mesomorph-24-_png_jpg.rf.b8abbbcdb5d621d7f223c5f139b909e2.jpg  \n",
            "  inflating: /content/AOL AI/train/Mesomorph/-User-00-Mesomorph-24-_png_jpg.rf.de42db11dbe24144c0688d1ba2109cce.jpg  \n",
            "  inflating: /content/AOL AI/train/Mesomorph/-User-00-Mesomorph-24-_png_jpg.rf.ef2fe5b318efc9321915afe4ab62af66.jpg  \n",
            "  inflating: /content/AOL AI/train/Mesomorph/-User-00-Mesomorph-28-_png_jpg.rf.11718b79c5d5c4135cd5513d519eca9e.jpg  \n",
            "  inflating: /content/AOL AI/train/Mesomorph/-User-00-Mesomorph-28-_png_jpg.rf.1259e013bb91f7ab077c5d3cf7d884c4.jpg  \n",
            "  inflating: /content/AOL AI/train/Mesomorph/-User-00-Mesomorph-28-_png_jpg.rf.3cf97c814f51e7bf6ec8669be6b5ac25.jpg  \n",
            "  inflating: /content/AOL AI/train/Mesomorph/-User-00-Mesomorph-28-_png_jpg.rf.5d2d2a6d7c015e9b9f183403cdb2e27a.jpg  \n",
            "  inflating: /content/AOL AI/train/Mesomorph/-User-00-Mesomorph-28-_png_jpg.rf.5fa7eb756bcd61620fdeec80c26691b1.jpg  \n",
            "  inflating: /content/AOL AI/train/Mesomorph/-User-00-Mesomorph-28-_png_jpg.rf.af6ced0f8bf997360f3fdba65908e775.jpg  \n",
            "  inflating: /content/AOL AI/train/Mesomorph/-User-00-Mesomorph-28-_png_jpg.rf.fbab983161cafb3aea1b094fc6720887.jpg  \n",
            "  inflating: /content/AOL AI/train/Mesomorph/-User-00-Mesomorph-2A-_jpg.rf.087040a25573c65fded8ae07ce878b26.jpg  \n",
            "  inflating: /content/AOL AI/train/Mesomorph/-User-00-Mesomorph-2A-_jpg.rf.0deadf04ca661d7026579079fff7d13e.jpg  \n",
            "  inflating: /content/AOL AI/train/Mesomorph/-User-00-Mesomorph-2A-_jpg.rf.0eb92d21ebe06c43eb1d35f4ec215e28.jpg  \n",
            "  inflating: /content/AOL AI/train/Mesomorph/-User-00-Mesomorph-2A-_jpg.rf.5e45a5ea4bbe71ee10148fa659b716d3.jpg  \n",
            "  inflating: /content/AOL AI/train/Mesomorph/-User-00-Mesomorph-2A-_jpg.rf.a0993f0c6b90f9ef3ff499c1eb329fa5.jpg  \n",
            "  inflating: /content/AOL AI/train/Mesomorph/-User-00-Mesomorph-2A-_jpg.rf.a1925a50bb3009bb81905826cb70cb59.jpg  \n",
            "  inflating: /content/AOL AI/train/Mesomorph/-User-00-Mesomorph-2A-_jpg.rf.c397ad6a632c860a6f93d171b3be81c7.jpg  \n",
            "  inflating: /content/AOL AI/train/Mesomorph/-User-00-Mesomorph-7-_jpg.rf.a4afbff4218e91b3ddb1d2318aa3385e.jpg  \n",
            "  inflating: /content/AOL AI/train/Mesomorph/-User-00-Mesomorph-9-_jpg.rf.298a5f78b55d0b346fad8504424ad16c.jpg  \n",
            "  inflating: /content/AOL AI/train/Mesomorph/-User-00-Mesomorph-9-_jpg.rf.3ba76ae1518d46951152379356569fe2.jpg  \n",
            "  inflating: /content/AOL AI/train/Mesomorph/-User-00-Mesomorph-9-_jpg.rf.5d5662af62039da0181aa1a4c960088a.jpg  \n",
            "  inflating: /content/AOL AI/train/Mesomorph/-User-00-Mesomorph-9-_jpg.rf.75050f24ce077ed38423553d48eda602.jpg  \n",
            "  inflating: /content/AOL AI/train/Mesomorph/-User-00-Mesomorph-9-_jpg.rf.8ca931ee636707a9ab76658be8654348.jpg  \n",
            "  inflating: /content/AOL AI/train/Mesomorph/-User-00-Mesomorph-9-_jpg.rf.f9993e30a2c16a24b2dd8585281ac79b.jpg  \n",
            "  inflating: /content/AOL AI/train/Mesomorph/-User-00-Mesomorph-9-_jpg.rf.fdfcdca47137505c1d51f2507ce66527.jpg  \n",
            "  inflating: /content/AOL AI/train/Mesomorph/-User-00-Mesomorph-JDL-1-_png_jpg.rf.313308453775a25bf6a621abda88fcc5.jpg  \n",
            "  inflating: /content/AOL AI/train/Mesomorph/-User-00-Mesomorph-JDL-1-_png_jpg.rf.6bc2f57a6a0e9879f3c0abfe2d9f0c7f.jpg  \n",
            "  inflating: /content/AOL AI/train/Mesomorph/-User-00-Mesomorph-JDL-1-_png_jpg.rf.7cf49cd5b18fd48bef75a0e809927b56.jpg  \n",
            "  inflating: /content/AOL AI/train/Mesomorph/-User-00-Mesomorph-JDL-1-_png_jpg.rf.83781249f9443f2081b72bcd0bc024cf.jpg  \n",
            "  inflating: /content/AOL AI/train/Mesomorph/-User-00-Mesomorph-JDL-1-_png_jpg.rf.a3701dfdce6b30142b02245c5b1c031d.jpg  \n",
            "  inflating: /content/AOL AI/train/Mesomorph/-User-00-Mesomorph-JDL-1-_png_jpg.rf.bd671c00e29367146b9396a6d8e769e0.jpg  \n",
            "  inflating: /content/AOL AI/train/Mesomorph/-User-00-Mesomorph-JDL-1-_png_jpg.rf.d4f5d1b4721cecc541e172e5edabc783.jpg  \n",
            "  inflating: /content/AOL AI/train/Mesomorph/-User-00-Mesomorph-JDL-10-_png_jpg.rf.1f08e38adeb32516a02e56bed13eefb4.jpg  \n",
            "  inflating: /content/AOL AI/train/Mesomorph/-User-00-Mesomorph-JDL-10-_png_jpg.rf.58b76acb8737ef4148f65f0b8f22e6cd.jpg  \n",
            "  inflating: /content/AOL AI/train/Mesomorph/-User-00-Mesomorph-JDL-10-_png_jpg.rf.88038c5b0cde4b6b60dabd1de0a040bd.jpg  \n",
            "  inflating: /content/AOL AI/train/Mesomorph/-User-00-Mesomorph-JDL-10-_png_jpg.rf.8b64cb833684dc70da929c33f00a21fc.jpg  \n",
            "  inflating: /content/AOL AI/train/Mesomorph/-User-00-Mesomorph-JDL-10-_png_jpg.rf.b07d6dbe87761c68c784a85476c35e19.jpg  \n",
            "  inflating: /content/AOL AI/train/Mesomorph/-User-00-Mesomorph-JDL-10-_png_jpg.rf.b1b63a82f854d89c364ef07d25e1073c.jpg  \n",
            "  inflating: /content/AOL AI/train/Mesomorph/-User-00-Mesomorph-JDL-10-_png_jpg.rf.c496cc54d16c8beed1d701409122d091.jpg  \n",
            "  inflating: /content/AOL AI/train/Mesomorph/-User-00-Mesomorph-JDL-12-_jpg.rf.02e3a9e51c483eefe60d56580831f3cb.jpg  \n",
            "  inflating: /content/AOL AI/train/Mesomorph/-User-00-Mesomorph-JDL-12-_jpg.rf.07d8062ab62018a8869da502b354a218.jpg  \n",
            "  inflating: /content/AOL AI/train/Mesomorph/-User-00-Mesomorph-JDL-12-_jpg.rf.2b7f59a1cea6fd8b831e9b8de2711e7a.jpg  \n",
            "  inflating: /content/AOL AI/train/Mesomorph/-User-00-Mesomorph-JDL-12-_jpg.rf.430e0164b6f8923c5e3255f6771f67c2.jpg  \n",
            "  inflating: /content/AOL AI/train/Mesomorph/-User-00-Mesomorph-JDL-12-_jpg.rf.98c9cb4e0900eb43c1f92d8f0b5eb160.jpg  \n",
            "  inflating: /content/AOL AI/train/Mesomorph/-User-00-Mesomorph-JDL-12-_jpg.rf.b7c41c174cdab8c1068ab8f1ca00d52d.jpg  \n",
            "  inflating: /content/AOL AI/train/Mesomorph/-User-00-Mesomorph-JDL-13-_png_jpg.rf.2968c18309ee5252c018bcd422156e41.jpg  \n",
            "  inflating: /content/AOL AI/train/Mesomorph/-User-00-Mesomorph-JDL-13-_png_jpg.rf.2b5d97a4f31ea331d4698da74fafbe77.jpg  \n",
            "  inflating: /content/AOL AI/train/Mesomorph/-User-00-Mesomorph-JDL-13-_png_jpg.rf.3ecdde3042f9b5a808e4f6f42d0cd829.jpg  \n",
            "  inflating: /content/AOL AI/train/Mesomorph/-User-00-Mesomorph-JDL-13-_png_jpg.rf.6fe1a02923c67f854c8695db3b18e4c4.jpg  \n",
            "  inflating: /content/AOL AI/train/Mesomorph/-User-00-Mesomorph-JDL-13-_png_jpg.rf.7e4f920c5146f0f4fcb8dd28ce3e9fe8.jpg  \n",
            "  inflating: /content/AOL AI/train/Mesomorph/-User-00-Mesomorph-JDL-13-_png_jpg.rf.dbf3bff4d7a237b2bf0ede6d7069be5d.jpg  \n",
            "  inflating: /content/AOL AI/train/Mesomorph/-User-00-Mesomorph-JDL-13-_png_jpg.rf.f4f23e2ceb29c66736582fb6a988eea1.jpg  \n",
            "  inflating: /content/AOL AI/train/Mesomorph/-User-00-Mesomorph-JDL-15-_png_jpg.rf.14ee217edf1757c18d02769c7e46573a.jpg  \n",
            "  inflating: /content/AOL AI/train/Mesomorph/-User-00-Mesomorph-JDL-15-_png_jpg.rf.1c683a03aa1c7e9d2350033c497d5f7e.jpg  \n",
            "  inflating: /content/AOL AI/train/Mesomorph/-User-00-Mesomorph-JDL-15-_png_jpg.rf.3b534a35e693b8f30b1e7b82168b1336.jpg  \n",
            "  inflating: /content/AOL AI/train/Mesomorph/-User-00-Mesomorph-JDL-15-_png_jpg.rf.78cd16bfdf35251db345ea256f8dd96b.jpg  \n",
            "  inflating: /content/AOL AI/train/Mesomorph/-User-00-Mesomorph-JDL-15-_png_jpg.rf.8e458fdc25a032e643a986458e4a025b.jpg  \n",
            "  inflating: /content/AOL AI/train/Mesomorph/-User-00-Mesomorph-JDL-15-_png_jpg.rf.8e5f92e3500c80fc033a99d45cc2a573.jpg  \n",
            "  inflating: /content/AOL AI/train/Mesomorph/-User-00-Mesomorph-JDL-15-_png_jpg.rf.c002ad90d86e6ca51a7cfe640ccdcb73.jpg  \n",
            "  inflating: /content/AOL AI/train/Mesomorph/-User-00-Mesomorph-JDL-16-_png_jpg.rf.2201255e6c751caca70c702f88fa4e07.jpg  \n",
            "  inflating: /content/AOL AI/train/Mesomorph/-User-00-Mesomorph-JDL-16-_png_jpg.rf.224a2863caba5362ffad10efe9372f3a.jpg  \n",
            "  inflating: /content/AOL AI/train/Mesomorph/-User-00-Mesomorph-JDL-16-_png_jpg.rf.4591e7d22007f66e09caafcb532ed810.jpg  \n",
            "  inflating: /content/AOL AI/train/Mesomorph/-User-00-Mesomorph-JDL-16-_png_jpg.rf.74550e5eed52ccc5db4c337c45b2c3b7.jpg  \n",
            "  inflating: /content/AOL AI/train/Mesomorph/-User-00-Mesomorph-JDL-16-_png_jpg.rf.7be7ebf83b712134b6d3944864120dad.jpg  \n",
            "  inflating: /content/AOL AI/train/Mesomorph/-User-00-Mesomorph-JDL-16-_png_jpg.rf.d6eae9915419c8495ea30d0f577f6368.jpg  \n",
            "  inflating: /content/AOL AI/train/Mesomorph/-User-00-Mesomorph-JDL-17-_png_jpg.rf.13f0e9c43c42ff5d928bdd69d9cb5778.jpg  \n",
            "  inflating: /content/AOL AI/train/Mesomorph/-User-00-Mesomorph-JDL-17-_png_jpg.rf.3cacdcba90b15cdcb3a151a04265d54d.jpg  \n",
            "  inflating: /content/AOL AI/train/Mesomorph/-User-00-Mesomorph-JDL-17-_png_jpg.rf.4522e864f619390002c9a38202c28a7b.jpg  \n",
            "  inflating: /content/AOL AI/train/Mesomorph/-User-00-Mesomorph-JDL-17-_png_jpg.rf.55e08be3c9b95ab8fa8e0a239ff747df.jpg  \n",
            "  inflating: /content/AOL AI/train/Mesomorph/-User-00-Mesomorph-JDL-17-_png_jpg.rf.ba3b5336048e9e1c5fb1a54249f38ddd.jpg  \n",
            "  inflating: /content/AOL AI/train/Mesomorph/-User-00-Mesomorph-JDL-17-_png_jpg.rf.c941d4d64210abbb3aed208a36b6cf76.jpg  \n",
            "  inflating: /content/AOL AI/train/Mesomorph/-User-00-Mesomorph-JDL-17-_png_jpg.rf.f80b584fddf1acd8755d180abfd9e9c1.jpg  \n",
            "  inflating: /content/AOL AI/train/Mesomorph/-User-00-Mesomorph-JDL-18-_png_jpg.rf.113ccb48746148e0d2fd6c5b5472d89e.jpg  \n",
            "  inflating: /content/AOL AI/train/Mesomorph/-User-00-Mesomorph-JDL-18-_png_jpg.rf.497fd8efb463ae8af2cca8e15371d05e.jpg  \n",
            "  inflating: /content/AOL AI/train/Mesomorph/-User-00-Mesomorph-JDL-18-_png_jpg.rf.49e66c263d82a0f9814a15822542c118.jpg  \n",
            "  inflating: /content/AOL AI/train/Mesomorph/-User-00-Mesomorph-JDL-18-_png_jpg.rf.58dd74ba78e5dce8065d0e76b13d4fcd.jpg  \n",
            "  inflating: /content/AOL AI/train/Mesomorph/-User-00-Mesomorph-JDL-18-_png_jpg.rf.8a06259a81fdd71ef5d514af5c384440.jpg  \n",
            "  inflating: /content/AOL AI/train/Mesomorph/-User-00-Mesomorph-JDL-18-_png_jpg.rf.bf3b5cf74f7f47f332f896ae91dbf952.jpg  \n",
            "  inflating: /content/AOL AI/train/Mesomorph/-User-00-Mesomorph-JDL-18-_png_jpg.rf.f3bd2e87ae1fb31abe37acab367bf17c.jpg  \n",
            "  inflating: /content/AOL AI/train/Mesomorph/-User-00-Mesomorph-JDL-19-_png_jpg.rf.1e695f16f14d479d458de842818e0194.jpg  \n",
            "  inflating: /content/AOL AI/train/Mesomorph/-User-00-Mesomorph-JDL-19-_png_jpg.rf.3c1feafb14489b0695a6411bd9ecd1d6.jpg  \n",
            "  inflating: /content/AOL AI/train/Mesomorph/-User-00-Mesomorph-JDL-19-_png_jpg.rf.62022767e4083ca70b8df7a95a576d0f.jpg  \n",
            "  inflating: /content/AOL AI/train/Mesomorph/-User-00-Mesomorph-JDL-19-_png_jpg.rf.6ebefaa35c6868df85411e625e88d87c.jpg  \n",
            "  inflating: /content/AOL AI/train/Mesomorph/-User-00-Mesomorph-JDL-19-_png_jpg.rf.8de386f30d6d9169108cef3e1d66eb80.jpg  \n",
            "  inflating: /content/AOL AI/train/Mesomorph/-User-00-Mesomorph-JDL-19-_png_jpg.rf.92e2e89120fbda43ad14f13d71507c7e.jpg  \n",
            "  inflating: /content/AOL AI/train/Mesomorph/-User-00-Mesomorph-JDL-20-_jpg.rf.17b011b054b287a1b80fb3ef3cbe5e12.jpg  \n",
            "  inflating: /content/AOL AI/train/Mesomorph/-User-00-Mesomorph-JDL-20-_jpg.rf.55483bb9edfc119f0eee867a8b6bbdce.jpg  \n",
            "  inflating: /content/AOL AI/train/Mesomorph/-User-00-Mesomorph-JDL-20-_jpg.rf.66aff14132c5313d41610e8afc7674cc.jpg  \n",
            "  inflating: /content/AOL AI/train/Mesomorph/-User-00-Mesomorph-JDL-20-_jpg.rf.a2555df32f5afa9377235e4e97ceebdb.jpg  \n",
            "  inflating: /content/AOL AI/train/Mesomorph/-User-00-Mesomorph-JDL-20-_jpg.rf.b219bd48dbee2d4078a4d8548de84069.jpg  \n",
            "  inflating: /content/AOL AI/train/Mesomorph/-User-00-Mesomorph-JDL-20-_jpg.rf.c888f1f97b255bb82272162a37bb406b.jpg  \n",
            "  inflating: /content/AOL AI/train/Mesomorph/-User-00-Mesomorph-JDL-20-_jpg.rf.c9de38ab9a79d21557826bcda249b1b1.jpg  \n",
            "  inflating: /content/AOL AI/train/Mesomorph/-User-00-Mesomorph-JDL-3-_png_jpg.rf.0ca470024234bfa1d1f4fb9e143a607e.jpg  \n",
            "  inflating: /content/AOL AI/train/Mesomorph/-User-00-Mesomorph-JDL-3-_png_jpg.rf.558bbb37d9cc8d563c1740049934712b.jpg  \n",
            "  inflating: /content/AOL AI/train/Mesomorph/-User-00-Mesomorph-JDL-3-_png_jpg.rf.7f4d3d19ecaf06289f6125f6da207442.jpg  \n",
            "  inflating: /content/AOL AI/train/Mesomorph/-User-00-Mesomorph-JDL-3-_png_jpg.rf.a490e340190b5a9417f09f424c7fbb55.jpg  \n",
            "  inflating: /content/AOL AI/train/Mesomorph/-User-00-Mesomorph-JDL-3-_png_jpg.rf.cb88192c3902cafd71e84fa5182fc072.jpg  \n",
            "  inflating: /content/AOL AI/train/Mesomorph/-User-00-Mesomorph-JDL-3-_png_jpg.rf.dc916ae696bc0eb4f690dab840451993.jpg  \n",
            "  inflating: /content/AOL AI/train/Mesomorph/-User-00-Mesomorph-JDL-3-_png_jpg.rf.f326a74925a1c14ef3eb5c3b3d36286d.jpg  \n",
            "  inflating: /content/AOL AI/train/Mesomorph/-User-00-Mesomorph-JDL-4-_png_jpg.rf.0b350a25844982d592d8ba1f30f49aef.jpg  \n",
            "  inflating: /content/AOL AI/train/Mesomorph/-User-00-Mesomorph-JDL-4-_png_jpg.rf.31f2070d3d7b74bb5d970b14c28f048b.jpg  \n",
            "  inflating: /content/AOL AI/train/Mesomorph/-User-00-Mesomorph-JDL-4-_png_jpg.rf.57fca3761259e8e4795de5eb4e591dbf.jpg  \n",
            "  inflating: /content/AOL AI/train/Mesomorph/-User-00-Mesomorph-JDL-4-_png_jpg.rf.d81fcd5c962c507dff153e7f5f502f29.jpg  \n",
            "  inflating: /content/AOL AI/train/Mesomorph/-User-00-Mesomorph-JDL-4-_png_jpg.rf.fa04b3e2e085b44309d3f0dcd41dcad6.jpg  \n",
            "  inflating: /content/AOL AI/train/Mesomorph/-User-00-Mesomorph-JDL-5-_png_jpg.rf.3f1f002eb43ed6f41cb2c07c0470973a.jpg  \n",
            "  inflating: /content/AOL AI/train/Mesomorph/-User-00-Mesomorph-JDL-5-_png_jpg.rf.527d806ae9ebb9ae39a550790d3ad961.jpg  \n",
            "  inflating: /content/AOL AI/train/Mesomorph/-User-00-Mesomorph-JDL-5-_png_jpg.rf.8e71dee6e71478eaaa198c65efa0259c.jpg  \n",
            "  inflating: /content/AOL AI/train/Mesomorph/-User-00-Mesomorph-JDL-5-_png_jpg.rf.c9e6b109b922ad1faa4439381652b12e.jpg  \n",
            "  inflating: /content/AOL AI/train/Mesomorph/-User-00-Mesomorph-JDL-5-_png_jpg.rf.cf77f6d45b04f0fc02e12396062fcb6b.jpg  \n",
            "  inflating: /content/AOL AI/train/Mesomorph/-User-00-Mesomorph-JDL-5-_png_jpg.rf.f1f1e2e6e9778ec9d9b59f24a7213237.jpg  \n",
            "  inflating: /content/AOL AI/train/Mesomorph/-User-00-Mesomorph-JDL-5-_png_jpg.rf.f8507c209730d55e6ae83901f60fe7a2.jpg  \n",
            "  inflating: /content/AOL AI/train/Mesomorph/-User-00-Mesomorph-JDL-7-_png_jpg.rf.0daef82b50e14a40526205d24b18b627.jpg  \n",
            "  inflating: /content/AOL AI/train/Mesomorph/-User-00-Mesomorph-JDL-7-_png_jpg.rf.3d90b22ab025903e434067126480dbe4.jpg  \n",
            "  inflating: /content/AOL AI/train/Mesomorph/-User-00-Mesomorph-JDL-7-_png_jpg.rf.51a71d85104b002e40bae1ae7365f606.jpg  \n",
            "  inflating: /content/AOL AI/train/Mesomorph/-User-00-Mesomorph-JDL-7-_png_jpg.rf.7d3522be031967b7b5e3a3baf7087014.jpg  \n",
            "  inflating: /content/AOL AI/train/Mesomorph/-User-00-Mesomorph-JDL-7-_png_jpg.rf.a0c4e21acdf0482f2c74e732c589bddf.jpg  \n",
            "  inflating: /content/AOL AI/train/Mesomorph/-User-00-Mesomorph-JDL-7-_png_jpg.rf.bfe853833078a57bf16274c32d5f8608.jpg  \n",
            "  inflating: /content/AOL AI/train/Mesomorph/-User-00-Mesomorph-JDL-7-_png_jpg.rf.c794aeb9a6a78c1035fd9e2536715233.jpg  \n",
            "  inflating: /content/AOL AI/train/Mesomorph/-User-00-Mesomorph-JDL-8-_png_jpg.rf.09085f16c437a96b3c203e5bf4de1db7.jpg  \n",
            "  inflating: /content/AOL AI/train/Mesomorph/-User-00-Mesomorph-JDL-8-_png_jpg.rf.0b3ea87b324c9cb50c567b6a4c47747b.jpg  \n",
            "  inflating: /content/AOL AI/train/Mesomorph/-User-00-Mesomorph-JDL-8-_png_jpg.rf.b449aa74aa4d7f2d8ba2b5e59ee59dfd.jpg  \n",
            "  inflating: /content/AOL AI/train/Mesomorph/-User-00-Mesomorph-JDL-8-_png_jpg.rf.b6de8787b43ec6d1fe23c3e7a1eefcfd.jpg  \n",
            "  inflating: /content/AOL AI/train/Mesomorph/-User-00-Mesomorph-JDL-8-_png_jpg.rf.cb08246dcb653e86b7fcfabe15a8096b.jpg  \n",
            "  inflating: /content/AOL AI/train/Mesomorph/-User-00-Mesomorph-JDL-8-_png_jpg.rf.e308ce64f7176eacff605e0955ef45d7.jpg  \n",
            "  inflating: /content/AOL AI/train/Mesomorph/-User-00-Mesomorph-JDL-8-_png_jpg.rf.f6a4bbdd3d167b3a41d9f7ba93f49dd8.jpg  \n",
            "  inflating: /content/AOL AI/train/Mesomorph/-User-00-Mesomorph-JDL-9-_png_jpg.rf.0ff0a92c15fa710d3333534ee5e69c7e.jpg  \n",
            "  inflating: /content/AOL AI/train/Mesomorph/-User-00-Mesomorph-JDL-9-_png_jpg.rf.254cc507248ff1a7d0f32eb3dd437039.jpg  \n",
            "  inflating: /content/AOL AI/train/Mesomorph/-User-00-Mesomorph-JDL-9-_png_jpg.rf.5b0ac874df7f3afe6d9a76ded18ad499.jpg  \n",
            "  inflating: /content/AOL AI/train/Mesomorph/-User-00-Mesomorph-JDL-9-_png_jpg.rf.5d9c4f442d5dcb465434684c2a910ba5.jpg  \n",
            "  inflating: /content/AOL AI/train/Mesomorph/-User-00-Mesomorph-JDL-9-_png_jpg.rf.6f520ddcb422808ea62238c422da7f1c.jpg  \n",
            "  inflating: /content/AOL AI/train/Mesomorph/-User-00-Mesomorph-JDL-9-_png_jpg.rf.897f5fa7abd26955bbeba8c6a67fd998.jpg  \n",
            "  inflating: /content/AOL AI/train/Mesomorph/-User-00-Mesomorph-JDL-9-_png_jpg.rf.9bab7cb6b8c6032eefa219527399a49f.jpg  \n",
            "  inflating: /content/AOL AI/train/Mesomorph/Mesomorph-3-_png_jpg.rf.0af23dee133a7ece29a59e99d0ea6e87.jpg  \n",
            "  inflating: /content/AOL AI/train/Mesomorph/Mesomorph-3-_png_jpg.rf.1f582b6f621cc421a7c4b10f3d2f9e82.jpg  \n",
            "  inflating: /content/AOL AI/train/Mesomorph/Mesomorph-3-_png_jpg.rf.4048c4da57fa9724471b0a4d9cbb6c72.jpg  \n",
            "  inflating: /content/AOL AI/train/Mesomorph/Mesomorph-3-_png_jpg.rf.a58cec803831944c9823c7a0c0319c90.jpg  \n",
            "  inflating: /content/AOL AI/train/Mesomorph/Mesomorph-3-_png_jpg.rf.db05e02b730b2b5604bdcaf78ca0374a.jpg  \n",
            "  inflating: /content/AOL AI/train/Mesomorph/Mesomorph-3-_png_jpg.rf.f39b78afea8b6fa18c35a2a6b233c163.jpg  \n",
            "  inflating: /content/AOL AI/train/Mesomorph/Mesomorph-3-_png_jpg.rf.f4aa214fcae9687ce85e611bceee57b4.jpg  \n",
            "  inflating: /content/AOL AI/train/Mesomorph/Mesomorph-5-_png_jpg.rf.1a7f343d1a9d390de7e367f5a3a80e63.jpg  \n",
            "  inflating: /content/AOL AI/train/Mesomorph/Mesomorph-5-_png_jpg.rf.1cc0592ad673bbe43cc059390f96ba51.jpg  \n",
            "  inflating: /content/AOL AI/train/Mesomorph/Mesomorph-5-_png_jpg.rf.56acb2fb1e0b89980da769de0516b009.jpg  \n",
            "  inflating: /content/AOL AI/train/Mesomorph/Mesomorph-5-_png_jpg.rf.6e73c22529727c2270b315e25d60c440.jpg  \n",
            "  inflating: /content/AOL AI/train/Mesomorph/Mesomorph-5-_png_jpg.rf.7999f11aaaf46f0cd74ad9cefaefc9ad.jpg  \n",
            "  inflating: /content/AOL AI/train/Mesomorph/Mesomorph-5-_png_jpg.rf.dfdc5d6ddeef40b6204f13115b378cbc.jpg  \n",
            "  inflating: /content/AOL AI/train/Mesomorph/Mesomorph-5-_png_jpg.rf.e041ed047b349b0a05c7d8e832f17075.jpg  \n",
            "  inflating: /content/AOL AI/train/Mesomorph/Mesomorph10_png_jpg.rf.32d4715823db8f17db49cc8cdd5abc8e.jpg  \n",
            "  inflating: /content/AOL AI/train/Mesomorph/Mesomorph10_png_jpg.rf.3b65c282530b643bb002224114b2b53e.jpg  \n",
            "  inflating: /content/AOL AI/train/Mesomorph/Mesomorph10_png_jpg.rf.65019cf1d24abb9b70aa497c0a603edb.jpg  \n",
            "  inflating: /content/AOL AI/train/Mesomorph/Mesomorph10_png_jpg.rf.6acec5cd481e69b17264548745a024e7.jpg  \n",
            "  inflating: /content/AOL AI/train/Mesomorph/Mesomorph10_png_jpg.rf.84d039649c0b118e5c1d1b024d08666a.jpg  \n",
            "  inflating: /content/AOL AI/train/Mesomorph/Mesomorph10_png_jpg.rf.c3546235f0f805303f03c05f445e868c.jpg  \n",
            "  inflating: /content/AOL AI/train/Mesomorph/Mesomorph10_png_jpg.rf.c6c4b9d38dcf5df13dfc3ec15208147d.jpg  \n",
            "  inflating: /content/AOL AI/train/Mesomorph/Mesomorph11_png_jpg.rf.0d072676ead73d6a6eadaec103017cc2.jpg  \n",
            "  inflating: /content/AOL AI/train/Mesomorph/Mesomorph11_png_jpg.rf.260ca184d98b3e0b5850ea345bfda1e0.jpg  \n",
            "  inflating: /content/AOL AI/train/Mesomorph/Mesomorph11_png_jpg.rf.3564b77b6a0f1a0d7f919e69a9fafe76.jpg  \n",
            "  inflating: /content/AOL AI/train/Mesomorph/Mesomorph11_png_jpg.rf.691c72b53b98d5e56eb27d8ba2dd7b7b.jpg  \n",
            "  inflating: /content/AOL AI/train/Mesomorph/Mesomorph11_png_jpg.rf.935de0786863289fcdd29bb26c069d36.jpg  \n",
            "  inflating: /content/AOL AI/train/Mesomorph/Mesomorph11_png_jpg.rf.9b45436dd56fdc57e4575d8a89b4b9bf.jpg  \n",
            "  inflating: /content/AOL AI/train/Mesomorph/Mesomorph11_png_jpg.rf.fa48174587874a2a248903ee6ca63fa8.jpg  \n",
            "  inflating: /content/AOL AI/train/Mesomorph/Mesomorph12_png_jpg.rf.0b612ae7165b7270de2eb0d809d0de86.jpg  \n",
            "  inflating: /content/AOL AI/train/Mesomorph/Mesomorph12_png_jpg.rf.29fdbaf282103b3bb83387899541ed93.jpg  \n",
            "  inflating: /content/AOL AI/train/Mesomorph/Mesomorph12_png_jpg.rf.3a3620688c161e84c001fdf065b60c43.jpg  \n",
            "  inflating: /content/AOL AI/train/Mesomorph/Mesomorph12_png_jpg.rf.3f3d65580381971cd25b738f85b39df3.jpg  \n",
            "  inflating: /content/AOL AI/train/Mesomorph/Mesomorph12_png_jpg.rf.753bfae7624949895d8ac2f06175a6e3.jpg  \n",
            "  inflating: /content/AOL AI/train/Mesomorph/Mesomorph12_png_jpg.rf.7dd328c905fc52eabe5c179cfce7c093.jpg  \n",
            "  inflating: /content/AOL AI/train/Mesomorph/Mesomorph12_png_jpg.rf.f416541de3fae5acdb8826c15a55aa94.jpg  \n",
            "  inflating: /content/AOL AI/train/Mesomorph/Mesomorph13_png_jpg.rf.2ccfdd0efe1687ddb9dc27c9c5a18fce.jpg  \n",
            "  inflating: /content/AOL AI/train/Mesomorph/Mesomorph13_png_jpg.rf.395b47ec6da9e878e3d4208dc798f47d.jpg  \n",
            "  inflating: /content/AOL AI/train/Mesomorph/Mesomorph13_png_jpg.rf.53b598f3042c6530d0e6df41fe291845.jpg  \n",
            "  inflating: /content/AOL AI/train/Mesomorph/Mesomorph13_png_jpg.rf.603e3bd22ee5fb8a9ab3048dac683b97.jpg  \n",
            "  inflating: /content/AOL AI/train/Mesomorph/Mesomorph13_png_jpg.rf.b11abbd1c4a3e62626eb1ab115fb3d86.jpg  \n",
            "  inflating: /content/AOL AI/train/Mesomorph/Mesomorph13_png_jpg.rf.c01655dd7fef2faf15d02c0f304dfa68.jpg  \n",
            "  inflating: /content/AOL AI/train/Mesomorph/Mesomorph13_png_jpg.rf.e999a18bb5b03d3d6f57f2140356bbee.jpg  \n",
            "  inflating: /content/AOL AI/train/Mesomorph/Mesomorph15_png_jpg.rf.00cfe894b40987e20cdf25e4fefbd116.jpg  \n",
            "  inflating: /content/AOL AI/train/Mesomorph/Mesomorph15_png_jpg.rf.3669b3adef7f0b5b19110f704fa7b8c9.jpg  \n",
            "  inflating: /content/AOL AI/train/Mesomorph/Mesomorph15_png_jpg.rf.5113780f4685a570d178e521b5cd10af.jpg  \n",
            "  inflating: /content/AOL AI/train/Mesomorph/Mesomorph15_png_jpg.rf.99813c58c1a54317886ff0cd483d3ac1.jpg  \n",
            "  inflating: /content/AOL AI/train/Mesomorph/Mesomorph15_png_jpg.rf.ab9c4405864fc6adb58e762446304809.jpg  \n",
            "  inflating: /content/AOL AI/train/Mesomorph/Mesomorph15_png_jpg.rf.c7ada00d2db127fe24e9ba776c85e72c.jpg  \n",
            "  inflating: /content/AOL AI/train/Mesomorph/Mesomorph15_png_jpg.rf.fbaa3988f6925d161150e7abb85f53e1.jpg  \n",
            "  inflating: /content/AOL AI/train/Mesomorph/Mesomorph17_png_jpg.rf.2c8f6333fd640bd3733e081cac9a066e.jpg  \n",
            "  inflating: /content/AOL AI/train/Mesomorph/Mesomorph17_png_jpg.rf.a207eecae13d19383fecbe2d3450f4c6.jpg  \n",
            "  inflating: /content/AOL AI/train/Mesomorph/Mesomorph17_png_jpg.rf.a793a5cf20274591cddebf46a6aceffb.jpg  \n",
            "  inflating: /content/AOL AI/train/Mesomorph/Mesomorph17_png_jpg.rf.ae4bbc7b6ef1bb637e8222fc541cac63.jpg  \n",
            "  inflating: /content/AOL AI/train/Mesomorph/Mesomorph17_png_jpg.rf.e0325361e79d9b2309ec5a43e8b09711.jpg  \n",
            "  inflating: /content/AOL AI/train/Mesomorph/Mesomorph17_png_jpg.rf.ead20f4d2b61472a3e7fc3a7c67cc048.jpg  \n",
            "  inflating: /content/AOL AI/train/Mesomorph/Mesomorph17_png_jpg.rf.f8b47fed38dc1fca5907484dd7a8158b.jpg  \n",
            "  inflating: /content/AOL AI/train/Mesomorph/Mesomorph18_png_jpg.rf.094f4f0a319fd48a587a8f9c2aeb143b.jpg  \n",
            "  inflating: /content/AOL AI/train/Mesomorph/Mesomorph18_png_jpg.rf.431375fe8b7af73ae55122b208f860c0.jpg  \n",
            "  inflating: /content/AOL AI/train/Mesomorph/Mesomorph18_png_jpg.rf.6124b2b726ec813c8918ccfb802efe08.jpg  \n",
            "  inflating: /content/AOL AI/train/Mesomorph/Mesomorph18_png_jpg.rf.75e3b6a3b7c8717987ae8b5763e48c3d.jpg  \n",
            "  inflating: /content/AOL AI/train/Mesomorph/Mesomorph18_png_jpg.rf.8b17c122fac85e22a0df9021df828b97.jpg  \n",
            "  inflating: /content/AOL AI/train/Mesomorph/Mesomorph18_png_jpg.rf.eeb9999dfc9d0d5b758db9088f534e30.jpg  \n",
            "  inflating: /content/AOL AI/train/Mesomorph/Mesomorph18_png_jpg.rf.fecda2ed6db38e2a32e3b93de939f7ce.jpg  \n",
            "  inflating: /content/AOL AI/train/Mesomorph/Mesomorph19_png_jpg.rf.278cb0d2345d35c429d52c028bbe7ebe.jpg  \n",
            "  inflating: /content/AOL AI/train/Mesomorph/Mesomorph19_png_jpg.rf.3b330cde2617b0d0593eefee9e479d37.jpg  \n",
            "  inflating: /content/AOL AI/train/Mesomorph/Mesomorph19_png_jpg.rf.3ffcf7c03201cd6b7c663dc7c60005a5.jpg  \n",
            "  inflating: /content/AOL AI/train/Mesomorph/Mesomorph19_png_jpg.rf.4b06c0b646008b8a74f71601c9338609.jpg  \n",
            "  inflating: /content/AOL AI/train/Mesomorph/Mesomorph19_png_jpg.rf.594c39213f48e88299ad05c97f8c2480.jpg  \n",
            "  inflating: /content/AOL AI/train/Mesomorph/Mesomorph19_png_jpg.rf.77167214f6c2d6d073a1d59361414766.jpg  \n",
            "  inflating: /content/AOL AI/train/Mesomorph/Mesomorph19_png_jpg.rf.a3e290fdcb60b39224b5765ff4fce76e.jpg  \n",
            "  inflating: /content/AOL AI/train/Mesomorph/Mesomorph1_jpg.rf.3404c96f593fb14ed9f1948a3b1523d0.jpg  \n",
            "  inflating: /content/AOL AI/train/Mesomorph/Mesomorph1_jpg.rf.aad06b288efaedba8274e5fc95f662a8.jpg  \n",
            "  inflating: /content/AOL AI/train/Mesomorph/Mesomorph20_png_jpg.rf.0ab411d2a58e2bbd589de421d8618b33.jpg  \n",
            "  inflating: /content/AOL AI/train/Mesomorph/Mesomorph20_png_jpg.rf.243561ec5825b61c62725fd3593279ca.jpg  \n",
            "  inflating: /content/AOL AI/train/Mesomorph/Mesomorph20_png_jpg.rf.4432a13ed4b1d63f2d3177aa84fc18f2.jpg  \n",
            "  inflating: /content/AOL AI/train/Mesomorph/Mesomorph20_png_jpg.rf.93886ebc5ca2045a3a16ceac7191d8cd.jpg  \n",
            "  inflating: /content/AOL AI/train/Mesomorph/Mesomorph20_png_jpg.rf.b9a1674417e95ecc31a4074c5af9196a.jpg  \n",
            "  inflating: /content/AOL AI/train/Mesomorph/Mesomorph20_png_jpg.rf.c6fe0c5cc28301f5b81389e9a8a5d3f9.jpg  \n",
            "  inflating: /content/AOL AI/train/Mesomorph/Mesomorph20_png_jpg.rf.c7dd99ab03325df74b4c503194073f8a.jpg  \n",
            "  inflating: /content/AOL AI/train/Mesomorph/Mesomorph3_jpg.rf.03282748c7c2da3a6760d10329747d57.jpg  \n",
            "  inflating: /content/AOL AI/train/Mesomorph/Mesomorph3_jpg.rf.689636e920b5e98ea980b1c5f1c7bfe7.jpg  \n",
            "  inflating: /content/AOL AI/train/Mesomorph/Mesomorph3_jpg.rf.ae1cb5ee9b1908b43bf5e4cd762f5aee.jpg  \n",
            "  inflating: /content/AOL AI/train/Mesomorph/Mesomorph3_jpg.rf.aea1a6fc779c017dbda876644aa0a04f.jpg  \n",
            "  inflating: /content/AOL AI/train/Mesomorph/Mesomorph3_jpg.rf.e2193fcd587b38e926b0cc324a6844fa.jpg  \n",
            "  inflating: /content/AOL AI/train/Mesomorph/Mesomorph3_png_jpg.rf.06be0a340fe3da1c203b64766bec5937.jpg  \n",
            "  inflating: /content/AOL AI/train/Mesomorph/Mesomorph3_png_jpg.rf.169a3d91c57bd8ecae3115ad8a4a3c0b.jpg  \n",
            "  inflating: /content/AOL AI/train/Mesomorph/Mesomorph3_png_jpg.rf.450c080c39b917ebd28d155a6bea6f32.jpg  \n",
            "  inflating: /content/AOL AI/train/Mesomorph/Mesomorph3_png_jpg.rf.4809c3b4307637d77d9525b9dfaa0d4e.jpg  \n",
            "  inflating: /content/AOL AI/train/Mesomorph/Mesomorph3_png_jpg.rf.578ae5bd800a0b8aaf6dbfb0f64be393.jpg  \n",
            "  inflating: /content/AOL AI/train/Mesomorph/Mesomorph3_png_jpg.rf.913e2807629a0e6d740c6e9d6889c756.jpg  \n",
            "  inflating: /content/AOL AI/train/Mesomorph/Mesomorph3_png_jpg.rf.c8941f8fc30760d5c1d159a1f7dde23b.jpg  \n",
            "  inflating: /content/AOL AI/train/Mesomorph/Mesomorph4_png_jpg.rf.15eeac073176010af4f7f94ed3b7b32a.jpg  \n",
            "  inflating: /content/AOL AI/train/Mesomorph/Mesomorph4_png_jpg.rf.403ad7fe427eec4c3e43ba4348c8b254.jpg  \n",
            "  inflating: /content/AOL AI/train/Mesomorph/Mesomorph4_png_jpg.rf.478ce872192247a20b82183441bc569d.jpg  \n",
            "  inflating: /content/AOL AI/train/Mesomorph/Mesomorph4_png_jpg.rf.7452dedc16b30821a3fcdd0c86b17ed5.jpg  \n",
            "  inflating: /content/AOL AI/train/Mesomorph/Mesomorph4_png_jpg.rf.7d47feb43e852830fa9d0c967a185a90.jpg  \n",
            "  inflating: /content/AOL AI/train/Mesomorph/Mesomorph4_png_jpg.rf.ace926cfeebbec10fb935aaf6811009d.jpg  \n",
            "  inflating: /content/AOL AI/train/Mesomorph/Mesomorph4_png_jpg.rf.cfcb28f8e9181776387aff5124550eb5.jpg  \n",
            "  inflating: /content/AOL AI/train/Mesomorph/Mesomorph6_png_jpg.rf.6610cd5eda4484ec0327cf579be5eae6.jpg  \n",
            "  inflating: /content/AOL AI/train/Mesomorph/Mesomorph6_png_jpg.rf.7e9ce5d85e302bb94338dc9d169bd7a4.jpg  \n",
            "  inflating: /content/AOL AI/train/Mesomorph/Mesomorph6_png_jpg.rf.9a1df9fb25ab96d416d9dde8379cf1d7.jpg  \n",
            "  inflating: /content/AOL AI/train/Mesomorph/Mesomorph6_png_jpg.rf.d9797308fbfbd9142e5c368914831398.jpg  \n",
            "  inflating: /content/AOL AI/train/Mesomorph/Mesomorph6_png_jpg.rf.e0ec82ec42b27b3f151d17fa1e3483f0.jpg  \n",
            "  inflating: /content/AOL AI/train/Mesomorph/Mesomorph6_png_jpg.rf.e6fedc2efa69266616b4b4fc4c306688.jpg  \n",
            "  inflating: /content/AOL AI/train/Mesomorph/Mesomorph6_png_jpg.rf.f09c59b44a04e8bf34151f8db1e62d16.jpg  \n",
            "  inflating: /content/AOL AI/train/Mesomorph/Mesomorph7_png_jpg.rf.039b375efd2dca28f19b814e39f4c286.jpg  \n",
            "  inflating: /content/AOL AI/train/Mesomorph/Mesomorph7_png_jpg.rf.091507c7f1bf6e75e740fb17cd18929a.jpg  \n",
            "  inflating: /content/AOL AI/train/Mesomorph/Mesomorph7_png_jpg.rf.15e225b57b6b3e891ab9d7ff028cd9de.jpg  \n",
            "  inflating: /content/AOL AI/train/Mesomorph/Mesomorph7_png_jpg.rf.98cf3c9fadc592b53645f2e92c113fda.jpg  \n",
            "  inflating: /content/AOL AI/train/Mesomorph/Mesomorph7_png_jpg.rf.9fd15c6e519d79d869ada8b6d9877993.jpg  \n",
            "  inflating: /content/AOL AI/train/Mesomorph/Mesomorph7_png_jpg.rf.afa7070075e47a859207c2d9a01ad781.jpg  \n",
            "  inflating: /content/AOL AI/train/Mesomorph/Mesomorph7_png_jpg.rf.c4670c270dedc084c74d66e07070891c.jpg  \n",
            "  inflating: /content/AOL AI/train/Mesomorph/Mesomorph8_png_jpg.rf.411aa6fcae822cf93d291215f6351eb4.jpg  \n",
            "  inflating: /content/AOL AI/train/Mesomorph/Mesomorph8_png_jpg.rf.501d472e5f47d743a41050c99aad89b2.jpg  \n",
            "  inflating: /content/AOL AI/train/Mesomorph/Mesomorph8_png_jpg.rf.5a77c88c5299c13441b0b55b00c78290.jpg  \n",
            "  inflating: /content/AOL AI/train/Mesomorph/Mesomorph8_png_jpg.rf.6a8017d4f05e96a5d1f91ae0fe3627a4.jpg  \n",
            "  inflating: /content/AOL AI/train/Mesomorph/Mesomorph8_png_jpg.rf.783f883fb7e15094443780747b14a1e9.jpg  \n",
            "  inflating: /content/AOL AI/train/Mesomorph/Mesomorph8_png_jpg.rf.8a4b71f7d8c79f45bb70b7f999c9463f.jpg  \n",
            "  inflating: /content/AOL AI/train/Mesomorph/Mesomorph8_png_jpg.rf.a78ba496366e3853a67d5eadcf36d35f.jpg  \n",
            "   creating: /content/AOL AI/val/\n",
            "   creating: /content/AOL AI/val/Ectomorph/\n",
            "  inflating: /content/AOL AI/val/Ectomorph/-User-00-Ectomorph-11-_jpg.rf.82ed005d07466195d0db4cd5b575cfd0.jpg  \n",
            "  inflating: /content/AOL AI/val/Ectomorph/-User-00-Ectomorph-15-_jpg.rf.af2faf211fb442188a9e108ce5e520d6.jpg  \n",
            "  inflating: /content/AOL AI/val/Ectomorph/-User-00-Ectomorph-2-_jpg.rf.8c341d967d5501543162418a0a4c1ebd.jpg  \n",
            "  inflating: /content/AOL AI/val/Ectomorph/-User-00-Ectomorph-22-_png_jpg.rf.8b46e11dc6d9b1323923166802bdca10.jpg  \n",
            "  inflating: /content/AOL AI/val/Ectomorph/-User-00-Ectomorph-5-_jpg.rf.1226f59305bc59a2cb6f04534c01d42e.jpg  \n",
            "  inflating: /content/AOL AI/val/Ectomorph/-User-00-Ectomorph-JDL-1-_png_jpg.rf.927cef242e06f03b356d95d3dae0f50b.jpg  \n",
            "  inflating: /content/AOL AI/val/Ectomorph/-User-00-Ectomorph-JDL-10-_png_jpg.rf.ef484671adf6a23ca38b1b9bbfca76b4.jpg  \n",
            "  inflating: /content/AOL AI/val/Ectomorph/Ectomorph2_png_jpg.rf.ae8686dc0b6ab02184995bdf0ce16b49.jpg  \n",
            "  inflating: /content/AOL AI/val/Ectomorph/Ectomorph4_png_jpg.rf.e4c6996c5d979eb2855abbaf87002eef.jpg  \n",
            "   creating: /content/AOL AI/val/Endomorph/\n",
            "  inflating: /content/AOL AI/val/Endomorph/-User-00-Endomorph-17-_jpg.rf.2ef348efda2e3730a42b5d70d5c30c4e.jpg  \n",
            "  inflating: /content/AOL AI/val/Endomorph/-User-00-Endomorph-19-_jpg.rf.719d8e22fa526d50b3214f06f667a158.jpg  \n",
            "  inflating: /content/AOL AI/val/Endomorph/-User-00-Endomorph-2-_png_jpg.rf.a01c4fdadc0e6b8f3a13d8d92c54cfc0.jpg  \n",
            "  inflating: /content/AOL AI/val/Endomorph/-User-00-Endomorph-23-_jpg.rf.65eb490489b51d85563be213045076c0.jpg  \n",
            "  inflating: /content/AOL AI/val/Endomorph/-User-00-Endomorph-25-_png_jpg.rf.92779391503e3e2f5e99dfe8068d0dc1.jpg  \n",
            "  inflating: /content/AOL AI/val/Endomorph/-User-00-Endomorph-27-_png_jpg.rf.4d212c5432eba1bfc740c302c9cc4b81.jpg  \n",
            "  inflating: /content/AOL AI/val/Endomorph/-User-00-Endomorph-29-_png_jpg.rf.aac70a97c3157100380d3ead299ca9ed.jpg  \n",
            "  inflating: /content/AOL AI/val/Endomorph/-User-00-Endomorph-5-_png_jpg.rf.2f4445d8eef990dddac547562a536e54.jpg  \n",
            "  inflating: /content/AOL AI/val/Endomorph/-User-00-Endomorph-JDL-10-_png_jpg.rf.8181983ef5281969a55a8bb446c03691.jpg  \n",
            "  inflating: /content/AOL AI/val/Endomorph/-User-00-Endomorph-JDL-5-_png_jpg.rf.d9008645b09dd4d0ec855cfc00b6ed8f.jpg  \n",
            "  inflating: /content/AOL AI/val/Endomorph/Endomorph-3-_png_jpg.rf.b76352e72d2283fe6d6c335b1861c2ba.jpg  \n",
            "  inflating: /content/AOL AI/val/Endomorph/Endomorph-5-_png_jpg.rf.893dbd2106404ab89d7be074f1c1d2ed.jpg  \n",
            "   creating: /content/AOL AI/val/Mesomorph/\n",
            "  inflating: /content/AOL AI/val/Mesomorph/-User-00-Mesomorph-10-_jpg.rf.961c0a179dc0dc34b41144b5f9a8437a.jpg  \n",
            "  inflating: /content/AOL AI/val/Mesomorph/-User-00-Mesomorph-11-_png_jpg.rf.5fee817da14660e1218cad5f08c26231.jpg  \n",
            "  inflating: /content/AOL AI/val/Mesomorph/-User-00-Mesomorph-16-_png_jpg.rf.55b2191b0eafab8f7b87bcbb666fb8a3.jpg  \n",
            "  inflating: /content/AOL AI/val/Mesomorph/-User-00-Mesomorph-2-_jpg.rf.c123b640bbedc54997ecd8e85c15b7f8.jpg  \n",
            "  inflating: /content/AOL AI/val/Mesomorph/-User-00-Mesomorph-23-_png_jpg.rf.668ee74b03086c58890076c4e934a051.jpg  \n",
            "  inflating: /content/AOL AI/val/Mesomorph/-User-00-Mesomorph-25-_png_jpg.rf.10ab8fb17591ddae1023ba30c8a5ce37.jpg  \n",
            "  inflating: /content/AOL AI/val/Mesomorph/-User-00-Mesomorph-27-_png_jpg.rf.923438d105bc2451b66ba4e7bc336777.jpg  \n",
            "  inflating: /content/AOL AI/val/Mesomorph/-User-00-Mesomorph-JDL-11-_png_jpg.rf.5ae92919a49cc398b5b3fc295e58b634.jpg  \n",
            "  inflating: /content/AOL AI/val/Mesomorph/-User-00-Mesomorph-JDL-14-_png_jpg.rf.ae8cff83be03768d8e158e66eac1e0a9.jpg  \n",
            "  inflating: /content/AOL AI/val/Mesomorph/Mesomorph2_png_jpg.rf.d475baa7683d224e8fccebeff56d7af7.jpg  \n"
          ]
        }
      ]
    },
    {
      "cell_type": "code",
      "source": [
        "# Install YOLOv8\n",
        "!pip install ultralytics\n",
        "\n",
        "from ultralytics import YOLO"
      ],
      "metadata": {
        "colab": {
          "base_uri": "https://localhost:8080/"
        },
        "collapsed": true,
        "id": "3i5F2zfDP8px",
        "outputId": "a3bd7ed1-cbb7-4d86-fbd1-01efa43d67f1"
      },
      "execution_count": 3,
      "outputs": [
        {
          "output_type": "stream",
          "name": "stdout",
          "text": [
            "Collecting ultralytics\n",
            "  Downloading ultralytics-8.3.51-py3-none-any.whl.metadata (35 kB)\n",
            "Requirement already satisfied: numpy>=1.23.0 in /usr/local/lib/python3.10/dist-packages (from ultralytics) (1.26.4)\n",
            "Requirement already satisfied: matplotlib>=3.3.0 in /usr/local/lib/python3.10/dist-packages (from ultralytics) (3.8.0)\n",
            "Requirement already satisfied: opencv-python>=4.6.0 in /usr/local/lib/python3.10/dist-packages (from ultralytics) (4.10.0.84)\n",
            "Requirement already satisfied: pillow>=7.1.2 in /usr/local/lib/python3.10/dist-packages (from ultralytics) (11.0.0)\n",
            "Requirement already satisfied: pyyaml>=5.3.1 in /usr/local/lib/python3.10/dist-packages (from ultralytics) (6.0.2)\n",
            "Requirement already satisfied: requests>=2.23.0 in /usr/local/lib/python3.10/dist-packages (from ultralytics) (2.32.3)\n",
            "Requirement already satisfied: scipy>=1.4.1 in /usr/local/lib/python3.10/dist-packages (from ultralytics) (1.13.1)\n",
            "Requirement already satisfied: torch>=1.8.0 in /usr/local/lib/python3.10/dist-packages (from ultralytics) (2.5.1+cu121)\n",
            "Requirement already satisfied: torchvision>=0.9.0 in /usr/local/lib/python3.10/dist-packages (from ultralytics) (0.20.1+cu121)\n",
            "Requirement already satisfied: tqdm>=4.64.0 in /usr/local/lib/python3.10/dist-packages (from ultralytics) (4.67.1)\n",
            "Requirement already satisfied: psutil in /usr/local/lib/python3.10/dist-packages (from ultralytics) (5.9.5)\n",
            "Requirement already satisfied: py-cpuinfo in /usr/local/lib/python3.10/dist-packages (from ultralytics) (9.0.0)\n",
            "Requirement already satisfied: pandas>=1.1.4 in /usr/local/lib/python3.10/dist-packages (from ultralytics) (2.2.2)\n",
            "Requirement already satisfied: seaborn>=0.11.0 in /usr/local/lib/python3.10/dist-packages (from ultralytics) (0.13.2)\n",
            "Collecting ultralytics-thop>=2.0.0 (from ultralytics)\n",
            "  Downloading ultralytics_thop-2.0.13-py3-none-any.whl.metadata (9.4 kB)\n",
            "Requirement already satisfied: contourpy>=1.0.1 in /usr/local/lib/python3.10/dist-packages (from matplotlib>=3.3.0->ultralytics) (1.3.1)\n",
            "Requirement already satisfied: cycler>=0.10 in /usr/local/lib/python3.10/dist-packages (from matplotlib>=3.3.0->ultralytics) (0.12.1)\n",
            "Requirement already satisfied: fonttools>=4.22.0 in /usr/local/lib/python3.10/dist-packages (from matplotlib>=3.3.0->ultralytics) (4.55.3)\n",
            "Requirement already satisfied: kiwisolver>=1.0.1 in /usr/local/lib/python3.10/dist-packages (from matplotlib>=3.3.0->ultralytics) (1.4.7)\n",
            "Requirement already satisfied: packaging>=20.0 in /usr/local/lib/python3.10/dist-packages (from matplotlib>=3.3.0->ultralytics) (24.2)\n",
            "Requirement already satisfied: pyparsing>=2.3.1 in /usr/local/lib/python3.10/dist-packages (from matplotlib>=3.3.0->ultralytics) (3.2.0)\n",
            "Requirement already satisfied: python-dateutil>=2.7 in /usr/local/lib/python3.10/dist-packages (from matplotlib>=3.3.0->ultralytics) (2.8.2)\n",
            "Requirement already satisfied: pytz>=2020.1 in /usr/local/lib/python3.10/dist-packages (from pandas>=1.1.4->ultralytics) (2024.2)\n",
            "Requirement already satisfied: tzdata>=2022.7 in /usr/local/lib/python3.10/dist-packages (from pandas>=1.1.4->ultralytics) (2024.2)\n",
            "Requirement already satisfied: charset-normalizer<4,>=2 in /usr/local/lib/python3.10/dist-packages (from requests>=2.23.0->ultralytics) (3.4.0)\n",
            "Requirement already satisfied: idna<4,>=2.5 in /usr/local/lib/python3.10/dist-packages (from requests>=2.23.0->ultralytics) (3.7)\n",
            "Requirement already satisfied: urllib3<3,>=1.21.1 in /usr/local/lib/python3.10/dist-packages (from requests>=2.23.0->ultralytics) (2.2.3)\n",
            "Requirement already satisfied: certifi>=2017.4.17 in /usr/local/lib/python3.10/dist-packages (from requests>=2.23.0->ultralytics) (2024.12.14)\n",
            "Requirement already satisfied: filelock in /usr/local/lib/python3.10/dist-packages (from torch>=1.8.0->ultralytics) (3.16.1)\n",
            "Requirement already satisfied: typing-extensions>=4.8.0 in /usr/local/lib/python3.10/dist-packages (from torch>=1.8.0->ultralytics) (4.12.2)\n",
            "Requirement already satisfied: networkx in /usr/local/lib/python3.10/dist-packages (from torch>=1.8.0->ultralytics) (3.4.2)\n",
            "Requirement already satisfied: jinja2 in /usr/local/lib/python3.10/dist-packages (from torch>=1.8.0->ultralytics) (3.1.4)\n",
            "Requirement already satisfied: fsspec in /usr/local/lib/python3.10/dist-packages (from torch>=1.8.0->ultralytics) (2024.10.0)\n",
            "Requirement already satisfied: sympy==1.13.1 in /usr/local/lib/python3.10/dist-packages (from torch>=1.8.0->ultralytics) (1.13.1)\n",
            "Requirement already satisfied: mpmath<1.4,>=1.1.0 in /usr/local/lib/python3.10/dist-packages (from sympy==1.13.1->torch>=1.8.0->ultralytics) (1.3.0)\n",
            "Requirement already satisfied: six>=1.5 in /usr/local/lib/python3.10/dist-packages (from python-dateutil>=2.7->matplotlib>=3.3.0->ultralytics) (1.17.0)\n",
            "Requirement already satisfied: MarkupSafe>=2.0 in /usr/local/lib/python3.10/dist-packages (from jinja2->torch>=1.8.0->ultralytics) (3.0.2)\n",
            "Downloading ultralytics-8.3.51-py3-none-any.whl (901 kB)\n",
            "\u001b[2K   \u001b[90m━━━━━━━━━━━━━━━━━━━━━━━━━━━━━━━━━━━━━━━━\u001b[0m \u001b[32m901.3/901.3 kB\u001b[0m \u001b[31m14.9 MB/s\u001b[0m eta \u001b[36m0:00:00\u001b[0m\n",
            "\u001b[?25hDownloading ultralytics_thop-2.0.13-py3-none-any.whl (26 kB)\n",
            "Installing collected packages: ultralytics-thop, ultralytics\n",
            "Successfully installed ultralytics-8.3.51 ultralytics-thop-2.0.13\n",
            "Creating new Ultralytics Settings v0.0.6 file ✅ \n",
            "View Ultralytics Settings with 'yolo settings' or at '/root/.config/Ultralytics/settings.json'\n",
            "Update Settings with 'yolo settings key=value', i.e. 'yolo settings runs_dir=path/to/dir'. For help see https://docs.ultralytics.com/quickstart/#ultralytics-settings.\n"
          ]
        }
      ]
    },
    {
      "cell_type": "code",
      "source": [
        "# Define dataset path\n",
        "dataset_path = \"/content/AOL AI/\"\n",
        "num_folds = 3  # Number of folds for cross-validation\n",
        "\n",
        "# Gather all class folders from train/\n",
        "class_folders = [os.path.join(dataset_path, \"train\", class_dir) for class_dir in os.listdir(os.path.join(dataset_path, \"train\")) if os.path.isdir(os.path.join(dataset_path, \"train\", class_dir))]\n",
        "\n",
        "# Gather all images from train/\n",
        "all_images = []\n",
        "for class_folder in class_folders:\n",
        "    class_images = glob(os.path.join(class_folder, \"*\"))  # All images in this class folder\n",
        "    all_images.extend(class_images)\n",
        "\n",
        "print(f\"Total images: {len(all_images)}\")\n",
        "print(f\"Classes: {[os.path.basename(folder) for folder in class_folders]}\")"
      ],
      "metadata": {
        "colab": {
          "base_uri": "https://localhost:8080/"
        },
        "id": "UdES5uVpQA-U",
        "outputId": "a71f0f9f-ebff-4f84-8deb-ff75b6962d65"
      },
      "execution_count": 5,
      "outputs": [
        {
          "output_type": "stream",
          "name": "stdout",
          "text": [
            "Total images: 950\n",
            "Classes: ['Ectomorph', 'Endomorph', 'Mesomorph']\n"
          ]
        }
      ]
    },
    {
      "cell_type": "code",
      "source": [
        "# Set up K-Fold Cross-Validation\n",
        "kf = KFold(n_splits=num_folds, shuffle=True, random_state=42)\n",
        "\n",
        "fold = 1\n",
        "fold_accuracies = []  # To store accuracy for each fold"
      ],
      "metadata": {
        "id": "zJvytpOwQFQe"
      },
      "execution_count": 6,
      "outputs": []
    },
    {
      "cell_type": "code",
      "source": [
        "for train_idx, val_idx in kf.split(all_images):\n",
        "    print(f\"Processing Fold {fold}...\")\n",
        "\n",
        "    # Create directories for this fold\n",
        "    fold_dir = f\"/content/AOL_AI_fold_{fold}\"\n",
        "    train_dir = os.path.join(fold_dir, \"train\")\n",
        "    val_dir = os.path.join(fold_dir, \"val\")\n",
        "    os.makedirs(train_dir, exist_ok=True)\n",
        "    os.makedirs(val_dir, exist_ok=True)\n",
        "\n",
        "    # Split data into train and validation sets\n",
        "    train_images = [all_images[i] for i in train_idx]\n",
        "    val_images = [all_images[i] for i in val_idx]\n",
        "\n",
        "    # Move train images to train/ preserving class structure\n",
        "    for img in train_images:\n",
        "        class_name = os.path.basename(os.path.dirname(img))  # Extract class name from folder structure\n",
        "        class_train_dir = os.path.join(train_dir, class_name)\n",
        "        os.makedirs(class_train_dir, exist_ok=True)\n",
        "        shutil.copy(img, class_train_dir)\n",
        "\n",
        "    # Move validation images to val/ preserving class structure\n",
        "    for img in val_images:\n",
        "        class_name = os.path.basename(os.path.dirname(img))  # Extract class name from folder structure\n",
        "        class_val_dir = os.path.join(val_dir, class_name)\n",
        "        os.makedirs(class_val_dir, exist_ok=True)\n",
        "        shutil.copy(img, class_val_dir)\n",
        "\n",
        "    # Train YOLOv8 Model\n",
        "    model = YOLO(\"yolov8n-cls.pt\")  # Classification model\n",
        "    fold_results = model.train(\n",
        "        data='/content/AOL AI/',  # Pass the YAML file path\n",
        "        epochs=100,\n",
        "        imgsz=640,\n",
        "        batch=16,\n",
        "        patience=10,  # Early stopping\n",
        "        optimizer=\"SGD\",\n",
        "        lr0=0.01,\n",
        "        weight_decay=1e-4,\n",
        "        augment=True,\n",
        "    )\n",
        "\n",
        "    # Extract accuracy for the current fold\n",
        "    accuracy = fold_results.top1  # Replace with the correct metric key\n",
        "    fold_accuracies.append(accuracy)\n",
        "\n",
        "    print(f\"Fold {fold} Accuracy: {accuracy:.2f}\")\n",
        "    fold += 1\n"
      ],
      "metadata": {
        "colab": {
          "base_uri": "https://localhost:8080/"
        },
        "collapsed": true,
        "id": "eV04znGfTJDB",
        "outputId": "3784ab60-7532-4394-d772-1eacd2de4cfe"
      },
      "execution_count": 9,
      "outputs": [
        {
          "output_type": "stream",
          "name": "stdout",
          "text": [
            "Processing Fold 1...\n",
            "Ultralytics 8.3.51 🚀 Python-3.10.12 torch-2.5.1+cu121 CUDA:0 (Tesla T4, 15102MiB)\n",
            "\u001b[34m\u001b[1mengine/trainer: \u001b[0mtask=classify, mode=train, model=yolov8n-cls.pt, data=/content/AOL AI/, epochs=100, time=None, patience=10, batch=16, imgsz=640, save=True, save_period=-1, cache=False, device=None, workers=8, project=None, name=train2, exist_ok=False, pretrained=True, optimizer=SGD, verbose=True, seed=0, deterministic=True, single_cls=False, rect=False, cos_lr=False, close_mosaic=10, resume=False, amp=True, fraction=1.0, profile=False, freeze=None, multi_scale=False, overlap_mask=True, mask_ratio=4, dropout=0.0, val=True, split=val, save_json=False, save_hybrid=False, conf=None, iou=0.7, max_det=300, half=False, dnn=False, plots=True, source=None, vid_stride=1, stream_buffer=False, visualize=False, augment=True, agnostic_nms=False, classes=None, retina_masks=False, embed=None, show=False, save_frames=False, save_txt=False, save_conf=False, save_crop=False, show_labels=True, show_conf=True, show_boxes=True, line_width=None, format=torchscript, keras=False, optimize=False, int8=False, dynamic=False, simplify=True, opset=None, workspace=None, nms=False, lr0=0.01, lrf=0.01, momentum=0.937, weight_decay=0.0001, warmup_epochs=3.0, warmup_momentum=0.8, warmup_bias_lr=0.1, box=7.5, cls=0.5, dfl=1.5, pose=12.0, kobj=1.0, nbs=64, hsv_h=0.015, hsv_s=0.7, hsv_v=0.4, degrees=0.0, translate=0.1, scale=0.5, shear=0.0, perspective=0.0, flipud=0.0, fliplr=0.5, bgr=0.0, mosaic=1.0, mixup=0.0, copy_paste=0.0, copy_paste_mode=flip, auto_augment=randaugment, erasing=0.4, crop_fraction=1.0, cfg=None, tracker=botsort.yaml, save_dir=runs/classify/train2\n",
            "\u001b[34m\u001b[1mtrain:\u001b[0m /content/AOL AI/train... found 950 images in 3 classes ✅ \n",
            "\u001b[34m\u001b[1mval:\u001b[0m /content/AOL AI/val... found 31 images in 3 classes ✅ \n",
            "\u001b[34m\u001b[1mtest:\u001b[0m /content/AOL AI/test... found 244 images in 3 classes ✅ \n",
            "Overriding model.yaml nc=1000 with nc=3\n",
            "\n",
            "                   from  n    params  module                                       arguments                     \n",
            "  0                  -1  1       464  ultralytics.nn.modules.conv.Conv             [3, 16, 3, 2]                 \n",
            "  1                  -1  1      4672  ultralytics.nn.modules.conv.Conv             [16, 32, 3, 2]                \n",
            "  2                  -1  1      7360  ultralytics.nn.modules.block.C2f             [32, 32, 1, True]             \n",
            "  3                  -1  1     18560  ultralytics.nn.modules.conv.Conv             [32, 64, 3, 2]                \n",
            "  4                  -1  2     49664  ultralytics.nn.modules.block.C2f             [64, 64, 2, True]             \n",
            "  5                  -1  1     73984  ultralytics.nn.modules.conv.Conv             [64, 128, 3, 2]               \n",
            "  6                  -1  2    197632  ultralytics.nn.modules.block.C2f             [128, 128, 2, True]           \n",
            "  7                  -1  1    295424  ultralytics.nn.modules.conv.Conv             [128, 256, 3, 2]              \n",
            "  8                  -1  1    460288  ultralytics.nn.modules.block.C2f             [256, 256, 1, True]           \n",
            "  9                  -1  1    334083  ultralytics.nn.modules.head.Classify         [256, 3]                      \n",
            "YOLOv8n-cls summary: 99 layers, 1,442,131 parameters, 1,442,131 gradients, 3.4 GFLOPs\n",
            "Transferred 156/158 items from pretrained weights\n",
            "\u001b[34m\u001b[1mTensorBoard: \u001b[0mStart with 'tensorboard --logdir runs/classify/train2', view at http://localhost:6006/\n",
            "\u001b[34m\u001b[1mAMP: \u001b[0mrunning Automatic Mixed Precision (AMP) checks...\n",
            "\u001b[34m\u001b[1mAMP: \u001b[0mchecks passed ✅\n"
          ]
        },
        {
          "output_type": "stream",
          "name": "stderr",
          "text": [
            "\u001b[34m\u001b[1mtrain: \u001b[0mScanning /content/AOL AI/train... 950 images, 0 corrupt: 100%|██████████| 950/950 [00:00<?, ?it/s]\n",
            "\u001b[34m\u001b[1mval: \u001b[0mScanning /content/AOL AI/val... 31 images, 0 corrupt: 100%|██████████| 31/31 [00:00<?, ?it/s]\n"
          ]
        },
        {
          "output_type": "stream",
          "name": "stdout",
          "text": [
            "\u001b[34m\u001b[1moptimizer:\u001b[0m SGD(lr=0.01, momentum=0.937) with parameter groups 26 weight(decay=0.0), 27 weight(decay=0.0001), 27 bias(decay=0.0)\n",
            "\u001b[34m\u001b[1mTensorBoard: \u001b[0mmodel graph visualization added ✅\n",
            "Image sizes 640 train, 640 val\n",
            "Using 2 dataloader workers\n",
            "Logging results to \u001b[1mruns/classify/train2\u001b[0m\n",
            "Starting training for 100 epochs...\n",
            "\n",
            "      Epoch    GPU_mem       loss  Instances       Size\n"
          ]
        },
        {
          "output_type": "stream",
          "name": "stderr",
          "text": [
            "      1/100      1.65G      1.066          6        640: 100%|██████████| 60/60 [00:36<00:00,  1.64it/s]\n",
            "               classes   top1_acc   top5_acc: 100%|██████████| 1/1 [00:00<00:00, 15.18it/s]"
          ]
        },
        {
          "output_type": "stream",
          "name": "stdout",
          "text": [
            "                   all      0.387          1\n"
          ]
        },
        {
          "output_type": "stream",
          "name": "stderr",
          "text": [
            "\n"
          ]
        },
        {
          "output_type": "stream",
          "name": "stdout",
          "text": [
            "\n",
            "      Epoch    GPU_mem       loss  Instances       Size\n"
          ]
        },
        {
          "output_type": "stream",
          "name": "stderr",
          "text": [
            "      2/100      1.62G     0.9065          6        640: 100%|██████████| 60/60 [00:39<00:00,  1.52it/s]\n",
            "               classes   top1_acc   top5_acc: 100%|██████████| 1/1 [00:00<00:00, 16.73it/s]"
          ]
        },
        {
          "output_type": "stream",
          "name": "stdout",
          "text": [
            "                   all      0.323          1\n"
          ]
        },
        {
          "output_type": "stream",
          "name": "stderr",
          "text": [
            "\n"
          ]
        },
        {
          "output_type": "stream",
          "name": "stdout",
          "text": [
            "\n",
            "      Epoch    GPU_mem       loss  Instances       Size\n"
          ]
        },
        {
          "output_type": "stream",
          "name": "stderr",
          "text": [
            "      3/100      1.54G     0.7909          6        640: 100%|██████████| 60/60 [00:36<00:00,  1.63it/s]\n",
            "               classes   top1_acc   top5_acc: 100%|██████████| 1/1 [00:00<00:00, 14.75it/s]"
          ]
        },
        {
          "output_type": "stream",
          "name": "stdout",
          "text": [
            "                   all      0.419          1\n"
          ]
        },
        {
          "output_type": "stream",
          "name": "stderr",
          "text": [
            "\n"
          ]
        },
        {
          "output_type": "stream",
          "name": "stdout",
          "text": [
            "\n",
            "      Epoch    GPU_mem       loss  Instances       Size\n"
          ]
        },
        {
          "output_type": "stream",
          "name": "stderr",
          "text": [
            "      4/100      1.55G     0.5641          6        640: 100%|██████████| 60/60 [00:34<00:00,  1.73it/s]\n",
            "               classes   top1_acc   top5_acc: 100%|██████████| 1/1 [00:00<00:00, 13.98it/s]"
          ]
        },
        {
          "output_type": "stream",
          "name": "stdout",
          "text": [
            "                   all      0.613          1\n"
          ]
        },
        {
          "output_type": "stream",
          "name": "stderr",
          "text": [
            "\n"
          ]
        },
        {
          "output_type": "stream",
          "name": "stdout",
          "text": [
            "\n",
            "      Epoch    GPU_mem       loss  Instances       Size\n"
          ]
        },
        {
          "output_type": "stream",
          "name": "stderr",
          "text": [
            "      5/100      1.55G     0.5367          6        640: 100%|██████████| 60/60 [00:32<00:00,  1.86it/s]\n",
            "               classes   top1_acc   top5_acc: 100%|██████████| 1/1 [00:00<00:00, 15.88it/s]"
          ]
        },
        {
          "output_type": "stream",
          "name": "stdout",
          "text": [
            "                   all      0.742          1\n"
          ]
        },
        {
          "output_type": "stream",
          "name": "stderr",
          "text": [
            "\n"
          ]
        },
        {
          "output_type": "stream",
          "name": "stdout",
          "text": [
            "\n",
            "      Epoch    GPU_mem       loss  Instances       Size\n"
          ]
        },
        {
          "output_type": "stream",
          "name": "stderr",
          "text": [
            "      6/100      1.55G     0.3998          6        640: 100%|██████████| 60/60 [00:35<00:00,  1.71it/s]\n",
            "               classes   top1_acc   top5_acc: 100%|██████████| 1/1 [00:00<00:00, 10.04it/s]"
          ]
        },
        {
          "output_type": "stream",
          "name": "stdout",
          "text": [
            "                   all      0.839          1\n"
          ]
        },
        {
          "output_type": "stream",
          "name": "stderr",
          "text": [
            "\n"
          ]
        },
        {
          "output_type": "stream",
          "name": "stdout",
          "text": [
            "\n",
            "      Epoch    GPU_mem       loss  Instances       Size\n"
          ]
        },
        {
          "output_type": "stream",
          "name": "stderr",
          "text": [
            "      7/100      1.55G     0.3658          6        640: 100%|██████████| 60/60 [00:34<00:00,  1.73it/s]\n",
            "               classes   top1_acc   top5_acc: 100%|██████████| 1/1 [00:00<00:00, 12.72it/s]"
          ]
        },
        {
          "output_type": "stream",
          "name": "stdout",
          "text": [
            "                   all       0.71          1\n"
          ]
        },
        {
          "output_type": "stream",
          "name": "stderr",
          "text": [
            "\n"
          ]
        },
        {
          "output_type": "stream",
          "name": "stdout",
          "text": [
            "\n",
            "      Epoch    GPU_mem       loss  Instances       Size\n"
          ]
        },
        {
          "output_type": "stream",
          "name": "stderr",
          "text": [
            "      8/100      1.63G     0.2383          6        640: 100%|██████████| 60/60 [00:34<00:00,  1.72it/s]\n",
            "               classes   top1_acc   top5_acc: 100%|██████████| 1/1 [00:00<00:00, 17.58it/s]"
          ]
        },
        {
          "output_type": "stream",
          "name": "stdout",
          "text": [
            "                   all      0.871          1\n"
          ]
        },
        {
          "output_type": "stream",
          "name": "stderr",
          "text": [
            "\n"
          ]
        },
        {
          "output_type": "stream",
          "name": "stdout",
          "text": [
            "\n",
            "      Epoch    GPU_mem       loss  Instances       Size\n"
          ]
        },
        {
          "output_type": "stream",
          "name": "stderr",
          "text": [
            "      9/100      1.55G     0.2317          6        640: 100%|██████████| 60/60 [00:41<00:00,  1.46it/s]\n",
            "               classes   top1_acc   top5_acc: 100%|██████████| 1/1 [00:00<00:00, 15.89it/s]"
          ]
        },
        {
          "output_type": "stream",
          "name": "stdout",
          "text": [
            "                   all      0.774          1\n"
          ]
        },
        {
          "output_type": "stream",
          "name": "stderr",
          "text": [
            "\n"
          ]
        },
        {
          "output_type": "stream",
          "name": "stdout",
          "text": [
            "\n",
            "      Epoch    GPU_mem       loss  Instances       Size\n"
          ]
        },
        {
          "output_type": "stream",
          "name": "stderr",
          "text": [
            "     10/100      1.55G     0.1635          6        640: 100%|██████████| 60/60 [00:35<00:00,  1.68it/s]\n",
            "               classes   top1_acc   top5_acc: 100%|██████████| 1/1 [00:00<00:00, 19.67it/s]"
          ]
        },
        {
          "output_type": "stream",
          "name": "stdout",
          "text": [
            "                   all      0.839          1\n"
          ]
        },
        {
          "output_type": "stream",
          "name": "stderr",
          "text": [
            "\n"
          ]
        },
        {
          "output_type": "stream",
          "name": "stdout",
          "text": [
            "\n",
            "      Epoch    GPU_mem       loss  Instances       Size\n"
          ]
        },
        {
          "output_type": "stream",
          "name": "stderr",
          "text": [
            "     11/100      1.55G     0.1766          6        640: 100%|██████████| 60/60 [00:37<00:00,  1.61it/s]\n",
            "               classes   top1_acc   top5_acc: 100%|██████████| 1/1 [00:00<00:00, 16.77it/s]"
          ]
        },
        {
          "output_type": "stream",
          "name": "stdout",
          "text": [
            "                   all      0.839          1\n"
          ]
        },
        {
          "output_type": "stream",
          "name": "stderr",
          "text": [
            "\n"
          ]
        },
        {
          "output_type": "stream",
          "name": "stdout",
          "text": [
            "\n",
            "      Epoch    GPU_mem       loss  Instances       Size\n"
          ]
        },
        {
          "output_type": "stream",
          "name": "stderr",
          "text": [
            "     12/100      1.55G      0.185          6        640: 100%|██████████| 60/60 [00:37<00:00,  1.60it/s]\n",
            "               classes   top1_acc   top5_acc: 100%|██████████| 1/1 [00:00<00:00, 18.94it/s]"
          ]
        },
        {
          "output_type": "stream",
          "name": "stdout",
          "text": [
            "                   all      0.903          1\n"
          ]
        },
        {
          "output_type": "stream",
          "name": "stderr",
          "text": [
            "\n"
          ]
        },
        {
          "output_type": "stream",
          "name": "stdout",
          "text": [
            "\n",
            "      Epoch    GPU_mem       loss  Instances       Size\n"
          ]
        },
        {
          "output_type": "stream",
          "name": "stderr",
          "text": [
            "     13/100      1.55G     0.1169          6        640: 100%|██████████| 60/60 [00:36<00:00,  1.63it/s]\n",
            "               classes   top1_acc   top5_acc: 100%|██████████| 1/1 [00:00<00:00, 13.58it/s]"
          ]
        },
        {
          "output_type": "stream",
          "name": "stdout",
          "text": [
            "                   all      0.774          1\n"
          ]
        },
        {
          "output_type": "stream",
          "name": "stderr",
          "text": [
            "\n"
          ]
        },
        {
          "output_type": "stream",
          "name": "stdout",
          "text": [
            "\n",
            "      Epoch    GPU_mem       loss  Instances       Size\n"
          ]
        },
        {
          "output_type": "stream",
          "name": "stderr",
          "text": [
            "     14/100      1.63G     0.1207          6        640: 100%|██████████| 60/60 [00:37<00:00,  1.61it/s]\n",
            "               classes   top1_acc   top5_acc: 100%|██████████| 1/1 [00:00<00:00, 16.71it/s]"
          ]
        },
        {
          "output_type": "stream",
          "name": "stdout",
          "text": [
            "                   all      0.871          1\n"
          ]
        },
        {
          "output_type": "stream",
          "name": "stderr",
          "text": [
            "\n"
          ]
        },
        {
          "output_type": "stream",
          "name": "stdout",
          "text": [
            "\n",
            "      Epoch    GPU_mem       loss  Instances       Size\n"
          ]
        },
        {
          "output_type": "stream",
          "name": "stderr",
          "text": [
            "     15/100      1.55G    0.09995          6        640: 100%|██████████| 60/60 [00:36<00:00,  1.64it/s]\n",
            "               classes   top1_acc   top5_acc: 100%|██████████| 1/1 [00:00<00:00, 16.78it/s]"
          ]
        },
        {
          "output_type": "stream",
          "name": "stdout",
          "text": [
            "                   all      0.871          1\n"
          ]
        },
        {
          "output_type": "stream",
          "name": "stderr",
          "text": [
            "\n"
          ]
        },
        {
          "output_type": "stream",
          "name": "stdout",
          "text": [
            "\n",
            "      Epoch    GPU_mem       loss  Instances       Size\n"
          ]
        },
        {
          "output_type": "stream",
          "name": "stderr",
          "text": [
            "     16/100      1.55G     0.1058          6        640: 100%|██████████| 60/60 [00:39<00:00,  1.50it/s]\n",
            "               classes   top1_acc   top5_acc: 100%|██████████| 1/1 [00:00<00:00, 16.74it/s]"
          ]
        },
        {
          "output_type": "stream",
          "name": "stdout",
          "text": [
            "                   all      0.839          1\n"
          ]
        },
        {
          "output_type": "stream",
          "name": "stderr",
          "text": [
            "\n"
          ]
        },
        {
          "output_type": "stream",
          "name": "stdout",
          "text": [
            "\n",
            "      Epoch    GPU_mem       loss  Instances       Size\n"
          ]
        },
        {
          "output_type": "stream",
          "name": "stderr",
          "text": [
            "     17/100      1.55G    0.09988          6        640: 100%|██████████| 60/60 [00:37<00:00,  1.60it/s]\n",
            "               classes   top1_acc   top5_acc: 100%|██████████| 1/1 [00:00<00:00, 18.11it/s]"
          ]
        },
        {
          "output_type": "stream",
          "name": "stdout",
          "text": [
            "                   all      0.839          1\n"
          ]
        },
        {
          "output_type": "stream",
          "name": "stderr",
          "text": [
            "\n"
          ]
        },
        {
          "output_type": "stream",
          "name": "stdout",
          "text": [
            "\n",
            "      Epoch    GPU_mem       loss  Instances       Size\n"
          ]
        },
        {
          "output_type": "stream",
          "name": "stderr",
          "text": [
            "     18/100      1.55G    0.09791          6        640: 100%|██████████| 60/60 [00:36<00:00,  1.64it/s]\n",
            "               classes   top1_acc   top5_acc: 100%|██████████| 1/1 [00:00<00:00, 18.18it/s]"
          ]
        },
        {
          "output_type": "stream",
          "name": "stdout",
          "text": [
            "                   all      0.839          1\n"
          ]
        },
        {
          "output_type": "stream",
          "name": "stderr",
          "text": [
            "\n"
          ]
        },
        {
          "output_type": "stream",
          "name": "stdout",
          "text": [
            "\n",
            "      Epoch    GPU_mem       loss  Instances       Size\n"
          ]
        },
        {
          "output_type": "stream",
          "name": "stderr",
          "text": [
            "     19/100      1.63G    0.08836          6        640: 100%|██████████| 60/60 [00:35<00:00,  1.68it/s]\n",
            "               classes   top1_acc   top5_acc: 100%|██████████| 1/1 [00:00<00:00, 14.60it/s]"
          ]
        },
        {
          "output_type": "stream",
          "name": "stdout",
          "text": [
            "                   all      0.774          1\n"
          ]
        },
        {
          "output_type": "stream",
          "name": "stderr",
          "text": [
            "\n"
          ]
        },
        {
          "output_type": "stream",
          "name": "stdout",
          "text": [
            "\n",
            "      Epoch    GPU_mem       loss  Instances       Size\n"
          ]
        },
        {
          "output_type": "stream",
          "name": "stderr",
          "text": [
            "     20/100      1.55G    0.09852          6        640: 100%|██████████| 60/60 [00:37<00:00,  1.61it/s]\n",
            "               classes   top1_acc   top5_acc: 100%|██████████| 1/1 [00:00<00:00, 12.04it/s]"
          ]
        },
        {
          "output_type": "stream",
          "name": "stdout",
          "text": [
            "                   all      0.871          1\n"
          ]
        },
        {
          "output_type": "stream",
          "name": "stderr",
          "text": [
            "\n"
          ]
        },
        {
          "output_type": "stream",
          "name": "stdout",
          "text": [
            "\n",
            "      Epoch    GPU_mem       loss  Instances       Size\n"
          ]
        },
        {
          "output_type": "stream",
          "name": "stderr",
          "text": [
            "     21/100      1.55G    0.08744          6        640: 100%|██████████| 60/60 [00:35<00:00,  1.70it/s]\n",
            "               classes   top1_acc   top5_acc: 100%|██████████| 1/1 [00:00<00:00, 10.86it/s]"
          ]
        },
        {
          "output_type": "stream",
          "name": "stdout",
          "text": [
            "                   all      0.806          1\n"
          ]
        },
        {
          "output_type": "stream",
          "name": "stderr",
          "text": [
            "\n"
          ]
        },
        {
          "output_type": "stream",
          "name": "stdout",
          "text": [
            "\n",
            "      Epoch    GPU_mem       loss  Instances       Size\n"
          ]
        },
        {
          "output_type": "stream",
          "name": "stderr",
          "text": [
            "     22/100      1.55G    0.05287          6        640: 100%|██████████| 60/60 [00:36<00:00,  1.66it/s]\n",
            "               classes   top1_acc   top5_acc: 100%|██████████| 1/1 [00:00<00:00, 13.21it/s]"
          ]
        },
        {
          "output_type": "stream",
          "name": "stdout",
          "text": [
            "                   all      0.839          1\n",
            "\u001b[34m\u001b[1mEarlyStopping: \u001b[0mTraining stopped early as no improvement observed in last 10 epochs. Best results observed at epoch 12, best model saved as best.pt.\n",
            "To update EarlyStopping(patience=10) pass a new patience value, i.e. `patience=300` or use `patience=0` to disable EarlyStopping.\n"
          ]
        },
        {
          "output_type": "stream",
          "name": "stderr",
          "text": [
            "\n"
          ]
        },
        {
          "output_type": "stream",
          "name": "stdout",
          "text": [
            "\n",
            "22 epochs completed in 0.241 hours.\n",
            "Optimizer stripped from runs/classify/train2/weights/last.pt, 3.0MB\n",
            "Optimizer stripped from runs/classify/train2/weights/best.pt, 3.0MB\n",
            "\n",
            "Validating runs/classify/train2/weights/best.pt...\n",
            "Ultralytics 8.3.51 🚀 Python-3.10.12 torch-2.5.1+cu121 CUDA:0 (Tesla T4, 15102MiB)\n",
            "YOLOv8n-cls summary (fused): 73 layers, 1,438,723 parameters, 0 gradients, 3.3 GFLOPs\n",
            "\u001b[34m\u001b[1mtrain:\u001b[0m /content/AOL AI/train... found 950 images in 3 classes ✅ \n",
            "\u001b[34m\u001b[1mval:\u001b[0m /content/AOL AI/val... found 31 images in 3 classes ✅ \n",
            "\u001b[34m\u001b[1mtest:\u001b[0m /content/AOL AI/test... found 244 images in 3 classes ✅ \n"
          ]
        },
        {
          "output_type": "stream",
          "name": "stderr",
          "text": [
            "\r               classes   top1_acc   top5_acc:   0%|          | 0/1 [00:00<?, ?it/s]"
          ]
        },
        {
          "output_type": "stream",
          "name": "stdout",
          "text": [
            "WARNING ⚠️ ClassificationModel does not support 'augment=True' prediction. Reverting to single-scale prediction.\n"
          ]
        },
        {
          "output_type": "stream",
          "name": "stderr",
          "text": [
            "\r               classes   top1_acc   top5_acc: 100%|██████████| 1/1 [00:00<00:00, 10.61it/s]\n"
          ]
        },
        {
          "output_type": "stream",
          "name": "stdout",
          "text": [
            "                   all      0.903          1\n",
            "Speed: 0.6ms preprocess, 1.7ms inference, 0.0ms loss, 0.0ms postprocess per image\n",
            "Results saved to \u001b[1mruns/classify/train2\u001b[0m\n",
            "Fold 1 Accuracy: 0.90\n",
            "Processing Fold 2...\n",
            "Ultralytics 8.3.51 🚀 Python-3.10.12 torch-2.5.1+cu121 CUDA:0 (Tesla T4, 15102MiB)\n",
            "\u001b[34m\u001b[1mengine/trainer: \u001b[0mtask=classify, mode=train, model=yolov8n-cls.pt, data=/content/AOL AI/, epochs=100, time=None, patience=10, batch=16, imgsz=640, save=True, save_period=-1, cache=False, device=None, workers=8, project=None, name=train3, exist_ok=False, pretrained=True, optimizer=SGD, verbose=True, seed=0, deterministic=True, single_cls=False, rect=False, cos_lr=False, close_mosaic=10, resume=False, amp=True, fraction=1.0, profile=False, freeze=None, multi_scale=False, overlap_mask=True, mask_ratio=4, dropout=0.0, val=True, split=val, save_json=False, save_hybrid=False, conf=None, iou=0.7, max_det=300, half=False, dnn=False, plots=True, source=None, vid_stride=1, stream_buffer=False, visualize=False, augment=True, agnostic_nms=False, classes=None, retina_masks=False, embed=None, show=False, save_frames=False, save_txt=False, save_conf=False, save_crop=False, show_labels=True, show_conf=True, show_boxes=True, line_width=None, format=torchscript, keras=False, optimize=False, int8=False, dynamic=False, simplify=True, opset=None, workspace=None, nms=False, lr0=0.01, lrf=0.01, momentum=0.937, weight_decay=0.0001, warmup_epochs=3.0, warmup_momentum=0.8, warmup_bias_lr=0.1, box=7.5, cls=0.5, dfl=1.5, pose=12.0, kobj=1.0, nbs=64, hsv_h=0.015, hsv_s=0.7, hsv_v=0.4, degrees=0.0, translate=0.1, scale=0.5, shear=0.0, perspective=0.0, flipud=0.0, fliplr=0.5, bgr=0.0, mosaic=1.0, mixup=0.0, copy_paste=0.0, copy_paste_mode=flip, auto_augment=randaugment, erasing=0.4, crop_fraction=1.0, cfg=None, tracker=botsort.yaml, save_dir=runs/classify/train3\n",
            "\u001b[34m\u001b[1mtrain:\u001b[0m /content/AOL AI/train... found 950 images in 3 classes ✅ \n",
            "\u001b[34m\u001b[1mval:\u001b[0m /content/AOL AI/val... found 31 images in 3 classes ✅ \n",
            "\u001b[34m\u001b[1mtest:\u001b[0m /content/AOL AI/test... found 244 images in 3 classes ✅ \n",
            "Overriding model.yaml nc=1000 with nc=3\n",
            "\n",
            "                   from  n    params  module                                       arguments                     \n",
            "  0                  -1  1       464  ultralytics.nn.modules.conv.Conv             [3, 16, 3, 2]                 \n",
            "  1                  -1  1      4672  ultralytics.nn.modules.conv.Conv             [16, 32, 3, 2]                \n",
            "  2                  -1  1      7360  ultralytics.nn.modules.block.C2f             [32, 32, 1, True]             \n",
            "  3                  -1  1     18560  ultralytics.nn.modules.conv.Conv             [32, 64, 3, 2]                \n",
            "  4                  -1  2     49664  ultralytics.nn.modules.block.C2f             [64, 64, 2, True]             \n",
            "  5                  -1  1     73984  ultralytics.nn.modules.conv.Conv             [64, 128, 3, 2]               \n",
            "  6                  -1  2    197632  ultralytics.nn.modules.block.C2f             [128, 128, 2, True]           \n",
            "  7                  -1  1    295424  ultralytics.nn.modules.conv.Conv             [128, 256, 3, 2]              \n",
            "  8                  -1  1    460288  ultralytics.nn.modules.block.C2f             [256, 256, 1, True]           \n",
            "  9                  -1  1    334083  ultralytics.nn.modules.head.Classify         [256, 3]                      \n",
            "YOLOv8n-cls summary: 99 layers, 1,442,131 parameters, 1,442,131 gradients, 3.4 GFLOPs\n",
            "Transferred 156/158 items from pretrained weights\n",
            "\u001b[34m\u001b[1mTensorBoard: \u001b[0mStart with 'tensorboard --logdir runs/classify/train3', view at http://localhost:6006/\n",
            "\u001b[34m\u001b[1mAMP: \u001b[0mrunning Automatic Mixed Precision (AMP) checks...\n",
            "\u001b[34m\u001b[1mAMP: \u001b[0mchecks passed ✅\n"
          ]
        },
        {
          "output_type": "stream",
          "name": "stderr",
          "text": [
            "\u001b[34m\u001b[1mtrain: \u001b[0mScanning /content/AOL AI/train... 950 images, 0 corrupt: 100%|██████████| 950/950 [00:00<?, ?it/s]\n",
            "\u001b[34m\u001b[1mval: \u001b[0mScanning /content/AOL AI/val... 31 images, 0 corrupt: 100%|██████████| 31/31 [00:00<?, ?it/s]\n"
          ]
        },
        {
          "output_type": "stream",
          "name": "stdout",
          "text": [
            "\u001b[34m\u001b[1moptimizer:\u001b[0m SGD(lr=0.01, momentum=0.937) with parameter groups 26 weight(decay=0.0), 27 weight(decay=0.0001), 27 bias(decay=0.0)\n",
            "\u001b[34m\u001b[1mTensorBoard: \u001b[0mmodel graph visualization added ✅\n",
            "Image sizes 640 train, 640 val\n",
            "Using 2 dataloader workers\n",
            "Logging results to \u001b[1mruns/classify/train3\u001b[0m\n",
            "Starting training for 100 epochs...\n",
            "\n",
            "      Epoch    GPU_mem       loss  Instances       Size\n"
          ]
        },
        {
          "output_type": "stream",
          "name": "stderr",
          "text": [
            "      1/100      1.66G      1.066          6        640: 100%|██████████| 60/60 [00:45<00:00,  1.32it/s]\n",
            "               classes   top1_acc   top5_acc: 100%|██████████| 1/1 [00:00<00:00, 14.10it/s]"
          ]
        },
        {
          "output_type": "stream",
          "name": "stdout",
          "text": [
            "                   all      0.387          1\n"
          ]
        },
        {
          "output_type": "stream",
          "name": "stderr",
          "text": [
            "\n"
          ]
        },
        {
          "output_type": "stream",
          "name": "stdout",
          "text": [
            "\n",
            "      Epoch    GPU_mem       loss  Instances       Size\n"
          ]
        },
        {
          "output_type": "stream",
          "name": "stderr",
          "text": [
            "      2/100      1.64G     0.9065          6        640: 100%|██████████| 60/60 [00:35<00:00,  1.68it/s]\n",
            "               classes   top1_acc   top5_acc: 100%|██████████| 1/1 [00:00<00:00, 16.81it/s]"
          ]
        },
        {
          "output_type": "stream",
          "name": "stdout",
          "text": [
            "                   all      0.323          1\n"
          ]
        },
        {
          "output_type": "stream",
          "name": "stderr",
          "text": [
            "\n"
          ]
        },
        {
          "output_type": "stream",
          "name": "stdout",
          "text": [
            "\n",
            "      Epoch    GPU_mem       loss  Instances       Size\n"
          ]
        },
        {
          "output_type": "stream",
          "name": "stderr",
          "text": [
            "      3/100      1.63G     0.7909          6        640: 100%|██████████| 60/60 [00:37<00:00,  1.58it/s]\n",
            "               classes   top1_acc   top5_acc: 100%|██████████| 1/1 [00:00<00:00, 15.60it/s]"
          ]
        },
        {
          "output_type": "stream",
          "name": "stdout",
          "text": [
            "                   all      0.419          1\n"
          ]
        },
        {
          "output_type": "stream",
          "name": "stderr",
          "text": [
            "\n"
          ]
        },
        {
          "output_type": "stream",
          "name": "stdout",
          "text": [
            "\n",
            "      Epoch    GPU_mem       loss  Instances       Size\n"
          ]
        },
        {
          "output_type": "stream",
          "name": "stderr",
          "text": [
            "      4/100      1.55G     0.5641          6        640: 100%|██████████| 60/60 [00:37<00:00,  1.61it/s]\n",
            "               classes   top1_acc   top5_acc: 100%|██████████| 1/1 [00:00<00:00, 17.99it/s]"
          ]
        },
        {
          "output_type": "stream",
          "name": "stdout",
          "text": [
            "                   all      0.613          1\n"
          ]
        },
        {
          "output_type": "stream",
          "name": "stderr",
          "text": [
            "\n"
          ]
        },
        {
          "output_type": "stream",
          "name": "stdout",
          "text": [
            "\n",
            "      Epoch    GPU_mem       loss  Instances       Size\n"
          ]
        },
        {
          "output_type": "stream",
          "name": "stderr",
          "text": [
            "      5/100      1.63G     0.5367          6        640: 100%|██████████| 60/60 [00:36<00:00,  1.64it/s]\n",
            "               classes   top1_acc   top5_acc: 100%|██████████| 1/1 [00:00<00:00, 15.68it/s]"
          ]
        },
        {
          "output_type": "stream",
          "name": "stdout",
          "text": [
            "                   all      0.742          1\n"
          ]
        },
        {
          "output_type": "stream",
          "name": "stderr",
          "text": [
            "\n"
          ]
        },
        {
          "output_type": "stream",
          "name": "stdout",
          "text": [
            "\n",
            "      Epoch    GPU_mem       loss  Instances       Size\n"
          ]
        },
        {
          "output_type": "stream",
          "name": "stderr",
          "text": [
            "      6/100      1.55G     0.3998          6        640: 100%|██████████| 60/60 [00:37<00:00,  1.62it/s]\n",
            "               classes   top1_acc   top5_acc: 100%|██████████| 1/1 [00:00<00:00, 16.20it/s]"
          ]
        },
        {
          "output_type": "stream",
          "name": "stdout",
          "text": [
            "                   all      0.839          1\n"
          ]
        },
        {
          "output_type": "stream",
          "name": "stderr",
          "text": [
            "\n"
          ]
        },
        {
          "output_type": "stream",
          "name": "stdout",
          "text": [
            "\n",
            "      Epoch    GPU_mem       loss  Instances       Size\n"
          ]
        },
        {
          "output_type": "stream",
          "name": "stderr",
          "text": [
            "      7/100      1.55G     0.3658          6        640: 100%|██████████| 60/60 [00:39<00:00,  1.51it/s]\n",
            "               classes   top1_acc   top5_acc: 100%|██████████| 1/1 [00:00<00:00, 12.17it/s]"
          ]
        },
        {
          "output_type": "stream",
          "name": "stdout",
          "text": [
            "                   all       0.71          1\n"
          ]
        },
        {
          "output_type": "stream",
          "name": "stderr",
          "text": [
            "\n"
          ]
        },
        {
          "output_type": "stream",
          "name": "stdout",
          "text": [
            "\n",
            "      Epoch    GPU_mem       loss  Instances       Size\n"
          ]
        },
        {
          "output_type": "stream",
          "name": "stderr",
          "text": [
            "      8/100      1.55G     0.2383          6        640: 100%|██████████| 60/60 [00:34<00:00,  1.74it/s]\n",
            "               classes   top1_acc   top5_acc: 100%|██████████| 1/1 [00:00<00:00, 16.56it/s]"
          ]
        },
        {
          "output_type": "stream",
          "name": "stdout",
          "text": [
            "                   all      0.871          1\n"
          ]
        },
        {
          "output_type": "stream",
          "name": "stderr",
          "text": [
            "\n"
          ]
        },
        {
          "output_type": "stream",
          "name": "stdout",
          "text": [
            "\n",
            "      Epoch    GPU_mem       loss  Instances       Size\n"
          ]
        },
        {
          "output_type": "stream",
          "name": "stderr",
          "text": [
            "      9/100      1.55G     0.2317          6        640: 100%|██████████| 60/60 [00:35<00:00,  1.67it/s]\n",
            "               classes   top1_acc   top5_acc: 100%|██████████| 1/1 [00:00<00:00, 13.57it/s]\n"
          ]
        },
        {
          "output_type": "stream",
          "name": "stdout",
          "text": [
            "                   all      0.774          1\n",
            "\n",
            "      Epoch    GPU_mem       loss  Instances       Size\n"
          ]
        },
        {
          "output_type": "stream",
          "name": "stderr",
          "text": [
            "     10/100      1.55G     0.1635          6        640: 100%|██████████| 60/60 [00:34<00:00,  1.72it/s]\n",
            "               classes   top1_acc   top5_acc: 100%|██████████| 1/1 [00:00<00:00, 14.48it/s]"
          ]
        },
        {
          "output_type": "stream",
          "name": "stdout",
          "text": [
            "                   all      0.839          1\n"
          ]
        },
        {
          "output_type": "stream",
          "name": "stderr",
          "text": [
            "\n"
          ]
        },
        {
          "output_type": "stream",
          "name": "stdout",
          "text": [
            "\n",
            "      Epoch    GPU_mem       loss  Instances       Size\n"
          ]
        },
        {
          "output_type": "stream",
          "name": "stderr",
          "text": [
            "     11/100      1.55G     0.1766          6        640: 100%|██████████| 60/60 [00:37<00:00,  1.62it/s]\n",
            "               classes   top1_acc   top5_acc: 100%|██████████| 1/1 [00:00<00:00, 14.27it/s]"
          ]
        },
        {
          "output_type": "stream",
          "name": "stdout",
          "text": [
            "                   all      0.839          1\n"
          ]
        },
        {
          "output_type": "stream",
          "name": "stderr",
          "text": [
            "\n"
          ]
        },
        {
          "output_type": "stream",
          "name": "stdout",
          "text": [
            "\n",
            "      Epoch    GPU_mem       loss  Instances       Size\n"
          ]
        },
        {
          "output_type": "stream",
          "name": "stderr",
          "text": [
            "     12/100      1.55G      0.185          6        640: 100%|██████████| 60/60 [00:37<00:00,  1.61it/s]\n",
            "               classes   top1_acc   top5_acc: 100%|██████████| 1/1 [00:00<00:00, 16.42it/s]"
          ]
        },
        {
          "output_type": "stream",
          "name": "stdout",
          "text": [
            "                   all      0.903          1\n"
          ]
        },
        {
          "output_type": "stream",
          "name": "stderr",
          "text": [
            "\n"
          ]
        },
        {
          "output_type": "stream",
          "name": "stdout",
          "text": [
            "\n",
            "      Epoch    GPU_mem       loss  Instances       Size\n"
          ]
        },
        {
          "output_type": "stream",
          "name": "stderr",
          "text": [
            "     13/100      1.55G     0.1169          6        640: 100%|██████████| 60/60 [00:37<00:00,  1.62it/s]\n",
            "               classes   top1_acc   top5_acc: 100%|██████████| 1/1 [00:00<00:00, 19.63it/s]"
          ]
        },
        {
          "output_type": "stream",
          "name": "stdout",
          "text": [
            "                   all      0.774          1\n"
          ]
        },
        {
          "output_type": "stream",
          "name": "stderr",
          "text": [
            "\n"
          ]
        },
        {
          "output_type": "stream",
          "name": "stdout",
          "text": [
            "\n",
            "      Epoch    GPU_mem       loss  Instances       Size\n"
          ]
        },
        {
          "output_type": "stream",
          "name": "stderr",
          "text": [
            "     14/100      1.55G     0.1207          6        640: 100%|██████████| 60/60 [00:40<00:00,  1.50it/s]\n",
            "               classes   top1_acc   top5_acc: 100%|██████████| 1/1 [00:00<00:00, 14.84it/s]"
          ]
        },
        {
          "output_type": "stream",
          "name": "stdout",
          "text": [
            "                   all      0.871          1\n"
          ]
        },
        {
          "output_type": "stream",
          "name": "stderr",
          "text": [
            "\n"
          ]
        },
        {
          "output_type": "stream",
          "name": "stdout",
          "text": [
            "\n",
            "      Epoch    GPU_mem       loss  Instances       Size\n"
          ]
        },
        {
          "output_type": "stream",
          "name": "stderr",
          "text": [
            "     15/100      1.55G    0.09995          6        640: 100%|██████████| 60/60 [00:37<00:00,  1.61it/s]\n",
            "               classes   top1_acc   top5_acc: 100%|██████████| 1/1 [00:00<00:00, 17.66it/s]"
          ]
        },
        {
          "output_type": "stream",
          "name": "stdout",
          "text": [
            "                   all      0.871          1\n"
          ]
        },
        {
          "output_type": "stream",
          "name": "stderr",
          "text": [
            "\n"
          ]
        },
        {
          "output_type": "stream",
          "name": "stdout",
          "text": [
            "\n",
            "      Epoch    GPU_mem       loss  Instances       Size\n"
          ]
        },
        {
          "output_type": "stream",
          "name": "stderr",
          "text": [
            "     16/100      1.55G     0.1058          6        640: 100%|██████████| 60/60 [00:36<00:00,  1.63it/s]\n",
            "               classes   top1_acc   top5_acc: 100%|██████████| 1/1 [00:00<00:00, 15.01it/s]"
          ]
        },
        {
          "output_type": "stream",
          "name": "stdout",
          "text": [
            "                   all      0.839          1\n"
          ]
        },
        {
          "output_type": "stream",
          "name": "stderr",
          "text": [
            "\n"
          ]
        },
        {
          "output_type": "stream",
          "name": "stdout",
          "text": [
            "\n",
            "      Epoch    GPU_mem       loss  Instances       Size\n"
          ]
        },
        {
          "output_type": "stream",
          "name": "stderr",
          "text": [
            "     17/100      1.55G    0.09988          6        640: 100%|██████████| 60/60 [00:36<00:00,  1.65it/s]\n",
            "               classes   top1_acc   top5_acc: 100%|██████████| 1/1 [00:00<00:00, 16.38it/s]\n"
          ]
        },
        {
          "output_type": "stream",
          "name": "stdout",
          "text": [
            "                   all      0.839          1\n",
            "\n",
            "      Epoch    GPU_mem       loss  Instances       Size\n"
          ]
        },
        {
          "output_type": "stream",
          "name": "stderr",
          "text": [
            "     18/100      1.55G    0.09791          6        640: 100%|██████████| 60/60 [00:37<00:00,  1.59it/s]\n",
            "               classes   top1_acc   top5_acc: 100%|██████████| 1/1 [00:00<00:00, 15.78it/s]"
          ]
        },
        {
          "output_type": "stream",
          "name": "stdout",
          "text": [
            "                   all      0.839          1\n"
          ]
        },
        {
          "output_type": "stream",
          "name": "stderr",
          "text": [
            "\n"
          ]
        },
        {
          "output_type": "stream",
          "name": "stdout",
          "text": [
            "\n",
            "      Epoch    GPU_mem       loss  Instances       Size\n"
          ]
        },
        {
          "output_type": "stream",
          "name": "stderr",
          "text": [
            "     19/100      1.55G    0.08836          6        640: 100%|██████████| 60/60 [00:37<00:00,  1.58it/s]\n",
            "               classes   top1_acc   top5_acc: 100%|██████████| 1/1 [00:00<00:00, 16.84it/s]"
          ]
        },
        {
          "output_type": "stream",
          "name": "stdout",
          "text": [
            "                   all      0.774          1\n"
          ]
        },
        {
          "output_type": "stream",
          "name": "stderr",
          "text": [
            "\n"
          ]
        },
        {
          "output_type": "stream",
          "name": "stdout",
          "text": [
            "\n",
            "      Epoch    GPU_mem       loss  Instances       Size\n"
          ]
        },
        {
          "output_type": "stream",
          "name": "stderr",
          "text": [
            "     20/100      1.55G    0.09852          6        640: 100%|██████████| 60/60 [00:37<00:00,  1.62it/s]\n",
            "               classes   top1_acc   top5_acc: 100%|██████████| 1/1 [00:00<00:00, 17.77it/s]"
          ]
        },
        {
          "output_type": "stream",
          "name": "stdout",
          "text": [
            "                   all      0.871          1\n"
          ]
        },
        {
          "output_type": "stream",
          "name": "stderr",
          "text": [
            "\n"
          ]
        },
        {
          "output_type": "stream",
          "name": "stdout",
          "text": [
            "\n",
            "      Epoch    GPU_mem       loss  Instances       Size\n"
          ]
        },
        {
          "output_type": "stream",
          "name": "stderr",
          "text": [
            "     21/100      1.55G    0.08744          6        640: 100%|██████████| 60/60 [00:40<00:00,  1.47it/s]\n",
            "               classes   top1_acc   top5_acc: 100%|██████████| 1/1 [00:00<00:00, 20.32it/s]"
          ]
        },
        {
          "output_type": "stream",
          "name": "stdout",
          "text": [
            "                   all      0.806          1\n"
          ]
        },
        {
          "output_type": "stream",
          "name": "stderr",
          "text": [
            "\n"
          ]
        },
        {
          "output_type": "stream",
          "name": "stdout",
          "text": [
            "\n",
            "      Epoch    GPU_mem       loss  Instances       Size\n"
          ]
        },
        {
          "output_type": "stream",
          "name": "stderr",
          "text": [
            "     22/100      1.55G    0.05287          6        640: 100%|██████████| 60/60 [00:36<00:00,  1.64it/s]\n",
            "               classes   top1_acc   top5_acc: 100%|██████████| 1/1 [00:00<00:00, 14.30it/s]"
          ]
        },
        {
          "output_type": "stream",
          "name": "stdout",
          "text": [
            "                   all      0.839          1\n",
            "\u001b[34m\u001b[1mEarlyStopping: \u001b[0mTraining stopped early as no improvement observed in last 10 epochs. Best results observed at epoch 12, best model saved as best.pt.\n",
            "To update EarlyStopping(patience=10) pass a new patience value, i.e. `patience=300` or use `patience=0` to disable EarlyStopping.\n"
          ]
        },
        {
          "output_type": "stream",
          "name": "stderr",
          "text": [
            "\n"
          ]
        },
        {
          "output_type": "stream",
          "name": "stdout",
          "text": [
            "\n",
            "22 epochs completed in 0.246 hours.\n",
            "Optimizer stripped from runs/classify/train3/weights/last.pt, 3.0MB\n",
            "Optimizer stripped from runs/classify/train3/weights/best.pt, 3.0MB\n",
            "\n",
            "Validating runs/classify/train3/weights/best.pt...\n",
            "Ultralytics 8.3.51 🚀 Python-3.10.12 torch-2.5.1+cu121 CUDA:0 (Tesla T4, 15102MiB)\n",
            "YOLOv8n-cls summary (fused): 73 layers, 1,438,723 parameters, 0 gradients, 3.3 GFLOPs\n",
            "\u001b[34m\u001b[1mtrain:\u001b[0m /content/AOL AI/train... found 950 images in 3 classes ✅ \n",
            "\u001b[34m\u001b[1mval:\u001b[0m /content/AOL AI/val... found 31 images in 3 classes ✅ \n",
            "\u001b[34m\u001b[1mtest:\u001b[0m /content/AOL AI/test... found 244 images in 3 classes ✅ \n"
          ]
        },
        {
          "output_type": "stream",
          "name": "stderr",
          "text": [
            "\r               classes   top1_acc   top5_acc:   0%|          | 0/1 [00:00<?, ?it/s]"
          ]
        },
        {
          "output_type": "stream",
          "name": "stdout",
          "text": [
            "WARNING ⚠️ ClassificationModel does not support 'augment=True' prediction. Reverting to single-scale prediction.\n"
          ]
        },
        {
          "output_type": "stream",
          "name": "stderr",
          "text": [
            "\r               classes   top1_acc   top5_acc: 100%|██████████| 1/1 [00:00<00:00, 10.24it/s]\n"
          ]
        },
        {
          "output_type": "stream",
          "name": "stdout",
          "text": [
            "                   all      0.903          1\n",
            "Speed: 0.6ms preprocess, 1.5ms inference, 0.0ms loss, 0.0ms postprocess per image\n",
            "Results saved to \u001b[1mruns/classify/train3\u001b[0m\n",
            "Fold 2 Accuracy: 0.90\n",
            "Processing Fold 3...\n",
            "Ultralytics 8.3.51 🚀 Python-3.10.12 torch-2.5.1+cu121 CUDA:0 (Tesla T4, 15102MiB)\n",
            "\u001b[34m\u001b[1mengine/trainer: \u001b[0mtask=classify, mode=train, model=yolov8n-cls.pt, data=/content/AOL AI/, epochs=100, time=None, patience=10, batch=16, imgsz=640, save=True, save_period=-1, cache=False, device=None, workers=8, project=None, name=train4, exist_ok=False, pretrained=True, optimizer=SGD, verbose=True, seed=0, deterministic=True, single_cls=False, rect=False, cos_lr=False, close_mosaic=10, resume=False, amp=True, fraction=1.0, profile=False, freeze=None, multi_scale=False, overlap_mask=True, mask_ratio=4, dropout=0.0, val=True, split=val, save_json=False, save_hybrid=False, conf=None, iou=0.7, max_det=300, half=False, dnn=False, plots=True, source=None, vid_stride=1, stream_buffer=False, visualize=False, augment=True, agnostic_nms=False, classes=None, retina_masks=False, embed=None, show=False, save_frames=False, save_txt=False, save_conf=False, save_crop=False, show_labels=True, show_conf=True, show_boxes=True, line_width=None, format=torchscript, keras=False, optimize=False, int8=False, dynamic=False, simplify=True, opset=None, workspace=None, nms=False, lr0=0.01, lrf=0.01, momentum=0.937, weight_decay=0.0001, warmup_epochs=3.0, warmup_momentum=0.8, warmup_bias_lr=0.1, box=7.5, cls=0.5, dfl=1.5, pose=12.0, kobj=1.0, nbs=64, hsv_h=0.015, hsv_s=0.7, hsv_v=0.4, degrees=0.0, translate=0.1, scale=0.5, shear=0.0, perspective=0.0, flipud=0.0, fliplr=0.5, bgr=0.0, mosaic=1.0, mixup=0.0, copy_paste=0.0, copy_paste_mode=flip, auto_augment=randaugment, erasing=0.4, crop_fraction=1.0, cfg=None, tracker=botsort.yaml, save_dir=runs/classify/train4\n",
            "\u001b[34m\u001b[1mtrain:\u001b[0m /content/AOL AI/train... found 950 images in 3 classes ✅ \n",
            "\u001b[34m\u001b[1mval:\u001b[0m /content/AOL AI/val... found 31 images in 3 classes ✅ \n",
            "\u001b[34m\u001b[1mtest:\u001b[0m /content/AOL AI/test... found 244 images in 3 classes ✅ \n",
            "Overriding model.yaml nc=1000 with nc=3\n",
            "\n",
            "                   from  n    params  module                                       arguments                     \n",
            "  0                  -1  1       464  ultralytics.nn.modules.conv.Conv             [3, 16, 3, 2]                 \n",
            "  1                  -1  1      4672  ultralytics.nn.modules.conv.Conv             [16, 32, 3, 2]                \n",
            "  2                  -1  1      7360  ultralytics.nn.modules.block.C2f             [32, 32, 1, True]             \n",
            "  3                  -1  1     18560  ultralytics.nn.modules.conv.Conv             [32, 64, 3, 2]                \n",
            "  4                  -1  2     49664  ultralytics.nn.modules.block.C2f             [64, 64, 2, True]             \n",
            "  5                  -1  1     73984  ultralytics.nn.modules.conv.Conv             [64, 128, 3, 2]               \n",
            "  6                  -1  2    197632  ultralytics.nn.modules.block.C2f             [128, 128, 2, True]           \n",
            "  7                  -1  1    295424  ultralytics.nn.modules.conv.Conv             [128, 256, 3, 2]              \n",
            "  8                  -1  1    460288  ultralytics.nn.modules.block.C2f             [256, 256, 1, True]           \n",
            "  9                  -1  1    334083  ultralytics.nn.modules.head.Classify         [256, 3]                      \n",
            "YOLOv8n-cls summary: 99 layers, 1,442,131 parameters, 1,442,131 gradients, 3.4 GFLOPs\n",
            "Transferred 156/158 items from pretrained weights\n",
            "\u001b[34m\u001b[1mTensorBoard: \u001b[0mStart with 'tensorboard --logdir runs/classify/train4', view at http://localhost:6006/\n",
            "\u001b[34m\u001b[1mAMP: \u001b[0mrunning Automatic Mixed Precision (AMP) checks...\n",
            "\u001b[34m\u001b[1mAMP: \u001b[0mchecks passed ✅\n"
          ]
        },
        {
          "output_type": "stream",
          "name": "stderr",
          "text": [
            "\u001b[34m\u001b[1mtrain: \u001b[0mScanning /content/AOL AI/train... 950 images, 0 corrupt: 100%|██████████| 950/950 [00:00<?, ?it/s]\n",
            "\u001b[34m\u001b[1mval: \u001b[0mScanning /content/AOL AI/val... 31 images, 0 corrupt: 100%|██████████| 31/31 [00:00<?, ?it/s]\n"
          ]
        },
        {
          "output_type": "stream",
          "name": "stdout",
          "text": [
            "\u001b[34m\u001b[1moptimizer:\u001b[0m SGD(lr=0.01, momentum=0.937) with parameter groups 26 weight(decay=0.0), 27 weight(decay=0.0001), 27 bias(decay=0.0)\n",
            "\u001b[34m\u001b[1mTensorBoard: \u001b[0mmodel graph visualization added ✅\n",
            "Image sizes 640 train, 640 val\n",
            "Using 2 dataloader workers\n",
            "Logging results to \u001b[1mruns/classify/train4\u001b[0m\n",
            "Starting training for 100 epochs...\n",
            "\n",
            "      Epoch    GPU_mem       loss  Instances       Size\n"
          ]
        },
        {
          "output_type": "stream",
          "name": "stderr",
          "text": [
            "      1/100      1.58G      1.066          6        640: 100%|██████████| 60/60 [00:38<00:00,  1.54it/s]\n",
            "               classes   top1_acc   top5_acc: 100%|██████████| 1/1 [00:00<00:00, 15.90it/s]"
          ]
        },
        {
          "output_type": "stream",
          "name": "stdout",
          "text": [
            "                   all      0.387          1\n"
          ]
        },
        {
          "output_type": "stream",
          "name": "stderr",
          "text": [
            "\n"
          ]
        },
        {
          "output_type": "stream",
          "name": "stdout",
          "text": [
            "\n",
            "      Epoch    GPU_mem       loss  Instances       Size\n"
          ]
        },
        {
          "output_type": "stream",
          "name": "stderr",
          "text": [
            "      2/100      1.64G     0.9065          6        640: 100%|██████████| 60/60 [00:34<00:00,  1.72it/s]\n",
            "               classes   top1_acc   top5_acc: 100%|██████████| 1/1 [00:00<00:00, 13.98it/s]"
          ]
        },
        {
          "output_type": "stream",
          "name": "stdout",
          "text": [
            "                   all      0.323          1\n"
          ]
        },
        {
          "output_type": "stream",
          "name": "stderr",
          "text": [
            "\n"
          ]
        },
        {
          "output_type": "stream",
          "name": "stdout",
          "text": [
            "\n",
            "      Epoch    GPU_mem       loss  Instances       Size\n"
          ]
        },
        {
          "output_type": "stream",
          "name": "stderr",
          "text": [
            "      3/100      1.56G     0.7909          6        640: 100%|██████████| 60/60 [00:37<00:00,  1.61it/s]\n",
            "               classes   top1_acc   top5_acc: 100%|██████████| 1/1 [00:00<00:00, 14.00it/s]"
          ]
        },
        {
          "output_type": "stream",
          "name": "stdout",
          "text": [
            "                   all      0.419          1\n"
          ]
        },
        {
          "output_type": "stream",
          "name": "stderr",
          "text": [
            "\n"
          ]
        },
        {
          "output_type": "stream",
          "name": "stdout",
          "text": [
            "\n",
            "      Epoch    GPU_mem       loss  Instances       Size\n"
          ]
        },
        {
          "output_type": "stream",
          "name": "stderr",
          "text": [
            "      4/100      1.56G     0.5641          6        640: 100%|██████████| 60/60 [00:35<00:00,  1.68it/s]\n",
            "               classes   top1_acc   top5_acc: 100%|██████████| 1/1 [00:00<00:00, 13.58it/s]"
          ]
        },
        {
          "output_type": "stream",
          "name": "stdout",
          "text": [
            "                   all      0.613          1\n"
          ]
        },
        {
          "output_type": "stream",
          "name": "stderr",
          "text": [
            "\n"
          ]
        },
        {
          "output_type": "stream",
          "name": "stdout",
          "text": [
            "\n",
            "      Epoch    GPU_mem       loss  Instances       Size\n"
          ]
        },
        {
          "output_type": "stream",
          "name": "stderr",
          "text": [
            "      5/100      1.56G     0.5367          6        640: 100%|██████████| 60/60 [00:41<00:00,  1.45it/s]\n",
            "               classes   top1_acc   top5_acc: 100%|██████████| 1/1 [00:00<00:00, 11.88it/s]"
          ]
        },
        {
          "output_type": "stream",
          "name": "stdout",
          "text": [
            "                   all      0.742          1\n"
          ]
        },
        {
          "output_type": "stream",
          "name": "stderr",
          "text": [
            "\n"
          ]
        },
        {
          "output_type": "stream",
          "name": "stdout",
          "text": [
            "\n",
            "      Epoch    GPU_mem       loss  Instances       Size\n"
          ]
        },
        {
          "output_type": "stream",
          "name": "stderr",
          "text": [
            "      6/100      1.56G     0.3998          6        640: 100%|██████████| 60/60 [00:36<00:00,  1.66it/s]\n",
            "               classes   top1_acc   top5_acc: 100%|██████████| 1/1 [00:00<00:00, 11.78it/s]"
          ]
        },
        {
          "output_type": "stream",
          "name": "stdout",
          "text": [
            "                   all      0.839          1\n"
          ]
        },
        {
          "output_type": "stream",
          "name": "stderr",
          "text": [
            "\n"
          ]
        },
        {
          "output_type": "stream",
          "name": "stdout",
          "text": [
            "\n",
            "      Epoch    GPU_mem       loss  Instances       Size\n"
          ]
        },
        {
          "output_type": "stream",
          "name": "stderr",
          "text": [
            "      7/100      1.56G     0.3658          6        640: 100%|██████████| 60/60 [00:36<00:00,  1.64it/s]\n",
            "               classes   top1_acc   top5_acc: 100%|██████████| 1/1 [00:00<00:00, 14.13it/s]"
          ]
        },
        {
          "output_type": "stream",
          "name": "stdout",
          "text": [
            "                   all       0.71          1\n"
          ]
        },
        {
          "output_type": "stream",
          "name": "stderr",
          "text": [
            "\n"
          ]
        },
        {
          "output_type": "stream",
          "name": "stdout",
          "text": [
            "\n",
            "      Epoch    GPU_mem       loss  Instances       Size\n"
          ]
        },
        {
          "output_type": "stream",
          "name": "stderr",
          "text": [
            "      8/100      1.56G     0.2383          6        640: 100%|██████████| 60/60 [00:35<00:00,  1.70it/s]\n",
            "               classes   top1_acc   top5_acc: 100%|██████████| 1/1 [00:00<00:00, 16.76it/s]"
          ]
        },
        {
          "output_type": "stream",
          "name": "stdout",
          "text": [
            "                   all      0.871          1\n"
          ]
        },
        {
          "output_type": "stream",
          "name": "stderr",
          "text": [
            "\n"
          ]
        },
        {
          "output_type": "stream",
          "name": "stdout",
          "text": [
            "\n",
            "      Epoch    GPU_mem       loss  Instances       Size\n"
          ]
        },
        {
          "output_type": "stream",
          "name": "stderr",
          "text": [
            "      9/100      1.56G     0.2317          6        640: 100%|██████████| 60/60 [00:35<00:00,  1.70it/s]\n",
            "               classes   top1_acc   top5_acc: 100%|██████████| 1/1 [00:00<00:00, 12.19it/s]"
          ]
        },
        {
          "output_type": "stream",
          "name": "stdout",
          "text": [
            "                   all      0.774          1\n"
          ]
        },
        {
          "output_type": "stream",
          "name": "stderr",
          "text": [
            "\n"
          ]
        },
        {
          "output_type": "stream",
          "name": "stdout",
          "text": [
            "\n",
            "      Epoch    GPU_mem       loss  Instances       Size\n"
          ]
        },
        {
          "output_type": "stream",
          "name": "stderr",
          "text": [
            "     10/100      1.56G     0.1635          6        640: 100%|██████████| 60/60 [00:34<00:00,  1.74it/s]\n",
            "               classes   top1_acc   top5_acc: 100%|██████████| 1/1 [00:00<00:00, 12.56it/s]"
          ]
        },
        {
          "output_type": "stream",
          "name": "stdout",
          "text": [
            "                   all      0.839          1\n"
          ]
        },
        {
          "output_type": "stream",
          "name": "stderr",
          "text": [
            "\n"
          ]
        },
        {
          "output_type": "stream",
          "name": "stdout",
          "text": [
            "\n",
            "      Epoch    GPU_mem       loss  Instances       Size\n"
          ]
        },
        {
          "output_type": "stream",
          "name": "stderr",
          "text": [
            "     11/100      1.56G     0.1766          6        640: 100%|██████████| 60/60 [00:37<00:00,  1.59it/s]\n",
            "               classes   top1_acc   top5_acc: 100%|██████████| 1/1 [00:00<00:00, 15.21it/s]"
          ]
        },
        {
          "output_type": "stream",
          "name": "stdout",
          "text": [
            "                   all      0.839          1\n"
          ]
        },
        {
          "output_type": "stream",
          "name": "stderr",
          "text": [
            "\n"
          ]
        },
        {
          "output_type": "stream",
          "name": "stdout",
          "text": [
            "\n",
            "      Epoch    GPU_mem       loss  Instances       Size\n"
          ]
        },
        {
          "output_type": "stream",
          "name": "stderr",
          "text": [
            "     12/100      1.56G      0.185          6        640: 100%|██████████| 60/60 [00:41<00:00,  1.46it/s]\n",
            "               classes   top1_acc   top5_acc: 100%|██████████| 1/1 [00:00<00:00, 14.24it/s]"
          ]
        },
        {
          "output_type": "stream",
          "name": "stdout",
          "text": [
            "                   all      0.903          1\n"
          ]
        },
        {
          "output_type": "stream",
          "name": "stderr",
          "text": [
            "\n"
          ]
        },
        {
          "output_type": "stream",
          "name": "stdout",
          "text": [
            "\n",
            "      Epoch    GPU_mem       loss  Instances       Size\n"
          ]
        },
        {
          "output_type": "stream",
          "name": "stderr",
          "text": [
            "     13/100      1.56G     0.1169          6        640: 100%|██████████| 60/60 [00:36<00:00,  1.63it/s]\n",
            "               classes   top1_acc   top5_acc: 100%|██████████| 1/1 [00:00<00:00, 17.28it/s]"
          ]
        },
        {
          "output_type": "stream",
          "name": "stdout",
          "text": [
            "                   all      0.774          1\n"
          ]
        },
        {
          "output_type": "stream",
          "name": "stderr",
          "text": [
            "\n"
          ]
        },
        {
          "output_type": "stream",
          "name": "stdout",
          "text": [
            "\n",
            "      Epoch    GPU_mem       loss  Instances       Size\n"
          ]
        },
        {
          "output_type": "stream",
          "name": "stderr",
          "text": [
            "     14/100      1.56G     0.1207          6        640: 100%|██████████| 60/60 [00:36<00:00,  1.66it/s]\n",
            "               classes   top1_acc   top5_acc: 100%|██████████| 1/1 [00:00<00:00, 14.68it/s]"
          ]
        },
        {
          "output_type": "stream",
          "name": "stdout",
          "text": [
            "                   all      0.871          1\n"
          ]
        },
        {
          "output_type": "stream",
          "name": "stderr",
          "text": [
            "\n"
          ]
        },
        {
          "output_type": "stream",
          "name": "stdout",
          "text": [
            "\n",
            "      Epoch    GPU_mem       loss  Instances       Size\n"
          ]
        },
        {
          "output_type": "stream",
          "name": "stderr",
          "text": [
            "     15/100      1.56G    0.09995          6        640: 100%|██████████| 60/60 [00:36<00:00,  1.66it/s]\n",
            "               classes   top1_acc   top5_acc: 100%|██████████| 1/1 [00:00<00:00, 14.05it/s]"
          ]
        },
        {
          "output_type": "stream",
          "name": "stdout",
          "text": [
            "                   all      0.871          1\n"
          ]
        },
        {
          "output_type": "stream",
          "name": "stderr",
          "text": [
            "\n"
          ]
        },
        {
          "output_type": "stream",
          "name": "stdout",
          "text": [
            "\n",
            "      Epoch    GPU_mem       loss  Instances       Size\n"
          ]
        },
        {
          "output_type": "stream",
          "name": "stderr",
          "text": [
            "     16/100      1.56G     0.1058          6        640: 100%|██████████| 60/60 [00:35<00:00,  1.67it/s]\n",
            "               classes   top1_acc   top5_acc: 100%|██████████| 1/1 [00:00<00:00, 17.99it/s]"
          ]
        },
        {
          "output_type": "stream",
          "name": "stdout",
          "text": [
            "                   all      0.839          1\n"
          ]
        },
        {
          "output_type": "stream",
          "name": "stderr",
          "text": [
            "\n"
          ]
        },
        {
          "output_type": "stream",
          "name": "stdout",
          "text": [
            "\n",
            "      Epoch    GPU_mem       loss  Instances       Size\n"
          ]
        },
        {
          "output_type": "stream",
          "name": "stderr",
          "text": [
            "     17/100      1.56G    0.09988          6        640: 100%|██████████| 60/60 [00:35<00:00,  1.69it/s]\n",
            "               classes   top1_acc   top5_acc: 100%|██████████| 1/1 [00:00<00:00, 13.78it/s]"
          ]
        },
        {
          "output_type": "stream",
          "name": "stdout",
          "text": [
            "                   all      0.839          1\n"
          ]
        },
        {
          "output_type": "stream",
          "name": "stderr",
          "text": [
            "\n"
          ]
        },
        {
          "output_type": "stream",
          "name": "stdout",
          "text": [
            "\n",
            "      Epoch    GPU_mem       loss  Instances       Size\n"
          ]
        },
        {
          "output_type": "stream",
          "name": "stderr",
          "text": [
            "     18/100      1.56G    0.09791          6        640: 100%|██████████| 60/60 [00:36<00:00,  1.65it/s]\n",
            "               classes   top1_acc   top5_acc: 100%|██████████| 1/1 [00:00<00:00,  9.92it/s]"
          ]
        },
        {
          "output_type": "stream",
          "name": "stdout",
          "text": [
            "                   all      0.839          1\n"
          ]
        },
        {
          "output_type": "stream",
          "name": "stderr",
          "text": [
            "\n"
          ]
        },
        {
          "output_type": "stream",
          "name": "stdout",
          "text": [
            "\n",
            "      Epoch    GPU_mem       loss  Instances       Size\n"
          ]
        },
        {
          "output_type": "stream",
          "name": "stderr",
          "text": [
            "     19/100      1.56G    0.08836          6        640: 100%|██████████| 60/60 [00:41<00:00,  1.45it/s]\n",
            "               classes   top1_acc   top5_acc: 100%|██████████| 1/1 [00:00<00:00, 13.02it/s]"
          ]
        },
        {
          "output_type": "stream",
          "name": "stdout",
          "text": [
            "                   all      0.774          1\n"
          ]
        },
        {
          "output_type": "stream",
          "name": "stderr",
          "text": [
            "\n"
          ]
        },
        {
          "output_type": "stream",
          "name": "stdout",
          "text": [
            "\n",
            "      Epoch    GPU_mem       loss  Instances       Size\n"
          ]
        },
        {
          "output_type": "stream",
          "name": "stderr",
          "text": [
            "     20/100      1.56G    0.09852          6        640: 100%|██████████| 60/60 [00:36<00:00,  1.65it/s]\n",
            "               classes   top1_acc   top5_acc: 100%|██████████| 1/1 [00:00<00:00, 15.74it/s]"
          ]
        },
        {
          "output_type": "stream",
          "name": "stdout",
          "text": [
            "                   all      0.871          1\n"
          ]
        },
        {
          "output_type": "stream",
          "name": "stderr",
          "text": [
            "\n"
          ]
        },
        {
          "output_type": "stream",
          "name": "stdout",
          "text": [
            "\n",
            "      Epoch    GPU_mem       loss  Instances       Size\n"
          ]
        },
        {
          "output_type": "stream",
          "name": "stderr",
          "text": [
            "     21/100      1.56G    0.08744          6        640: 100%|██████████| 60/60 [00:35<00:00,  1.68it/s]\n",
            "               classes   top1_acc   top5_acc: 100%|██████████| 1/1 [00:00<00:00, 13.13it/s]"
          ]
        },
        {
          "output_type": "stream",
          "name": "stdout",
          "text": [
            "                   all      0.806          1\n"
          ]
        },
        {
          "output_type": "stream",
          "name": "stderr",
          "text": [
            "\n"
          ]
        },
        {
          "output_type": "stream",
          "name": "stdout",
          "text": [
            "\n",
            "      Epoch    GPU_mem       loss  Instances       Size\n"
          ]
        },
        {
          "output_type": "stream",
          "name": "stderr",
          "text": [
            "     22/100      1.56G    0.05287          6        640: 100%|██████████| 60/60 [00:35<00:00,  1.70it/s]\n",
            "               classes   top1_acc   top5_acc: 100%|██████████| 1/1 [00:00<00:00, 13.41it/s]"
          ]
        },
        {
          "output_type": "stream",
          "name": "stdout",
          "text": [
            "                   all      0.839          1\n",
            "\u001b[34m\u001b[1mEarlyStopping: \u001b[0mTraining stopped early as no improvement observed in last 10 epochs. Best results observed at epoch 12, best model saved as best.pt.\n",
            "To update EarlyStopping(patience=10) pass a new patience value, i.e. `patience=300` or use `patience=0` to disable EarlyStopping.\n"
          ]
        },
        {
          "output_type": "stream",
          "name": "stderr",
          "text": [
            "\n"
          ]
        },
        {
          "output_type": "stream",
          "name": "stdout",
          "text": [
            "\n",
            "22 epochs completed in 0.245 hours.\n",
            "Optimizer stripped from runs/classify/train4/weights/last.pt, 3.0MB\n",
            "Optimizer stripped from runs/classify/train4/weights/best.pt, 3.0MB\n",
            "\n",
            "Validating runs/classify/train4/weights/best.pt...\n",
            "Ultralytics 8.3.51 🚀 Python-3.10.12 torch-2.5.1+cu121 CUDA:0 (Tesla T4, 15102MiB)\n",
            "YOLOv8n-cls summary (fused): 73 layers, 1,438,723 parameters, 0 gradients, 3.3 GFLOPs\n",
            "\u001b[34m\u001b[1mtrain:\u001b[0m /content/AOL AI/train... found 950 images in 3 classes ✅ \n",
            "\u001b[34m\u001b[1mval:\u001b[0m /content/AOL AI/val... found 31 images in 3 classes ✅ \n",
            "\u001b[34m\u001b[1mtest:\u001b[0m /content/AOL AI/test... found 244 images in 3 classes ✅ \n"
          ]
        },
        {
          "output_type": "stream",
          "name": "stderr",
          "text": [
            "\r               classes   top1_acc   top5_acc:   0%|          | 0/1 [00:00<?, ?it/s]"
          ]
        },
        {
          "output_type": "stream",
          "name": "stdout",
          "text": [
            "WARNING ⚠️ ClassificationModel does not support 'augment=True' prediction. Reverting to single-scale prediction.\n"
          ]
        },
        {
          "output_type": "stream",
          "name": "stderr",
          "text": [
            "\r               classes   top1_acc   top5_acc: 100%|██████████| 1/1 [00:00<00:00, 10.84it/s]\n"
          ]
        },
        {
          "output_type": "stream",
          "name": "stdout",
          "text": [
            "                   all      0.903          1\n",
            "Speed: 0.8ms preprocess, 1.9ms inference, 0.0ms loss, 0.0ms postprocess per image\n",
            "Results saved to \u001b[1mruns/classify/train4\u001b[0m\n",
            "Fold 3 Accuracy: 0.90\n"
          ]
        }
      ]
    },
    {
      "cell_type": "code",
      "source": [
        "# Compute mean and standard deviation of accuracies\n",
        "mean_accuracy = np.mean(fold_accuracies)\n",
        "std_accuracy = np.std(fold_accuracies)\n",
        "\n",
        "# Print aggregated results\n",
        "print(f\"Cross-Validation Accuracies: {fold_accuracies}\")\n",
        "print(f\"Mean Accuracy: {mean_accuracy:.2f}\")\n",
        "print(f\"Standard Deviation: {std_accuracy:.2f}\")\n"
      ],
      "metadata": {
        "colab": {
          "base_uri": "https://localhost:8080/"
        },
        "id": "oNd8ZkMqSZkD",
        "outputId": "2f75eeda-1a87-4630-e6fc-b5a046050dff"
      },
      "execution_count": 11,
      "outputs": [
        {
          "output_type": "stream",
          "name": "stdout",
          "text": [
            "Cross-Validation Accuracies: [0.9032257795333862, 0.9032257795333862, 0.9032257795333862]\n",
            "Mean Accuracy: 0.90\n",
            "Standard Deviation: 0.00\n"
          ]
        }
      ]
    },
    {
      "cell_type": "code",
      "source": [
        "!scp -r /content/runs '/content/gdrive/My Drive/AOL AI'"
      ],
      "metadata": {
        "id": "LO__T_aiAwsj"
      },
      "execution_count": 12,
      "outputs": []
    }
  ]
}